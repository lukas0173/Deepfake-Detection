{
 "cells": [
  {
   "cell_type": "code",
   "execution_count": 5,
   "id": "d4ffe0d8-0e04-4df8-b096-d58750cd4f06",
   "metadata": {},
   "outputs": [],
   "source": [
    "import os\n",
    "import pandas as pd\n",
    "import numpy as np\n",
    "import cv2\n",
    "import matplotlib.pyplot as plt\n",
    "import seaborn as sns\n",
    "from sklearn.preprocessing import LabelEncoder"
   ]
  },
  {
   "cell_type": "markdown",
   "id": "26754638-9d05-419f-a188-647c15c33b57",
   "metadata": {},
   "source": [
    "# Indexing and Loading the Dataset"
   ]
  },
  {
   "cell_type": "markdown",
   "id": "176fe8ec-3d6e-4207-8026-2409c268e5d3",
   "metadata": {},
   "source": [
    "We scan the folder structure to create a metadata DataFrame, capturing file paths, labels (real/fake), and sources. This provides a centralized view of the dataset, essential for handling large video collections. For Celeb-DF-v2, this reveals class imbalance (far more fakes than reals), which is common in deepfake datasets and can bias models toward over-detecting fakes. We also integrate the test list to separate evaluation data early, preventing data leakage."
   ]
  },
  {
   "cell_type": "code",
   "execution_count": 14,
   "id": "226bc6f4-0427-421f-8399-36d89172af84",
   "metadata": {},
   "outputs": [
    {
     "name": "stdout",
     "output_type": "stream",
     "text": [
      "        filename      folder label  \\\n",
      "0  id60_0005.mp4  Celeb-real  real   \n",
      "1   id2_0004.mp4  Celeb-real  real   \n",
      "2  id43_0001.mp4  Celeb-real  real   \n",
      "3  id60_0002.mp4  Celeb-real  real   \n",
      "4  id35_0000.mp4  Celeb-real  real   \n",
      "\n",
      "                                       filepath  is_test  \n",
      "0  dataset/Celeb-DF-v2/Celeb-real/id60_0005.mp4    False  \n",
      "1   dataset/Celeb-DF-v2/Celeb-real/id2_0004.mp4    False  \n",
      "2  dataset/Celeb-DF-v2/Celeb-real/id43_0001.mp4    False  \n",
      "3  dataset/Celeb-DF-v2/Celeb-real/id60_0002.mp4    False  \n",
      "4  dataset/Celeb-DF-v2/Celeb-real/id35_0000.mp4    False  \n",
      "Total videos: 6529\n"
     ]
    },
    {
     "data": {
      "text/plain": [
       "6529"
      ]
     },
     "execution_count": 14,
     "metadata": {},
     "output_type": "execute_result"
    }
   ],
   "source": [
    "base_path = 'dataset/Celeb-DF-v2'  # Replace with your actual path\n",
    "\n",
    "# Define folders and labels\n",
    "folders = {\n",
    "    'real': ['Celeb-real', 'YouTube-real'],\n",
    "    'fake': ['Celeb-synthesis']\n",
    "}\n",
    "\n",
    "# Collect file metadata\n",
    "file_records = []\n",
    "for label, subfolders in folders.items():\n",
    "    for subfolder in subfolders:\n",
    "        full_path = os.path.join(base_path, subfolder)\n",
    "        if os.path.exists(full_path):\n",
    "            for fname in os.listdir(full_path):\n",
    "                if fname.endswith('.mp4'):\n",
    "                    file_records.append({\n",
    "                        'filename': fname,\n",
    "                        'folder': subfolder,\n",
    "                        'label': label,\n",
    "                        'filepath': os.path.join(full_path, fname)\n",
    "                    })\n",
    "        else:\n",
    "            print(f\"Warning: Folder {full_path} not found.\")\n",
    "\n",
    "metadata = pd.DataFrame(file_records)\n",
    "\n",
    "# Load and tag test videos\n",
    "test_file = os.path.join(base_path, 'List_of_testing_videos.txt')\n",
    "if os.path.exists(test_file):\n",
    "    with open(test_file, 'r') as f:\n",
    "        test_videos = {line.strip() for line in f if line.strip()}\n",
    "    metadata['is_test'] = metadata.apply(\n",
    "        lambda row: f\"{row['folder']}/{row['filename']}\" in test_videos, axis=1\n",
    "    )\n",
    "else:\n",
    "    print(\"Warning: List_of_testing_videos.txt not found.\")\n",
    "    metadata['is_test'] = False\n",
    "\n",
    "# Save metadata for reuse\n",
    "metadata.to_csv('celeb_df_metadata.csv', index=False)\n",
    "print(metadata.head())\n",
    "print(f\"Total videos: {len(metadata)}\")\n",
    "len(metadata[metadata['is_test'] == False])"
   ]
  }
 ],
 "metadata": {
  "kernelspec": {
   "display_name": "Deepfake-Detection",
   "language": "python",
   "name": "deepfake-detection"
  },
  "language_info": {
   "codemirror_mode": {
    "name": "ipython",
    "version": 3
   },
   "file_extension": ".py",
   "mimetype": "text/x-python",
   "name": "python",
   "nbconvert_exporter": "python",
   "pygments_lexer": "ipython3",
   "version": "3.11.9"
  }
 },
 "nbformat": 4,
 "nbformat_minor": 5
}
