{
 "cells": [
  {
   "cell_type": "code",
   "execution_count": 1,
   "metadata": {
    "_cell_guid": "b1076dfc-b9ad-4769-8c92-a6c4dae69d19",
    "_uuid": "8f2839f25d086af736a60e9eeb907d3b93b6e0e5",
    "editable": true,
    "slideshow": {
     "slide_type": ""
    },
    "tags": []
   },
   "outputs": [],
   "source": [
    "import logging\n",
    "import multiprocessing\n",
    "import os\n",
    "import random\n",
    "import sys\n",
    "\n",
    "import cv2\n",
    "import matplotlib.pyplot as plt\n",
    "import numpy as np\n",
    "import pandas as pd\n",
    "import torch\n",
    "import torch.nn as nn\n",
    "import torch.optim as optim\n",
    "import torchvision.transforms as transforms\n",
    "from facenet_pytorch import MTCNN\n",
    "from PIL import Image\n",
    "from sklearn.metrics import (\n",
    "    accuracy_score,\n",
    "    precision_recall_curve,\n",
    "    roc_auc_score,\n",
    "    roc_curve,\n",
    ")\n",
    "from sklearn.model_selection import train_test_split\n",
    "from torch.cuda.amp import GradScaler, autocast\n",
    "from torch.optim.lr_scheduler import CosineAnnealingLR\n",
    "from torch.utils.data import DataLoader, Dataset, WeightedRandomSampler\n",
    "\n",
    "from deepfake_dataset import DeepfakeDataset, collate_fn\n",
    "from worker import worker_init_fn"
   ]
  },
  {
   "cell_type": "code",
   "execution_count": 2,
   "metadata": {},
   "outputs": [],
   "source": [
    "BASE_VIDEO_PATH = \"./dataset\"\n",
    "METADATA_PATH = \"./dataset/celeb_df_metadata.csv\""
   ]
  },
  {
   "cell_type": "markdown",
   "metadata": {},
   "source": [
    "# Data Preprocessing Pipeline"
   ]
  },
  {
   "cell_type": "markdown",
   "metadata": {},
   "source": [
    "Imports and Logging Setup: This section imports necessary libraries (e.g., cv2 for video handling, torch for tensors, MTCNN for face detection) and configures logging. Logging is crucial for robustness, as the PDF highlights potential issues like corrupted videos or face detection failures; it allows tracking warnings/errors without crashing the pipeline.\n",
    "\n",
    "Class Initialization (__init__): Initializes the dataset with metadata, transformations, frame count, and image size. It sets up MTCNN for face detection on GPU if available, ensuring efficiency for large datasets like Celeb-DF-v2 with varying video qualities.\n",
    "\n",
    "Length Method (__len__): Returns the number of videos in the metadata, enabling PyTorch's DataLoader to iterate correctly. This is standard but essential for handling the imbalanced dataset size (890 real vs. 5639 fake).\n",
    "\n",
    "Face Extraction Method (extract_faces_from_video): Handles video reading with error checks (e.g., file existence, opening failures) to prevent crashes on problematic files. It uses adaptive sampling (random for short videos, uniform for longer ones) to capture temporal information without bias, extracts faces via MTCNN, and logs failures for debugging.\n",
    "\n",
    "Item Retrieval Method (__getitem__): Fetches a video's data by index, assigns binary labels (0 for real, 1 for fake), extracts faces, and handles shortages with noise-added repetitions to avoid overfitting on duplicates. It applies transformations and stacks frames into a tensor, preparing consistent inputs despite dataset variability."
   ]
  },
  {
   "cell_type": "code",
   "execution_count": 3,
   "metadata": {},
   "outputs": [],
   "source": [
    "# Setup logging for robustness\n",
    "logging.basicConfig(\n",
    "    level=logging.INFO, format=\"%(asctime)s - %(levelname)s - %(message)s\"\n",
    ")\n",
    "# Reconfigure the root logger to ensure output appears in the notebook\n",
    "logger = logging.getLogger()\n",
    "logger.handlers = []  # Clear any existing handlers\n",
    "handler = logging.StreamHandler(\n",
    "    sys.stdout\n",
    ")  # Create a new handler to stream to the console\n",
    "formatter = logging.Formatter(\"%(asctime)s - %(levelname)s - %(message)s\")\n",
    "handler.setFormatter(formatter)\n",
    "logger.addHandler(handler)"
   ]
  },
  {
   "cell_type": "markdown",
   "metadata": {},
   "source": [
    "# Data Augmentation and Transforms"
   ]
  },
  {
   "cell_type": "markdown",
   "metadata": {},
   "source": [
    "Training Transforms (train_transforms): Composes a sequence of augmentations starting with PIL conversion for compatibility, resizing to 224x224 (standard for backbones like EfficientNet), and random flips/rotations to simulate pose variations. Color jitter and affine shear address lighting/quality inconsistencies, enhancing robustness without masking deepfake artifacts; normalization uses ImageNet stats for transfer learning.\n",
    "\n",
    "Validation Transforms (val_transforms): A minimal composition for evaluation, including PIL conversion, resizing, tensor conversion, and normalization. This ensures consistent inputs without random augmentations, allowing fair assessment of model generalization on the imbalanced validation set."
   ]
  },
  {
   "cell_type": "code",
   "execution_count": 4,
   "metadata": {},
   "outputs": [],
   "source": [
    "# Define enhanced data augmentation for training robustness, considering dataset variability\n",
    "train_transforms = transforms.Compose(\n",
    "    [\n",
    "        transforms.ToPILImage(),\n",
    "        transforms.RandomHorizontalFlip(p=0.5),\n",
    "        transforms.RandomRotation(degrees=15),\n",
    "        transforms.ColorJitter(brightness=0.4, contrast=0.4, saturation=0.4, hue=0.1),\n",
    "        transforms.RandomAffine(degrees=0, shear=10),\n",
    "        transforms.ToTensor(),\n",
    "        transforms.Normalize(mean=[0.485, 0.456, 0.406], std=[0.229, 0.224, 0.225]),\n",
    "    ]\n",
    ")\n",
    "\n",
    "val_transforms = transforms.Compose(\n",
    "    [\n",
    "        transforms.ToPILImage(),\n",
    "        transforms.ToTensor(),\n",
    "        transforms.Normalize(mean=[0.485, 0.456, 0.406], std=[0.229, 0.224, 0.225]),\n",
    "    ]\n",
    ")"
   ]
  },
  {
   "cell_type": "markdown",
   "metadata": {},
   "source": [
    "# Model Architecture Implementation"
   ]
  },
  {
   "cell_type": "markdown",
   "metadata": {},
   "source": [
    "Class Initialization (__init__): Sets up the model with frame count (20 for better temporal coverage), selects a pretrained CNN backbone (e.g., EfficientNet-B4 for efficiency on facial details), and defines bidirectional LSTMs for temporal analysis, attention layers for focusing on key frames, and a classifier with batch norm/dropout for stability on imbalanced data.\n",
    "\n",
    "Forward Pass (forward): Reshapes input for batch CNN processing, extracts features with mixed precision for speed, reshapes for LSTM, applies bidirectional temporal modeling to detect inconsistencies, weights frames via attention (useful for variable-length videos), and classifies via dense layers, outputting a sigmoid probability for real/fake."
   ]
  },
  {
   "cell_type": "code",
   "execution_count": 5,
   "metadata": {},
   "outputs": [],
   "source": [
    "import torchvision.models as models\n",
    "from torch.cuda.amp import autocast\n",
    "from torch.nn import functional as F\n",
    "\n",
    "\n",
    "class DeepfakeDetector(nn.Module):\n",
    "    def __init__(self, num_frames=20, backbone=\"efficientnet_b4\", dropout_rate=0.6):\n",
    "        super(DeepfakeDetector, self).__init__()\n",
    "        self.num_frames = num_frames\n",
    "\n",
    "        # CNN Backbone for feature extraction\n",
    "        if backbone == \"efficientnet_b4\":\n",
    "            weights = models.EfficientNet_B4_Weights.IMAGENET1K_V1\n",
    "            # self.backbone = models.efficientnet_b4(pretrained=True)\n",
    "            self.backbone = models.efficientnet_b4(weights=weights)\n",
    "            self.backbone.classifier = nn.Identity()  # Remove final classifier\n",
    "            feature_dim = 1792\n",
    "        elif backbone == \"resnet50\":\n",
    "            weights = models.ResNet50_Weights.IMAGENET1K_V1\n",
    "            self.backbone = models.resnet50(weights=weights)\n",
    "            # self.backbone = models.resnet50(pretrained=True)\n",
    "            self.backbone.fc = nn.Identity()\n",
    "            feature_dim = 2048\n",
    "\n",
    "        # Temporal processing layers with bidirectional LSTM for better sequence modeling\n",
    "        self.lstm = nn.LSTM(\n",
    "            input_size=feature_dim,\n",
    "            hidden_size=512,\n",
    "            num_layers=3,\n",
    "            batch_first=True,\n",
    "            dropout=dropout_rate,\n",
    "            bidirectional=True,\n",
    "        )\n",
    "\n",
    "        # Attention mechanism for frame importance weighting\n",
    "        self.attention = nn.Sequential(\n",
    "            nn.Linear(1024, 256), nn.ReLU(), nn.Linear(256, 1), nn.Softmax(dim=1)\n",
    "        )\n",
    "\n",
    "        # Final classification layers with additional regularization\n",
    "        self.classifier = nn.Sequential(\n",
    "            nn.Linear(1024, 256),  # Adjusted for bidirectional\n",
    "            nn.BatchNorm1d(256),  # Added for stability\n",
    "            nn.ReLU(),\n",
    "            nn.Dropout(dropout_rate),\n",
    "            nn.Linear(256, 128),\n",
    "            nn.ReLU(),\n",
    "            nn.Dropout(dropout_rate),\n",
    "            nn.Linear(128, 1),\n",
    "            # nn.Sigmoid()\n",
    "        )\n",
    "\n",
    "    def forward(self, x):\n",
    "        batch_size, num_frames, C, H, W = x.shape\n",
    "        x = x.view(batch_size * num_frames, C, H, W)\n",
    "\n",
    "        # Use torch.amp.autocast for mixed precision\n",
    "        with torch.amp.autocast(device_type=\"cuda\"):\n",
    "            features = self.backbone(x)\n",
    "\n",
    "        features = features.view(batch_size, num_frames, -1)\n",
    "        lstm_out, _ = self.lstm(features)\n",
    "\n",
    "        attention_weights = self.attention(lstm_out)\n",
    "\n",
    "        # The correct approach is to multiply lstm_out by the attention weights\n",
    "        # and then sum across the time dimension.\n",
    "        # weighted_features = (lstm_out * attention_weights).sum(dim=1)\n",
    "        # weighted_features = lstm_out * attention_weights + lstm_out  # Helps with gradient flow.\n",
    "        # weighted_features = weighted_features.mean(dim=1)  # Reduce over sequence dimension (average pooling)\n",
    "\n",
    "        # output = self.classifier(weighted_features)\n",
    "        context_vector = (lstm_out * attention_weights).sum(dim=1)\n",
    "        output = self.classifier(context_vector)\n",
    "\n",
    "        return output"
   ]
  },
  {
   "cell_type": "markdown",
   "metadata": {},
   "source": [
    "# Training Setup and Configuration"
   ]
  },
  {
   "cell_type": "markdown",
   "metadata": {},
   "source": [
    "Training Setup Function (setup_training): Loads metadata, performs stratified split to preserve imbalance ratios, creates datasets, computes sample weights for oversampling (addressing PDF's 1:6 imbalance), and sets up DataLoaders with a sampler for balanced batching.\n",
    "\n",
    "Training Function (train_model): Configures device/loss/optimizer with weighted BCE for imbalance, initializes mixed-precision scaler, and runs epochs with training loops (forward pass, backprop with clipping for stability), validation (no-grad inference), metrics calculation, scheduling, and early stopping to save the best model and prevent overfitting."
   ]
  },
  {
   "cell_type": "code",
   "execution_count": 6,
   "metadata": {},
   "outputs": [],
   "source": [
    "import matplotlib.pyplot as plt\n",
    "import torch.amp\n",
    "from sklearn.metrics import accuracy_score, precision_recall_curve, roc_auc_score\n",
    "from sklearn.model_selection import train_test_split\n",
    "from torch.cuda.amp import GradScaler, autocast\n",
    "from torch.optim.lr_scheduler import ReduceLROnPlateau\n",
    "\n",
    "\n",
    "class FocalLoss(nn.Module):\n",
    "    def __init__(self, alpha=0.25, gamma=2):\n",
    "        super().__init__()\n",
    "        self.alpha = alpha\n",
    "        self.gamma = gamma\n",
    "\n",
    "    def forward(self, inputs, targets):\n",
    "        bce_loss = nn.BCEWithLogitsLoss()(inputs, targets)\n",
    "        pt = torch.exp(-bce_loss)\n",
    "        return self.alpha * (1 - pt) ** self.gamma * bce_loss\n",
    "\n",
    "\n",
    "def setup_training():\n",
    "    # Load metadata from dataset analysis\n",
    "    metadata = pd.read_csv(METADATA_PATH)\n",
    "    # metadata['filepath'] = metadata['filepath'].apply(lambda x: os.path.join(BASE_VIDEO_PATH, x))\n",
    "    metadata[\"filepath\"] = metadata[\"filepath\"].apply(\n",
    "        # lambda x: os.path.join(BASE_VIDEO_PATH, x)\n",
    "        lambda x: os.path.join(BASE_VIDEO_PATH, x)\n",
    "    )\n",
    "\n",
    "    # Train/validation split with stratification\n",
    "    train_df, val_df = train_test_split(\n",
    "        metadata, test_size=0.2, stratify=metadata[\"label\"], random_state=42\n",
    "    )\n",
    "\n",
    "    # Define a cache directory in a writable location\n",
    "    face_cache_directory = \"/kaggle/working/face_cache\"\n",
    "    # Create datasets\n",
    "    train_dataset = DeepfakeDataset(train_df, transform=train_transforms)\n",
    "    val_dataset = DeepfakeDataset(val_df, transform=val_transforms)\n",
    "\n",
    "    # Compute class weights for oversampling to handle imbalance (real: ~890, fake: ~5639 total)\n",
    "    class_counts = metadata[\"label\"].value_counts()\n",
    "    # class_weights = {0: 1.0 / class_counts['real'], 1: 1.0 / class_counts['fake']}\n",
    "    class_weights = {\n",
    "        0: class_counts[\"fake\"] / class_counts[\"real\"],\n",
    "        1: 1.0,\n",
    "    }  # This oversamples real videos more heavily.\n",
    "\n",
    "    # sample_weights = [class_weights[0] if label == 'real' else class_weights[1] for label in train_df['label']]\n",
    "    # sample_weights = [class_weights[label] for label in train_df['label']]\n",
    "    sample_weights = [\n",
    "        class_weights[1 if label == \"fake\" else 0] for label in train_df[\"label\"]\n",
    "    ]\n",
    "\n",
    "    sampler = WeightedRandomSampler(\n",
    "        sample_weights, len(sample_weights), replacement=True\n",
    "    )\n",
    "\n",
    "    # Calculate pos_weight from the dataframe\n",
    "    # This is safe because it's before any data loading failures\n",
    "    real_count = (train_df[\"label\"] == \"real\").sum()\n",
    "    fake_count = (train_df[\"label\"] == \"fake\").sum()\n",
    "    pos_weight = torch.tensor([fake_count / real_count])\n",
    "\n",
    "    # Create data loaders with oversampling\n",
    "    # Apply the collate_fn to both training and validation loaders\n",
    "    train_loader = DataLoader(\n",
    "        train_dataset,\n",
    "        batch_size=6,\n",
    "        shuffle=False,  # Shuffle is handled by WeightedRandomSampler\n",
    "        sampler=sampler,\n",
    "        num_workers=4,\n",
    "        pin_memory=True,\n",
    "        collate_fn=collate_fn,\n",
    "        worker_init_fn=worker_init_fn,\n",
    "    )\n",
    "    val_loader = DataLoader(\n",
    "        val_dataset,\n",
    "        batch_size=6,\n",
    "        shuffle=False,\n",
    "        num_workers=4,\n",
    "        pin_memory=True,\n",
    "        collate_fn=collate_fn,\n",
    "        worker_init_fn=worker_init_fn,\n",
    "    )\n",
    "\n",
    "    return train_loader, val_loader, pos_weight\n",
    "\n",
    "\n",
    "# Training function with early stopping and gradient clipping\n",
    "def train_model(\n",
    "    model,\n",
    "    train_loader,\n",
    "    val_loader,\n",
    "    pos_weight,\n",
    "    num_epochs=30,\n",
    "    learning_rate=1e-5,\n",
    "    patience=10,\n",
    "):\n",
    "    device = torch.device(\"cuda\" if torch.cuda.is_available() else \"cpu\")\n",
    "    model.to(device)\n",
    "\n",
    "    criterion = nn.BCEWithLogitsLoss(pos_weight=pos_weight.to(device))\n",
    "\n",
    "    # Use BCEWithLogitsLoss for numerical stability\n",
    "    # criterion = nn.BCEWithLogitsLoss()\n",
    "    optimizer = torch.optim.Adam(\n",
    "        model.parameters(), lr=learning_rate, weight_decay=1e-4\n",
    "    )\n",
    "    scheduler = torch.optim.lr_scheduler.ReduceLROnPlateau(\n",
    "        optimizer, patience=3, factor=0.5\n",
    "    )\n",
    "\n",
    "    criterion = FocalLoss().to(device)\n",
    "    optimizer = torch.optim.Adam(\n",
    "        model.parameters(), lr=learning_rate, weight_decay=1e-4\n",
    "    )\n",
    "    scheduler = ReduceLROnPlateau(optimizer, patience=3, factor=0.5)\n",
    "    scaler = torch.cuda.amp.GradScaler(enabled=(device.type == \"cuda\"))\n",
    "\n",
    "    best_val_loss = float(\"inf\")\n",
    "    epochs_no_improve = 0\n",
    "    train_losses, val_losses = [], []\n",
    "    train_accs, val_accs = [], []\n",
    "\n",
    "    for epoch in range(num_epochs):\n",
    "        # Training phase\n",
    "        model.train()\n",
    "        train_loss, train_correct = 0.0, 0\n",
    "\n",
    "        for batch_idx, (data, targets) in enumerate(train_loader):\n",
    "            if data.nelement() == 0:  # Skip empty batches\n",
    "                continue\n",
    "            data, targets = data.to(device), targets.to(device)\n",
    "            targets = targets.unsqueeze(1)\n",
    "\n",
    "            optimizer.zero_grad()\n",
    "\n",
    "            # Use torch.amp.autocast\n",
    "            with torch.amp.autocast(device_type=\"cuda\"):\n",
    "                outputs = model(data)\n",
    "                loss = criterion(outputs, targets)\n",
    "\n",
    "                if torch.isnan(loss):\n",
    "                    logging.error(f\"NaN loss detected at Epoch {epoch+1}, Batch {batch_idx}. Skipping update.\")\n",
    "                    continue\n",
    "\n",
    "            scaler.scale(loss).backward()\n",
    "            # torch.nn.utils.clip_grad_norm_(model.parameters(), max_norm=1.0)  # Gradient clipping\n",
    "\n",
    "            scaler.unscale_(optimizer)  # Unscale gradients before clipping\n",
    "            torch.nn.utils.clip_grad_norm_(model.parameters(), max_norm=1.0)\n",
    "\n",
    "            scaler.step(optimizer)\n",
    "            scaler.update()\n",
    "\n",
    "            train_loss += loss.item()\n",
    "            predictions = (torch.sigmoid(outputs) > 0.5).float()\n",
    "            train_correct += (predictions == targets).sum().item()\n",
    "\n",
    "            if batch_idx % 10 == 0:\n",
    "                logging.info(\n",
    "                    f\"Epoch {epoch+1}/{num_epochs}, Batch {batch_idx}/{len(train_loader)}, Loss: {loss.item():.4f}\"\n",
    "                )\n",
    "\n",
    "        # Validation phase\n",
    "        model.eval()\n",
    "        val_loss, val_correct = 0.0, 0\n",
    "        all_predictions, all_targets = [], []\n",
    "\n",
    "        with torch.no_grad(), autocast():\n",
    "            for data, targets in val_loader:\n",
    "                data, targets = data.to(device), targets.to(device)\n",
    "                targets = targets.unsqueeze(1)\n",
    "\n",
    "                outputs = model(data)\n",
    "                loss = criterion(outputs, targets)\n",
    "\n",
    "                probabilities = torch.sigmoid(outputs)\n",
    "                predictions = (probabilities > 0.5).float()\n",
    "\n",
    "                val_loss += loss.item()\n",
    "                predictions = (torch.sigmoid(outputs) > 0.5).float()\n",
    "                val_correct += (predictions == targets).sum().item()\n",
    "\n",
    "                all_predictions.extend(torch.sigmoid(outputs).cpu().numpy())\n",
    "                all_targets.extend(targets.cpu().numpy())\n",
    "\n",
    "        # Calculate metrics\n",
    "        train_acc = train_correct / len(train_loader.dataset)\n",
    "        val_acc = val_correct / len(val_loader.dataset)\n",
    "        auc_score = roc_auc_score(all_targets, all_predictions)\n",
    "        avg_val_loss = val_loss / len(val_loader)\n",
    "\n",
    "        train_losses.append(train_loss / len(train_loader))\n",
    "        val_losses.append(avg_val_loss)\n",
    "        train_accs.append(train_acc)\n",
    "        val_accs.append(val_acc)\n",
    "\n",
    "        scheduler.step(avg_val_loss)\n",
    "\n",
    "        logging.info(\n",
    "            f\"Epoch {epoch+1}: Train Acc: {train_acc:.4f}, Val Acc: {val_acc:.4f}, AUC: {auc_score:.4f}\"\n",
    "        )\n",
    "\n",
    "        # Early stopping\n",
    "        if avg_val_loss < best_val_loss:\n",
    "            best_val_loss = avg_val_loss\n",
    "            epochs_no_improve = 0\n",
    "            torch.save(model.state_dict(), \"models/best_deepfake_detector_model.pth\")\n",
    "        else:\n",
    "            epochs_no_improve += 1\n",
    "            if epochs_no_improve >= patience:\n",
    "                logging.info(f\"Early stopping at epoch {epoch+1}\")\n",
    "                break\n",
    "\n",
    "    return train_losses, val_losses, train_accs, val_accs"
   ]
  },
  {
   "cell_type": "markdown",
   "metadata": {},
   "source": [
    "# Model Validation and Evaluation"
   ]
  },
  {
   "cell_type": "markdown",
   "metadata": {},
   "source": [
    "Evaluation Function (evaluate_model): Sets model to eval mode, collects predictions/probabilities with no-grad and mixed precision, computes metrics like accuracy/AUC/PR curves, and calculates EER (key for imbalanced security tasks per PDF). It generates and saves plots for visual analysis.\n",
    "\n",
    "Main Execution Block (if __name__ == \"__main__\"): Orchestrates the pipeline by setting up loaders, initializing the model, training, evaluating, and saving the final model, with logging for progress tracking."
   ]
  },
  {
   "cell_type": "code",
   "execution_count": null,
   "metadata": {},
   "outputs": [
    {
     "name": "stdout",
     "output_type": "stream",
     "text": [
      "2025-10-07 06:23:59,259 - INFO - Initializing deepfake detection model...\n",
      "2025-10-07 06:23:59,960 - INFO - Starting model training...\n"
     ]
    },
    {
     "name": "stderr",
     "output_type": "stream",
     "text": [
      "/tmp/ipykernel_117948/411598384.py:119: FutureWarning: `torch.cuda.amp.GradScaler(args...)` is deprecated. Please use `torch.amp.GradScaler('cuda', args...)` instead.\n",
      "  scaler = torch.cuda.amp.GradScaler(enabled=(device.type == \"cuda\"))\n"
     ]
    },
    {
     "name": "stdout",
     "output_type": "stream",
     "text": [
      "2025-10-07 06:24:30,831 - INFO - Epoch 1/20, Batch 0/871, Loss: 0.0501\n",
      "2025-10-07 06:24:51,754 - INFO - Epoch 1/20, Batch 10/871, Loss: 0.0457\n"
     ]
    },
    {
     "name": "stderr",
     "output_type": "stream",
     "text": [
      "[2025-10-07 06:24:58,030] [INFO] [Worker ID: 118190]: Processing video 100/5223...\n"
     ]
    },
    {
     "name": "stdout",
     "output_type": "stream",
     "text": [
      "2025-10-07 06:25:19,425 - INFO - Epoch 1/20, Batch 20/871, Loss: 0.0525\n"
     ]
    },
    {
     "name": "stderr",
     "output_type": "stream",
     "text": [
      "[2025-10-07 06:25:48,351] [INFO] [Worker ID: 118254]: Processing video 200/5223...\n"
     ]
    },
    {
     "name": "stdout",
     "output_type": "stream",
     "text": [
      "2025-10-07 06:25:50,432 - INFO - Epoch 1/20, Batch 30/871, Loss: 0.0303\n",
      "2025-10-07 06:26:22,549 - INFO - Epoch 1/20, Batch 40/871, Loss: 0.0334\n"
     ]
    },
    {
     "name": "stderr",
     "output_type": "stream",
     "text": [
      "[2025-10-07 06:26:38,435] [INFO] [Worker ID: 118254]: Processing video 300/5223...\n"
     ]
    },
    {
     "name": "stdout",
     "output_type": "stream",
     "text": [
      "2025-10-07 06:26:50,808 - INFO - Epoch 1/20, Batch 50/871, Loss: 0.0751\n",
      "2025-10-07 06:27:24,855 - INFO - Epoch 1/20, Batch 60/871, Loss: 0.0441\n"
     ]
    },
    {
     "name": "stderr",
     "output_type": "stream",
     "text": [
      "[2025-10-07 06:27:29,162] [INFO] [Worker ID: 118321]: Processing video 400/5223...\n"
     ]
    },
    {
     "name": "stdout",
     "output_type": "stream",
     "text": [
      "2025-10-07 06:27:46,590 - INFO - Epoch 1/20, Batch 70/871, Loss: 0.0386\n"
     ]
    },
    {
     "name": "stderr",
     "output_type": "stream",
     "text": [
      "[2025-10-07 06:28:17,967] [INFO] [Worker ID: 118254]: Processing video 500/5223...\n"
     ]
    },
    {
     "name": "stdout",
     "output_type": "stream",
     "text": [
      "2025-10-07 06:28:25,549 - INFO - Epoch 1/20, Batch 80/871, Loss: 0.0457\n",
      "2025-10-07 06:28:47,316 - INFO - Epoch 1/20, Batch 90/871, Loss: 0.0397\n"
     ]
    },
    {
     "name": "stderr",
     "output_type": "stream",
     "text": [
      "[2025-10-07 06:29:03,789] [INFO] [Worker ID: 118190]: Processing video 600/5223...\n"
     ]
    },
    {
     "name": "stdout",
     "output_type": "stream",
     "text": [
      "2025-10-07 06:29:19,388 - INFO - Epoch 1/20, Batch 100/871, Loss: 0.0429\n",
      "2025-10-07 06:29:41,945 - INFO - Epoch 1/20, Batch 110/871, Loss: 0.0367\n"
     ]
    },
    {
     "name": "stderr",
     "output_type": "stream",
     "text": [
      "[2025-10-07 06:29:53,270] [INFO] [Worker ID: 118388]: Processing video 700/5223...\n"
     ]
    },
    {
     "name": "stdout",
     "output_type": "stream",
     "text": [
      "2025-10-07 06:30:13,949 - INFO - Epoch 1/20, Batch 120/871, Loss: 0.0410\n"
     ]
    },
    {
     "name": "stderr",
     "output_type": "stream",
     "text": [
      "[2025-10-07 06:30:42,019] [INFO] [Worker ID: 118254]: Processing video 800/5223...\n"
     ]
    },
    {
     "name": "stdout",
     "output_type": "stream",
     "text": [
      "2025-10-07 06:30:42,369 - INFO - Epoch 1/20, Batch 130/871, Loss: 0.0424\n",
      "2025-10-07 06:31:10,761 - INFO - Epoch 1/20, Batch 140/871, Loss: 0.0323\n"
     ]
    },
    {
     "name": "stderr",
     "output_type": "stream",
     "text": [
      "[2025-10-07 06:31:32,977] [INFO] [Worker ID: 118321]: Processing video 900/5223...\n"
     ]
    },
    {
     "name": "stdout",
     "output_type": "stream",
     "text": [
      "2025-10-07 06:31:48,202 - INFO - Epoch 1/20, Batch 150/871, Loss: 0.0334\n",
      "2025-10-07 06:32:15,494 - INFO - Epoch 1/20, Batch 160/871, Loss: 0.0447\n"
     ]
    },
    {
     "name": "stderr",
     "output_type": "stream",
     "text": [
      "[2025-10-07 06:32:23,187] [INFO] [Worker ID: 118321]: Processing video 1000/5223...\n"
     ]
    },
    {
     "name": "stdout",
     "output_type": "stream",
     "text": [
      "2025-10-07 06:32:52,979 - INFO - Epoch 1/20, Batch 170/871, Loss: 0.0360\n",
      "2025-10-07 06:33:16,191 - INFO - Epoch 1/20, Batch 180/871, Loss: 0.0499\n"
     ]
    },
    {
     "name": "stderr",
     "output_type": "stream",
     "text": [
      "[2025-10-07 06:33:17,908] [INFO] [Worker ID: 118254]: Processing video 1100/5223...\n"
     ]
    },
    {
     "name": "stdout",
     "output_type": "stream",
     "text": [
      "2025-10-07 06:33:52,005 - INFO - Epoch 1/20, Batch 190/871, Loss: 0.0416\n"
     ]
    },
    {
     "name": "stderr",
     "output_type": "stream",
     "text": [
      "[2025-10-07 06:34:09,069] [INFO] [Worker ID: 118190]: Processing video 1200/5223...\n"
     ]
    },
    {
     "name": "stdout",
     "output_type": "stream",
     "text": [
      "2025-10-07 06:34:18,555 - INFO - Epoch 1/20, Batch 200/871, Loss: 0.0477\n",
      "2025-10-07 06:34:51,647 - INFO - Epoch 1/20, Batch 210/871, Loss: 0.0350\n"
     ]
    },
    {
     "name": "stderr",
     "output_type": "stream",
     "text": [
      "[2025-10-07 06:34:57,443] [INFO] [Worker ID: 118190]: Processing video 1300/5223...\n"
     ]
    },
    {
     "name": "stdout",
     "output_type": "stream",
     "text": [
      "2025-10-07 06:35:17,246 - INFO - Epoch 1/20, Batch 220/871, Loss: 0.0371\n"
     ]
    },
    {
     "name": "stderr",
     "output_type": "stream",
     "text": [
      "[2025-10-07 06:35:45,339] [INFO] [Worker ID: 118254]: Processing video 1400/5223...\n"
     ]
    },
    {
     "name": "stdout",
     "output_type": "stream",
     "text": [
      "2025-10-07 06:35:48,692 - INFO - Epoch 1/20, Batch 230/871, Loss: 0.0326\n",
      "2025-10-07 06:36:18,704 - INFO - Epoch 1/20, Batch 240/871, Loss: 0.0709\n"
     ]
    },
    {
     "name": "stderr",
     "output_type": "stream",
     "text": [
      "[2025-10-07 06:36:34,146] [INFO] [Worker ID: 118388]: Processing video 1500/5223...\n"
     ]
    },
    {
     "name": "stdout",
     "output_type": "stream",
     "text": [
      "2025-10-07 06:36:58,935 - INFO - Epoch 1/20, Batch 250/871, Loss: 0.0365\n",
      "2025-10-07 06:37:20,056 - INFO - Epoch 1/20, Batch 260/871, Loss: 0.0414\n"
     ]
    },
    {
     "name": "stderr",
     "output_type": "stream",
     "text": [
      "[2025-10-07 06:37:23,280] [INFO] [Worker ID: 118254]: Processing video 1600/5223...\n"
     ]
    },
    {
     "name": "stdout",
     "output_type": "stream",
     "text": [
      "2025-10-07 06:37:53,254 - INFO - Epoch 1/20, Batch 270/871, Loss: 0.0402\n"
     ]
    },
    {
     "name": "stderr",
     "output_type": "stream",
     "text": [
      "[2025-10-07 06:38:14,812] [INFO] [Worker ID: 118388]: Processing video 1700/5223...\n"
     ]
    },
    {
     "name": "stdout",
     "output_type": "stream",
     "text": [
      "2025-10-07 06:38:16,517 - INFO - Epoch 1/20, Batch 280/871, Loss: 0.0574\n",
      "2025-10-07 06:38:46,962 - INFO - Epoch 1/20, Batch 290/871, Loss: 0.0418\n"
     ]
    },
    {
     "name": "stderr",
     "output_type": "stream",
     "text": [
      "[2025-10-07 06:39:01,621] [INFO] [Worker ID: 118254]: Processing video 1800/5223...\n"
     ]
    },
    {
     "name": "stdout",
     "output_type": "stream",
     "text": [
      "2025-10-07 06:39:15,686 - INFO - Epoch 1/20, Batch 300/871, Loss: 0.0395\n",
      "2025-10-07 06:39:50,101 - INFO - Epoch 1/20, Batch 310/871, Loss: 0.0301\n"
     ]
    },
    {
     "name": "stderr",
     "output_type": "stream",
     "text": [
      "[2025-10-07 06:39:51,132] [INFO] [Worker ID: 118388]: Processing video 1900/5223...\n"
     ]
    },
    {
     "name": "stdout",
     "output_type": "stream",
     "text": [
      "2025-10-07 06:40:11,574 - INFO - Epoch 1/20, Batch 320/871, Loss: 0.0531\n"
     ]
    },
    {
     "name": "stderr",
     "output_type": "stream",
     "text": [
      "[2025-10-07 06:40:40,228] [INFO] [Worker ID: 118388]: Processing video 2000/5223...\n"
     ]
    },
    {
     "name": "stdout",
     "output_type": "stream",
     "text": [
      "2025-10-07 06:40:47,879 - INFO - Epoch 1/20, Batch 330/871, Loss: 0.0387\n",
      "2025-10-07 06:41:09,437 - INFO - Epoch 1/20, Batch 340/871, Loss: 0.0487\n"
     ]
    },
    {
     "name": "stderr",
     "output_type": "stream",
     "text": [
      "[2025-10-07 06:41:29,709] [INFO] [Worker ID: 118190]: Processing video 2100/5223...\n"
     ]
    },
    {
     "name": "stdout",
     "output_type": "stream",
     "text": [
      "2025-10-07 06:41:41,112 - INFO - Epoch 1/20, Batch 350/871, Loss: 0.0270\n",
      "2025-10-07 06:42:17,987 - INFO - Epoch 1/20, Batch 360/871, Loss: 0.0399\n"
     ]
    },
    {
     "name": "stderr",
     "output_type": "stream",
     "text": [
      "[2025-10-07 06:42:21,169] [INFO] [Worker ID: 118254]: Processing video 2200/5223...\n"
     ]
    },
    {
     "name": "stdout",
     "output_type": "stream",
     "text": [
      "2025-10-07 06:42:50,388 - INFO - Epoch 1/20, Batch 370/871, Loss: 0.0355\n"
     ]
    },
    {
     "name": "stderr",
     "output_type": "stream",
     "text": [
      "[2025-10-07 06:43:09,296] [INFO] [Worker ID: 118190]: Processing video 2300/5223...\n"
     ]
    },
    {
     "name": "stdout",
     "output_type": "stream",
     "text": [
      "2025-10-07 06:43:15,978 - INFO - Epoch 1/20, Batch 380/871, Loss: 0.0523\n",
      "2025-10-07 06:43:49,353 - INFO - Epoch 1/20, Batch 390/871, Loss: 0.0384\n"
     ]
    },
    {
     "name": "stderr",
     "output_type": "stream",
     "text": [
      "[2025-10-07 06:43:57,256] [INFO] [Worker ID: 118254]: Processing video 2400/5223...\n"
     ]
    },
    {
     "name": "stdout",
     "output_type": "stream",
     "text": [
      "2025-10-07 06:44:10,947 - INFO - Epoch 1/20, Batch 400/871, Loss: 0.0328\n",
      "2025-10-07 06:44:42,032 - INFO - Epoch 1/20, Batch 410/871, Loss: 0.0442\n"
     ]
    },
    {
     "name": "stderr",
     "output_type": "stream",
     "text": [
      "[2025-10-07 06:44:45,044] [INFO] [Worker ID: 118321]: Processing video 2500/5223...\n"
     ]
    },
    {
     "name": "stdout",
     "output_type": "stream",
     "text": [
      "2025-10-07 06:45:07,790 - INFO - Epoch 1/20, Batch 420/871, Loss: 0.0400\n"
     ]
    },
    {
     "name": "stderr",
     "output_type": "stream",
     "text": [
      "[2025-10-07 06:45:36,005] [INFO] [Worker ID: 118321]: Processing video 2600/5223...\n"
     ]
    },
    {
     "name": "stdout",
     "output_type": "stream",
     "text": [
      "2025-10-07 06:45:41,438 - INFO - Epoch 1/20, Batch 430/871, Loss: 0.0313\n",
      "2025-10-07 06:46:10,383 - INFO - Epoch 1/20, Batch 440/871, Loss: 0.0271\n"
     ]
    },
    {
     "name": "stderr",
     "output_type": "stream",
     "text": [
      "[2025-10-07 06:46:23,164] [INFO] [Worker ID: 118190]: Processing video 2700/5223...\n"
     ]
    },
    {
     "name": "stdout",
     "output_type": "stream",
     "text": [
      "2025-10-07 06:46:35,485 - INFO - Epoch 1/20, Batch 450/871, Loss: 0.0354\n"
     ]
    },
    {
     "name": "stderr",
     "output_type": "stream",
     "text": [
      "[2025-10-07 06:47:11,195] [INFO] [Worker ID: 118388]: Processing video 2800/5223...\n"
     ]
    },
    {
     "name": "stdout",
     "output_type": "stream",
     "text": [
      "2025-10-07 06:47:11,839 - INFO - Epoch 1/20, Batch 460/871, Loss: 0.0391\n",
      "2025-10-07 06:47:34,544 - INFO - Epoch 1/20, Batch 470/871, Loss: 0.0368\n"
     ]
    },
    {
     "name": "stderr",
     "output_type": "stream",
     "text": [
      "[2025-10-07 06:48:00,005] [INFO] [Worker ID: 118190]: Processing video 2900/5223...\n"
     ]
    },
    {
     "name": "stdout",
     "output_type": "stream",
     "text": [
      "2025-10-07 06:48:04,903 - INFO - Epoch 1/20, Batch 480/871, Loss: 0.0493\n",
      "2025-10-07 06:48:29,662 - INFO - Epoch 1/20, Batch 490/871, Loss: 0.0405\n"
     ]
    },
    {
     "name": "stderr",
     "output_type": "stream",
     "text": [
      "[2025-10-07 06:48:49,103] [INFO] [Worker ID: 118254]: Processing video 3000/5223...\n"
     ]
    },
    {
     "name": "stdout",
     "output_type": "stream",
     "text": [
      "2025-10-07 06:49:13,399 - INFO - Epoch 1/20, Batch 500/871, Loss: 0.0326\n",
      "2025-10-07 06:49:44,185 - INFO - Epoch 1/20, Batch 510/871, Loss: 0.0365\n"
     ]
    },
    {
     "name": "stderr",
     "output_type": "stream",
     "text": [
      "[2025-10-07 06:49:46,559] [INFO] [Worker ID: 118254]: Processing video 3100/5223...\n"
     ]
    },
    {
     "name": "stdout",
     "output_type": "stream",
     "text": [
      "2025-10-07 06:50:11,453 - INFO - Epoch 1/20, Batch 520/871, Loss: 0.0323\n"
     ]
    },
    {
     "name": "stderr",
     "output_type": "stream",
     "text": [
      "[2025-10-07 06:50:35,149] [INFO] [Worker ID: 118254]: Processing video 3200/5223...\n"
     ]
    },
    {
     "name": "stdout",
     "output_type": "stream",
     "text": [
      "2025-10-07 06:50:40,236 - INFO - Epoch 1/20, Batch 530/871, Loss: 0.0297\n",
      "2025-10-07 06:51:06,694 - INFO - Epoch 1/20, Batch 540/871, Loss: 0.0229\n"
     ]
    },
    {
     "name": "stderr",
     "output_type": "stream",
     "text": [
      "[2025-10-07 06:51:22,663] [INFO] [Worker ID: 118321]: Processing video 3300/5223...\n"
     ]
    },
    {
     "name": "stdout",
     "output_type": "stream",
     "text": [
      "2025-10-07 06:51:45,215 - INFO - Epoch 1/20, Batch 550/871, Loss: 0.0443\n",
      "2025-10-07 06:52:08,566 - INFO - Epoch 1/20, Batch 560/871, Loss: 0.0252\n"
     ]
    },
    {
     "name": "stderr",
     "output_type": "stream",
     "text": [
      "[2025-10-07 06:52:12,881] [INFO] [Worker ID: 118388]: Processing video 3400/5223...\n"
     ]
    },
    {
     "name": "stdout",
     "output_type": "stream",
     "text": [
      "2025-10-07 06:52:38,969 - INFO - Epoch 1/20, Batch 570/871, Loss: 0.0451\n"
     ]
    },
    {
     "name": "stderr",
     "output_type": "stream",
     "text": [
      "[2025-10-07 06:53:00,397] [INFO] [Worker ID: 118254]: Processing video 3500/5223...\n"
     ]
    },
    {
     "name": "stdout",
     "output_type": "stream",
     "text": [
      "2025-10-07 06:53:01,777 - INFO - Epoch 1/20, Batch 580/871, Loss: 0.0373\n",
      "2025-10-07 06:53:33,665 - INFO - Epoch 1/20, Batch 590/871, Loss: 0.0450\n"
     ]
    },
    {
     "name": "stderr",
     "output_type": "stream",
     "text": [
      "[2025-10-07 06:53:51,514] [INFO] [Worker ID: 118321]: Processing video 3600/5223...\n"
     ]
    },
    {
     "name": "stdout",
     "output_type": "stream",
     "text": [
      "2025-10-07 06:54:01,202 - INFO - Epoch 1/20, Batch 600/871, Loss: 0.0419\n",
      "2025-10-07 06:54:27,535 - INFO - Epoch 1/20, Batch 610/871, Loss: 0.0301\n"
     ]
    },
    {
     "name": "stderr",
     "output_type": "stream",
     "text": [
      "[2025-10-07 06:54:39,527] [INFO] [Worker ID: 118254]: Processing video 3700/5223...\n"
     ]
    },
    {
     "name": "stdout",
     "output_type": "stream",
     "text": [
      "2025-10-07 06:55:05,150 - INFO - Epoch 1/20, Batch 620/871, Loss: 0.0315\n"
     ]
    },
    {
     "name": "stderr",
     "output_type": "stream",
     "text": [
      "[2025-10-07 06:55:30,738] [INFO] [Worker ID: 118254]: Processing video 3800/5223...\n"
     ]
    },
    {
     "name": "stdout",
     "output_type": "stream",
     "text": [
      "2025-10-07 06:55:36,831 - INFO - Epoch 1/20, Batch 630/871, Loss: 0.0342\n",
      "2025-10-07 06:56:01,832 - INFO - Epoch 1/20, Batch 640/871, Loss: 0.0520\n"
     ]
    },
    {
     "name": "stderr",
     "output_type": "stream",
     "text": [
      "[2025-10-07 06:56:17,640] [INFO] [Worker ID: 118190]: Processing video 3900/5223...\n"
     ]
    },
    {
     "name": "stdout",
     "output_type": "stream",
     "text": [
      "2025-10-07 06:56:34,898 - INFO - Epoch 1/20, Batch 650/871, Loss: 0.0375\n",
      "2025-10-07 06:56:56,184 - INFO - Epoch 1/20, Batch 660/871, Loss: 0.0333\n"
     ]
    },
    {
     "name": "stderr",
     "output_type": "stream",
     "text": [
      "[2025-10-07 06:57:03,161] [INFO] [Worker ID: 118254]: Processing video 4000/5223...\n"
     ]
    },
    {
     "name": "stdout",
     "output_type": "stream",
     "text": [
      "2025-10-07 06:57:27,218 - INFO - Epoch 1/20, Batch 670/871, Loss: 0.0306\n"
     ]
    },
    {
     "name": "stderr",
     "output_type": "stream",
     "text": [
      "[2025-10-07 06:57:55,047] [INFO] [Worker ID: 118254]: Processing video 4100/5223...\n"
     ]
    },
    {
     "name": "stdout",
     "output_type": "stream",
     "text": [
      "2025-10-07 06:57:58,569 - INFO - Epoch 1/20, Batch 680/871, Loss: 0.0198\n",
      "2025-10-07 06:58:31,075 - INFO - Epoch 1/20, Batch 690/871, Loss: 0.0218\n"
     ]
    },
    {
     "name": "stderr",
     "output_type": "stream",
     "text": [
      "[2025-10-07 06:58:43,816] [INFO] [Worker ID: 118388]: Processing video 4200/5223...\n"
     ]
    },
    {
     "name": "stdout",
     "output_type": "stream",
     "text": [
      "2025-10-07 06:58:52,681 - INFO - Epoch 1/20, Batch 700/871, Loss: 0.0328\n",
      "2025-10-07 06:59:23,201 - INFO - Epoch 1/20, Batch 710/871, Loss: 0.0329\n"
     ]
    },
    {
     "name": "stderr",
     "output_type": "stream",
     "text": [
      "[2025-10-07 06:59:30,018] [INFO] [Worker ID: 118190]: Processing video 4300/5223...\n"
     ]
    },
    {
     "name": "stdout",
     "output_type": "stream",
     "text": [
      "2025-10-07 06:59:47,230 - INFO - Epoch 1/20, Batch 720/871, Loss: 0.0375\n"
     ]
    },
    {
     "name": "stderr",
     "output_type": "stream",
     "text": [
      "[2025-10-07 07:00:17,956] [INFO] [Worker ID: 118388]: Processing video 4400/5223...\n"
     ]
    },
    {
     "name": "stdout",
     "output_type": "stream",
     "text": [
      "2025-10-07 07:00:22,874 - INFO - Epoch 1/20, Batch 730/871, Loss: 0.0309\n",
      "2025-10-07 07:00:47,225 - INFO - Epoch 1/20, Batch 740/871, Loss: 0.0379\n"
     ]
    },
    {
     "name": "stderr",
     "output_type": "stream",
     "text": [
      "[2025-10-07 07:01:04,798] [INFO] [Worker ID: 118321]: Processing video 4500/5223...\n"
     ]
    },
    {
     "name": "stdout",
     "output_type": "stream",
     "text": [
      "2025-10-07 07:01:17,596 - INFO - Epoch 1/20, Batch 750/871, Loss: 0.0444\n",
      "2025-10-07 07:01:43,752 - INFO - Epoch 1/20, Batch 760/871, Loss: 0.0289\n"
     ]
    },
    {
     "name": "stderr",
     "output_type": "stream",
     "text": [
      "[2025-10-07 07:01:53,626] [INFO] [Worker ID: 118388]: Processing video 4600/5223...\n"
     ]
    },
    {
     "name": "stdout",
     "output_type": "stream",
     "text": [
      "2025-10-07 07:02:18,598 - INFO - Epoch 1/20, Batch 770/871, Loss: 0.0291\n"
     ]
    },
    {
     "name": "stderr",
     "output_type": "stream",
     "text": [
      "[2025-10-07 07:02:44,883] [INFO] [Worker ID: 118321]: Processing video 4700/5223...\n"
     ]
    },
    {
     "name": "stdout",
     "output_type": "stream",
     "text": [
      "2025-10-07 07:02:47,852 - INFO - Epoch 1/20, Batch 780/871, Loss: 0.0193\n",
      "2025-10-07 07:03:22,300 - INFO - Epoch 1/20, Batch 790/871, Loss: 0.0266\n"
     ]
    },
    {
     "name": "stderr",
     "output_type": "stream",
     "text": [
      "[2025-10-07 07:03:37,852] [INFO] [Worker ID: 118254]: Processing video 4800/5223...\n"
     ]
    },
    {
     "name": "stdout",
     "output_type": "stream",
     "text": [
      "2025-10-07 07:03:52,785 - INFO - Epoch 1/20, Batch 800/871, Loss: 0.0342\n",
      "2025-10-07 07:04:24,207 - INFO - Epoch 1/20, Batch 810/871, Loss: 0.0190\n"
     ]
    },
    {
     "name": "stderr",
     "output_type": "stream",
     "text": [
      "[2025-10-07 07:04:25,937] [INFO] [Worker ID: 118190]: Processing video 4900/5223...\n"
     ]
    },
    {
     "name": "stdout",
     "output_type": "stream",
     "text": [
      "2025-10-07 07:04:51,388 - INFO - Epoch 1/20, Batch 820/871, Loss: 0.0361\n"
     ]
    },
    {
     "name": "stderr",
     "output_type": "stream",
     "text": [
      "[2025-10-07 07:05:15,065] [INFO] [Worker ID: 118254]: Processing video 5000/5223...\n"
     ]
    },
    {
     "name": "stdout",
     "output_type": "stream",
     "text": [
      "2025-10-07 07:05:19,775 - INFO - Epoch 1/20, Batch 830/871, Loss: 0.0319\n",
      "2025-10-07 07:05:51,116 - INFO - Epoch 1/20, Batch 840/871, Loss: 0.0260\n"
     ]
    },
    {
     "name": "stderr",
     "output_type": "stream",
     "text": [
      "[2025-10-07 07:06:05,600] [INFO] [Worker ID: 118388]: Processing video 5100/5223...\n"
     ]
    },
    {
     "name": "stdout",
     "output_type": "stream",
     "text": [
      "2025-10-07 07:06:21,430 - INFO - Epoch 1/20, Batch 850/871, Loss: 0.0538\n",
      "2025-10-07 07:06:49,974 - INFO - Epoch 1/20, Batch 860/871, Loss: 0.0524\n"
     ]
    },
    {
     "name": "stderr",
     "output_type": "stream",
     "text": [
      "[2025-10-07 07:06:55,866] [INFO] [Worker ID: 118321]: Processing video 5200/5223...\n"
     ]
    },
    {
     "name": "stdout",
     "output_type": "stream",
     "text": [
      "2025-10-07 07:07:18,845 - INFO - Epoch 1/20, Batch 870/871, Loss: 0.0421\n"
     ]
    },
    {
     "name": "stderr",
     "output_type": "stream",
     "text": [
      "/tmp/ipykernel_117948/411598384.py:171: FutureWarning: `torch.cuda.amp.autocast(args...)` is deprecated. Please use `torch.amp.autocast('cuda', args...)` instead.\n",
      "  with torch.no_grad(), autocast():\n",
      "[2025-10-07 07:08:13,830] [INFO] [Worker ID: 203020]: Processing video 100/1306...\n",
      "[2025-10-07 07:09:01,841] [INFO] [Worker ID: 203088]: Processing video 200/1306...\n",
      "[2025-10-07 07:09:47,496] [INFO] [Worker ID: 203020]: Processing video 300/1306...\n",
      "[2025-10-07 07:10:33,581] [INFO] [Worker ID: 202889]: Processing video 400/1306...\n",
      "[2025-10-07 07:11:24,345] [INFO] [Worker ID: 203020]: Processing video 500/1306...\n",
      "[2025-10-07 07:12:11,308] [INFO] [Worker ID: 203020]: Processing video 600/1306...\n",
      "[2025-10-07 07:12:59,273] [INFO] [Worker ID: 202953]: Processing video 700/1306...\n",
      "[2025-10-07 07:13:48,197] [INFO] [Worker ID: 202889]: Processing video 800/1306...\n",
      "[2025-10-07 07:14:35,212] [INFO] [Worker ID: 202953]: Processing video 900/1306...\n",
      "[2025-10-07 07:15:22,026] [INFO] [Worker ID: 202953]: Processing video 1000/1306...\n",
      "[2025-10-07 07:16:13,481] [INFO] [Worker ID: 203088]: Processing video 1100/1306...\n",
      "[2025-10-07 07:16:59,105] [INFO] [Worker ID: 203088]: Processing video 1200/1306...\n",
      "[2025-10-07 07:17:47,975] [INFO] [Worker ID: 202953]: Processing video 1300/1306...\n"
     ]
    },
    {
     "name": "stdout",
     "output_type": "stream",
     "text": [
      "2025-10-07 07:17:55,370 - INFO - Epoch 1: Train Acc: 0.5974, Val Acc: 0.8553, AUC: 0.8827\n",
      "2025-10-07 07:18:13,351 - INFO - Epoch 2/20, Batch 0/871, Loss: 0.0306\n",
      "2025-10-07 07:18:39,553 - INFO - Epoch 2/20, Batch 10/871, Loss: 0.0417\n"
     ]
    },
    {
     "name": "stderr",
     "output_type": "stream",
     "text": [
      "[2025-10-07 07:18:39,354] [INFO] [Worker ID: 224478]: Processing video 5300/5223...\n"
     ]
    },
    {
     "name": "stdout",
     "output_type": "stream",
     "text": [
      "2025-10-07 07:19:07,192 - INFO - Epoch 2/20, Batch 20/871, Loss: 0.0354\n"
     ]
    },
    {
     "name": "stderr",
     "output_type": "stream",
     "text": [
      "[2025-10-07 07:19:28,074] [INFO] [Worker ID: 224478]: Processing video 5400/5223...\n"
     ]
    },
    {
     "name": "stdout",
     "output_type": "stream",
     "text": [
      "2025-10-07 07:19:38,880 - INFO - Epoch 2/20, Batch 30/871, Loss: 0.0237\n",
      "2025-10-07 07:20:12,882 - INFO - Epoch 2/20, Batch 40/871, Loss: 0.0232\n"
     ]
    },
    {
     "name": "stderr",
     "output_type": "stream",
     "text": [
      "[2025-10-07 07:20:18,622] [INFO] [Worker ID: 224478]: Processing video 5500/5223...\n"
     ]
    },
    {
     "name": "stdout",
     "output_type": "stream",
     "text": [
      "2025-10-07 07:20:41,655 - INFO - Epoch 2/20, Batch 50/871, Loss: 0.0164\n"
     ]
    },
    {
     "name": "stderr",
     "output_type": "stream",
     "text": [
      "[2025-10-07 07:21:04,810] [INFO] [Worker ID: 224410]: Processing video 5600/5223...\n"
     ]
    },
    {
     "name": "stdout",
     "output_type": "stream",
     "text": [
      "2025-10-07 07:21:06,833 - INFO - Epoch 2/20, Batch 60/871, Loss: 0.0355\n",
      "2025-10-07 07:21:48,695 - INFO - Epoch 2/20, Batch 70/871, Loss: 0.0175\n"
     ]
    },
    {
     "name": "stderr",
     "output_type": "stream",
     "text": [
      "[2025-10-07 07:22:02,249] [INFO] [Worker ID: 224346]: Processing video 5700/5223...\n"
     ]
    },
    {
     "name": "stdout",
     "output_type": "stream",
     "text": [
      "2025-10-07 07:22:22,940 - INFO - Epoch 2/20, Batch 80/871, Loss: 0.0207\n",
      "2025-10-07 07:22:46,795 - INFO - Epoch 2/20, Batch 90/871, Loss: 0.0358\n"
     ]
    },
    {
     "name": "stderr",
     "output_type": "stream",
     "text": [
      "[2025-10-07 07:22:52,785] [INFO] [Worker ID: 224410]: Processing video 5800/5223...\n"
     ]
    },
    {
     "name": "stdout",
     "output_type": "stream",
     "text": [
      "2025-10-07 07:23:19,323 - INFO - Epoch 2/20, Batch 100/871, Loss: 0.0212\n"
     ]
    },
    {
     "name": "stderr",
     "output_type": "stream",
     "text": [
      "[2025-10-07 07:23:39,777] [INFO] [Worker ID: 224410]: Processing video 5900/5223...\n"
     ]
    },
    {
     "name": "stdout",
     "output_type": "stream",
     "text": [
      "2025-10-07 07:23:42,888 - INFO - Epoch 2/20, Batch 110/871, Loss: 0.0328\n",
      "2025-10-07 07:24:15,805 - INFO - Epoch 2/20, Batch 120/871, Loss: 0.0290\n"
     ]
    },
    {
     "name": "stderr",
     "output_type": "stream",
     "text": [
      "[2025-10-07 07:24:30,761] [INFO] [Worker ID: 224478]: Processing video 6000/5223...\n"
     ]
    },
    {
     "name": "stdout",
     "output_type": "stream",
     "text": [
      "2025-10-07 07:24:43,744 - INFO - Epoch 2/20, Batch 130/871, Loss: 0.0165\n",
      "2025-10-07 07:25:19,384 - INFO - Epoch 2/20, Batch 140/871, Loss: 0.0512\n"
     ]
    },
    {
     "name": "stderr",
     "output_type": "stream",
     "text": [
      "[2025-10-07 07:25:22,456] [INFO] [Worker ID: 224478]: Processing video 6100/5223...\n"
     ]
    },
    {
     "name": "stdout",
     "output_type": "stream",
     "text": [
      "2025-10-07 07:25:43,379 - INFO - Epoch 2/20, Batch 150/871, Loss: 0.0186\n"
     ]
    },
    {
     "name": "stderr",
     "output_type": "stream",
     "text": [
      "[2025-10-07 07:26:10,784] [INFO] [Worker ID: 224478]: Processing video 6200/5223...\n"
     ]
    },
    {
     "name": "stdout",
     "output_type": "stream",
     "text": [
      "2025-10-07 07:26:21,979 - INFO - Epoch 2/20, Batch 160/871, Loss: 0.0198\n",
      "2025-10-07 07:26:44,761 - INFO - Epoch 2/20, Batch 170/871, Loss: 0.0317\n"
     ]
    },
    {
     "name": "stderr",
     "output_type": "stream",
     "text": [
      "[2025-10-07 07:26:58,866] [INFO] [Worker ID: 224410]: Processing video 6300/5223...\n"
     ]
    },
    {
     "name": "stdout",
     "output_type": "stream",
     "text": [
      "2025-10-07 07:27:17,074 - INFO - Epoch 2/20, Batch 180/871, Loss: 0.0307\n",
      "2025-10-07 07:27:39,994 - INFO - Epoch 2/20, Batch 190/871, Loss: 0.0162\n"
     ]
    },
    {
     "name": "stderr",
     "output_type": "stream",
     "text": [
      "[2025-10-07 07:27:43,955] [INFO] [Worker ID: 224346]: Processing video 6400/5223...\n"
     ]
    },
    {
     "name": "stdout",
     "output_type": "stream",
     "text": [
      "2025-10-07 07:28:16,203 - INFO - Epoch 2/20, Batch 200/871, Loss: 0.0531\n"
     ]
    },
    {
     "name": "stderr",
     "output_type": "stream",
     "text": [
      "[2025-10-07 07:28:33,776] [INFO] [Worker ID: 224410]: Processing video 6500/5223...\n"
     ]
    },
    {
     "name": "stdout",
     "output_type": "stream",
     "text": [
      "2025-10-07 07:28:39,677 - INFO - Epoch 2/20, Batch 210/871, Loss: 0.0392\n",
      "2025-10-07 07:29:16,151 - INFO - Epoch 2/20, Batch 220/871, Loss: 0.0228\n"
     ]
    },
    {
     "name": "stderr",
     "output_type": "stream",
     "text": [
      "[2025-10-07 07:29:27,297] [INFO] [Worker ID: 224548]: Processing video 6600/5223...\n"
     ]
    },
    {
     "name": "stdout",
     "output_type": "stream",
     "text": [
      "2025-10-07 07:29:42,672 - INFO - Epoch 2/20, Batch 230/871, Loss: 0.0212\n",
      "2025-10-07 07:30:18,430 - INFO - Epoch 2/20, Batch 240/871, Loss: 0.0297\n"
     ]
    },
    {
     "name": "stderr",
     "output_type": "stream",
     "text": [
      "[2025-10-07 07:30:18,239] [INFO] [Worker ID: 224346]: Processing video 6700/5223...\n"
     ]
    },
    {
     "name": "stdout",
     "output_type": "stream",
     "text": [
      "2025-10-07 07:30:45,494 - INFO - Epoch 2/20, Batch 250/871, Loss: 0.0404\n"
     ]
    },
    {
     "name": "stderr",
     "output_type": "stream",
     "text": [
      "[2025-10-07 07:31:10,049] [INFO] [Worker ID: 224410]: Processing video 6800/5223...\n"
     ]
    },
    {
     "name": "stdout",
     "output_type": "stream",
     "text": [
      "2025-10-07 07:31:16,232 - INFO - Epoch 2/20, Batch 260/871, Loss: 0.0206\n",
      "2025-10-07 07:31:41,394 - INFO - Epoch 2/20, Batch 270/871, Loss: 0.0314\n"
     ]
    },
    {
     "name": "stderr",
     "output_type": "stream",
     "text": [
      "[2025-10-07 07:31:58,600] [INFO] [Worker ID: 224410]: Processing video 6900/5223...\n"
     ]
    },
    {
     "name": "stdout",
     "output_type": "stream",
     "text": [
      "2025-10-07 07:32:11,895 - INFO - Epoch 2/20, Batch 280/871, Loss: 0.0278\n",
      "2025-10-07 07:32:36,750 - INFO - Epoch 2/20, Batch 290/871, Loss: 0.0180\n"
     ]
    },
    {
     "name": "stderr",
     "output_type": "stream",
     "text": [
      "[2025-10-07 07:32:45,161] [INFO] [Worker ID: 224478]: Processing video 7000/5223...\n"
     ]
    },
    {
     "name": "stdout",
     "output_type": "stream",
     "text": [
      "2025-10-07 07:33:06,791 - INFO - Epoch 2/20, Batch 300/871, Loss: 0.0464\n"
     ]
    },
    {
     "name": "stderr",
     "output_type": "stream",
     "text": [
      "[2025-10-07 07:33:40,785] [INFO] [Worker ID: 224410]: Processing video 7100/5223...\n"
     ]
    },
    {
     "name": "stdout",
     "output_type": "stream",
     "text": [
      "2025-10-07 07:33:48,378 - INFO - Epoch 2/20, Batch 310/871, Loss: 0.0256\n",
      "2025-10-07 07:34:21,842 - INFO - Epoch 2/20, Batch 320/871, Loss: 0.0279\n"
     ]
    },
    {
     "name": "stderr",
     "output_type": "stream",
     "text": [
      "[2025-10-07 07:34:35,218] [INFO] [Worker ID: 224478]: Processing video 7200/5223...\n"
     ]
    },
    {
     "name": "stdout",
     "output_type": "stream",
     "text": [
      "2025-10-07 07:34:48,867 - INFO - Epoch 2/20, Batch 330/871, Loss: 0.0397\n",
      "2025-10-07 07:35:19,380 - INFO - Epoch 2/20, Batch 340/871, Loss: 0.0336\n"
     ]
    },
    {
     "name": "stderr",
     "output_type": "stream",
     "text": [
      "[2025-10-07 07:35:23,199] [INFO] [Worker ID: 224346]: Processing video 7300/5223...\n"
     ]
    },
    {
     "name": "stdout",
     "output_type": "stream",
     "text": [
      "2025-10-07 07:35:46,188 - INFO - Epoch 2/20, Batch 350/871, Loss: 0.0229\n"
     ]
    },
    {
     "name": "stderr",
     "output_type": "stream",
     "text": [
      "[2025-10-07 07:36:10,345] [INFO] [Worker ID: 224478]: Processing video 7400/5223...\n"
     ]
    },
    {
     "name": "stdout",
     "output_type": "stream",
     "text": [
      "2025-10-07 07:36:15,859 - INFO - Epoch 2/20, Batch 360/871, Loss: 0.0339\n",
      "2025-10-07 07:36:46,682 - INFO - Epoch 2/20, Batch 370/871, Loss: 0.0174\n"
     ]
    },
    {
     "name": "stderr",
     "output_type": "stream",
     "text": [
      "[2025-10-07 07:36:58,986] [INFO] [Worker ID: 224478]: Processing video 7500/5223...\n"
     ]
    },
    {
     "name": "stdout",
     "output_type": "stream",
     "text": [
      "2025-10-07 07:37:18,638 - INFO - Epoch 2/20, Batch 380/871, Loss: 0.0169\n",
      "2025-10-07 07:37:40,861 - INFO - Epoch 2/20, Batch 390/871, Loss: 0.0110\n"
     ]
    },
    {
     "name": "stderr",
     "output_type": "stream",
     "text": [
      "[2025-10-07 07:37:45,965] [INFO] [Worker ID: 224548]: Processing video 7600/5223...\n"
     ]
    },
    {
     "name": "stdout",
     "output_type": "stream",
     "text": [
      "2025-10-07 07:38:11,750 - INFO - Epoch 2/20, Batch 400/871, Loss: 0.0314\n"
     ]
    },
    {
     "name": "stderr",
     "output_type": "stream",
     "text": [
      "[2025-10-07 07:38:34,011] [INFO] [Worker ID: 224346]: Processing video 7700/5223...\n"
     ]
    },
    {
     "name": "stdout",
     "output_type": "stream",
     "text": [
      "2025-10-07 07:38:37,419 - INFO - Epoch 2/20, Batch 410/871, Loss: 0.0499\n",
      "2025-10-07 07:39:09,748 - INFO - Epoch 2/20, Batch 420/871, Loss: 0.0234\n"
     ]
    },
    {
     "name": "stderr",
     "output_type": "stream",
     "text": [
      "[2025-10-07 07:39:21,999] [INFO] [Worker ID: 224548]: Processing video 7800/5223...\n"
     ]
    },
    {
     "name": "stdout",
     "output_type": "stream",
     "text": [
      "2025-10-07 07:39:32,395 - INFO - Epoch 2/20, Batch 430/871, Loss: 0.0203\n",
      "2025-10-07 07:40:05,320 - INFO - Epoch 2/20, Batch 440/871, Loss: 0.0203\n"
     ]
    },
    {
     "name": "stderr",
     "output_type": "stream",
     "text": [
      "[2025-10-07 07:40:07,384] [INFO] [Worker ID: 224478]: Processing video 7900/5223...\n"
     ]
    },
    {
     "name": "stdout",
     "output_type": "stream",
     "text": [
      "2025-10-07 07:40:31,124 - INFO - Epoch 2/20, Batch 450/871, Loss: 0.0302\n"
     ]
    },
    {
     "name": "stderr",
     "output_type": "stream",
     "text": [
      "[2025-10-07 07:40:53,740] [INFO] [Worker ID: 224346]: Processing video 8000/5223...\n"
     ]
    },
    {
     "name": "stdout",
     "output_type": "stream",
     "text": [
      "2025-10-07 07:41:00,025 - INFO - Epoch 2/20, Batch 460/871, Loss: 0.0258\n",
      "2025-10-07 07:41:28,234 - INFO - Epoch 2/20, Batch 470/871, Loss: 0.0475\n"
     ]
    },
    {
     "name": "stderr",
     "output_type": "stream",
     "text": [
      "[2025-10-07 07:41:42,186] [INFO] [Worker ID: 224478]: Processing video 8100/5223...\n"
     ]
    },
    {
     "name": "stdout",
     "output_type": "stream",
     "text": [
      "2025-10-07 07:41:53,817 - INFO - Epoch 2/20, Batch 480/871, Loss: 0.0105\n",
      "2025-10-07 07:42:22,980 - INFO - Epoch 2/20, Batch 490/871, Loss: 0.0179\n"
     ]
    },
    {
     "name": "stderr",
     "output_type": "stream",
     "text": [
      "[2025-10-07 07:42:27,978] [INFO] [Worker ID: 224548]: Processing video 8200/5223...\n"
     ]
    },
    {
     "name": "stdout",
     "output_type": "stream",
     "text": [
      "2025-10-07 07:42:49,253 - INFO - Epoch 2/20, Batch 500/871, Loss: 0.0095\n"
     ]
    },
    {
     "name": "stderr",
     "output_type": "stream",
     "text": [
      "[2025-10-07 07:43:17,235] [INFO] [Worker ID: 224548]: Processing video 8300/5223...\n"
     ]
    },
    {
     "name": "stdout",
     "output_type": "stream",
     "text": [
      "2025-10-07 07:43:26,220 - INFO - Epoch 2/20, Batch 510/871, Loss: 0.0159\n",
      "2025-10-07 07:43:49,277 - INFO - Epoch 2/20, Batch 520/871, Loss: 0.0122\n"
     ]
    },
    {
     "name": "stderr",
     "output_type": "stream",
     "text": [
      "[2025-10-07 07:44:06,384] [INFO] [Worker ID: 224548]: Processing video 8400/5223...\n"
     ]
    },
    {
     "name": "stdout",
     "output_type": "stream",
     "text": [
      "2025-10-07 07:44:20,703 - INFO - Epoch 2/20, Batch 530/871, Loss: 0.0081\n",
      "2025-10-07 07:44:46,123 - INFO - Epoch 2/20, Batch 540/871, Loss: 0.0191\n"
     ]
    },
    {
     "name": "stderr",
     "output_type": "stream",
     "text": [
      "[2025-10-07 07:44:55,893] [INFO] [Worker ID: 224410]: Processing video 8500/5223...\n"
     ]
    },
    {
     "name": "stdout",
     "output_type": "stream",
     "text": [
      "2025-10-07 07:45:23,226 - INFO - Epoch 2/20, Batch 550/871, Loss: 0.0276\n"
     ]
    },
    {
     "name": "stderr",
     "output_type": "stream",
     "text": [
      "[2025-10-07 07:45:44,355] [INFO] [Worker ID: 224346]: Processing video 8600/5223...\n"
     ]
    },
    {
     "name": "stdout",
     "output_type": "stream",
     "text": [
      "2025-10-07 07:45:47,431 - INFO - Epoch 2/20, Batch 560/871, Loss: 0.0238\n",
      "2025-10-07 07:46:18,422 - INFO - Epoch 2/20, Batch 570/871, Loss: 0.0125\n"
     ]
    },
    {
     "name": "stderr",
     "output_type": "stream",
     "text": [
      "[2025-10-07 07:46:36,231] [INFO] [Worker ID: 224548]: Processing video 8700/5223...\n"
     ]
    },
    {
     "name": "stdout",
     "output_type": "stream",
     "text": [
      "2025-10-07 07:46:46,564 - INFO - Epoch 2/20, Batch 580/871, Loss: 0.0178\n"
     ]
    },
    {
     "name": "stderr",
     "output_type": "stream",
     "text": [
      "[2025-10-07 07:47:23,023] [INFO] [Worker ID: 224478]: Processing video 8800/5223...\n"
     ]
    },
    {
     "name": "stdout",
     "output_type": "stream",
     "text": [
      "2025-10-07 07:47:23,238 - INFO - Epoch 2/20, Batch 590/871, Loss: 0.0180\n",
      "2025-10-07 07:47:46,584 - INFO - Epoch 2/20, Batch 600/871, Loss: 0.0251\n"
     ]
    },
    {
     "name": "stderr",
     "output_type": "stream",
     "text": [
      "[2025-10-07 07:48:11,901] [INFO] [Worker ID: 224410]: Processing video 8900/5223...\n"
     ]
    },
    {
     "name": "stdout",
     "output_type": "stream",
     "text": [
      "2025-10-07 07:48:20,272 - INFO - Epoch 2/20, Batch 610/871, Loss: 0.0232\n",
      "2025-10-07 07:48:46,805 - INFO - Epoch 2/20, Batch 620/871, Loss: 0.0129\n"
     ]
    },
    {
     "name": "stderr",
     "output_type": "stream",
     "text": [
      "[2025-10-07 07:49:01,826] [INFO] [Worker ID: 224410]: Processing video 9000/5223...\n"
     ]
    },
    {
     "name": "stdout",
     "output_type": "stream",
     "text": [
      "2025-10-07 07:49:15,289 - INFO - Epoch 2/20, Batch 630/871, Loss: 0.0246\n",
      "2025-10-07 07:49:51,548 - INFO - Epoch 2/20, Batch 640/871, Loss: 0.0065\n"
     ]
    },
    {
     "name": "stderr",
     "output_type": "stream",
     "text": [
      "[2025-10-07 07:49:53,317] [INFO] [Worker ID: 224478]: Processing video 9100/5223...\n"
     ]
    },
    {
     "name": "stdout",
     "output_type": "stream",
     "text": [
      "2025-10-07 07:50:20,303 - INFO - Epoch 2/20, Batch 650/871, Loss: 0.0238\n"
     ]
    },
    {
     "name": "stderr",
     "output_type": "stream",
     "text": [
      "[2025-10-07 07:50:43,741] [INFO] [Worker ID: 224478]: Processing video 9200/5223...\n"
     ]
    },
    {
     "name": "stdout",
     "output_type": "stream",
     "text": [
      "2025-10-07 07:50:55,377 - INFO - Epoch 2/20, Batch 660/871, Loss: 0.0226\n",
      "2025-10-07 07:51:18,216 - INFO - Epoch 2/20, Batch 670/871, Loss: 0.0051\n"
     ]
    },
    {
     "name": "stderr",
     "output_type": "stream",
     "text": [
      "[2025-10-07 07:51:34,129] [INFO] [Worker ID: 224346]: Processing video 9300/5223...\n"
     ]
    },
    {
     "name": "stdout",
     "output_type": "stream",
     "text": [
      "2025-10-07 07:51:53,720 - INFO - Epoch 2/20, Batch 680/871, Loss: 0.0118\n",
      "2025-10-07 07:52:13,866 - INFO - Epoch 2/20, Batch 690/871, Loss: 0.0139\n"
     ]
    },
    {
     "name": "stderr",
     "output_type": "stream",
     "text": [
      "[2025-10-07 07:52:22,462] [INFO] [Worker ID: 224410]: Processing video 9400/5223...\n"
     ]
    },
    {
     "name": "stdout",
     "output_type": "stream",
     "text": [
      "2025-10-07 07:52:45,919 - INFO - Epoch 2/20, Batch 700/871, Loss: 0.0145\n",
      "2025-10-07 07:53:08,843 - INFO - Epoch 2/20, Batch 710/871, Loss: 0.0440\n"
     ]
    },
    {
     "name": "stderr",
     "output_type": "stream",
     "text": [
      "[2025-10-07 07:53:11,660] [INFO] [Worker ID: 224478]: Processing video 9500/5223...\n"
     ]
    },
    {
     "name": "stdout",
     "output_type": "stream",
     "text": [
      "2025-10-07 07:53:43,650 - INFO - Epoch 2/20, Batch 720/871, Loss: 0.0154\n"
     ]
    },
    {
     "name": "stderr",
     "output_type": "stream",
     "text": [
      "[2025-10-07 07:53:59,269] [INFO] [Worker ID: 224548]: Processing video 9600/5223...\n"
     ]
    },
    {
     "name": "stdout",
     "output_type": "stream",
     "text": [
      "2025-10-07 07:54:11,323 - INFO - Epoch 2/20, Batch 730/871, Loss: 0.0127\n",
      "2025-10-07 07:54:46,088 - INFO - Epoch 2/20, Batch 740/871, Loss: 0.0069\n"
     ]
    },
    {
     "name": "stderr",
     "output_type": "stream",
     "text": [
      "[2025-10-07 07:54:48,768] [INFO] [Worker ID: 224478]: Processing video 9700/5223...\n"
     ]
    },
    {
     "name": "stdout",
     "output_type": "stream",
     "text": [
      "2025-10-07 07:55:10,277 - INFO - Epoch 2/20, Batch 750/871, Loss: 0.0158\n"
     ]
    },
    {
     "name": "stderr",
     "output_type": "stream",
     "text": [
      "[2025-10-07 07:55:35,880] [INFO] [Worker ID: 224548]: Processing video 9800/5223...\n"
     ]
    },
    {
     "name": "stdout",
     "output_type": "stream",
     "text": [
      "2025-10-07 07:55:39,747 - INFO - Epoch 2/20, Batch 760/871, Loss: 0.0136\n",
      "2025-10-07 07:56:07,810 - INFO - Epoch 2/20, Batch 770/871, Loss: 0.0226\n"
     ]
    },
    {
     "name": "stderr",
     "output_type": "stream",
     "text": [
      "[2025-10-07 07:56:30,603] [INFO] [Worker ID: 224478]: Processing video 9900/5223...\n"
     ]
    },
    {
     "name": "stdout",
     "output_type": "stream",
     "text": [
      "2025-10-07 07:56:51,575 - INFO - Epoch 2/20, Batch 780/871, Loss: 0.0151\n",
      "2025-10-07 07:57:18,209 - INFO - Epoch 2/20, Batch 790/871, Loss: 0.0030\n"
     ]
    },
    {
     "name": "stderr",
     "output_type": "stream",
     "text": [
      "[2025-10-07 07:57:25,197] [INFO] [Worker ID: 224410]: Processing video 10000/5223...\n"
     ]
    },
    {
     "name": "stdout",
     "output_type": "stream",
     "text": [
      "2025-10-07 07:57:53,867 - INFO - Epoch 2/20, Batch 800/871, Loss: 0.0115\n"
     ]
    },
    {
     "name": "stderr",
     "output_type": "stream",
     "text": [
      "[2025-10-07 07:58:15,223] [INFO] [Worker ID: 224410]: Processing video 10100/5223...\n"
     ]
    },
    {
     "name": "stdout",
     "output_type": "stream",
     "text": [
      "2025-10-07 07:58:18,012 - INFO - Epoch 2/20, Batch 810/871, Loss: 0.0110\n",
      "2025-10-07 07:58:47,462 - INFO - Epoch 2/20, Batch 820/871, Loss: 0.0018\n"
     ]
    },
    {
     "name": "stderr",
     "output_type": "stream",
     "text": [
      "[2025-10-07 07:59:04,150] [INFO] [Worker ID: 224548]: Processing video 10200/5223...\n"
     ]
    },
    {
     "name": "stdout",
     "output_type": "stream",
     "text": [
      "2025-10-07 07:59:28,378 - INFO - Epoch 2/20, Batch 830/871, Loss: 0.0134\n"
     ]
    },
    {
     "name": "stderr",
     "output_type": "stream",
     "text": [
      "[2025-10-07 07:59:59,682] [INFO] [Worker ID: 224410]: Processing video 10300/5223...\n"
     ]
    },
    {
     "name": "stdout",
     "output_type": "stream",
     "text": [
      "2025-10-07 08:00:01,502 - INFO - Epoch 2/20, Batch 840/871, Loss: 0.0394\n",
      "2025-10-07 08:00:22,484 - INFO - Epoch 2/20, Batch 850/871, Loss: 0.0074\n"
     ]
    },
    {
     "name": "stderr",
     "output_type": "stream",
     "text": [
      "[2025-10-07 08:00:48,051] [INFO] [Worker ID: 224410]: Processing video 10400/5223...\n"
     ]
    },
    {
     "name": "stdout",
     "output_type": "stream",
     "text": [
      "2025-10-07 08:00:55,946 - INFO - Epoch 2/20, Batch 860/871, Loss: 0.0183\n",
      "2025-10-07 08:01:13,328 - INFO - Epoch 2/20, Batch 870/871, Loss: 0.0218\n"
     ]
    },
    {
     "name": "stderr",
     "output_type": "stream",
     "text": [
      "/tmp/ipykernel_117948/411598384.py:171: FutureWarning: `torch.cuda.amp.autocast(args...)` is deprecated. Please use `torch.amp.autocast('cuda', args...)` instead.\n",
      "  with torch.no_grad(), autocast():\n",
      "[2025-10-07 08:02:05,153] [INFO] [Worker ID: 309109]: Processing video 1400/1306...\n",
      "[2025-10-07 08:02:52,125] [INFO] [Worker ID: 309042]: Processing video 1500/1306...\n",
      "[2025-10-07 08:03:39,674] [INFO] [Worker ID: 309109]: Processing video 1600/1306...\n",
      "[2025-10-07 08:04:24,298] [INFO] [Worker ID: 309042]: Processing video 1700/1306...\n",
      "[2025-10-07 08:05:16,017] [INFO] [Worker ID: 309109]: Processing video 1800/1306...\n",
      "[2025-10-07 08:06:02,279] [INFO] [Worker ID: 308911]: Processing video 1900/1306...\n",
      "[2025-10-07 08:06:50,333] [INFO] [Worker ID: 308911]: Processing video 2000/1306...\n",
      "[2025-10-07 08:07:39,702] [INFO] [Worker ID: 308911]: Processing video 2100/1306...\n",
      "[2025-10-07 08:08:25,567] [INFO] [Worker ID: 308911]: Processing video 2200/1306...\n",
      "[2025-10-07 08:09:11,599] [INFO] [Worker ID: 309042]: Processing video 2300/1306...\n",
      "[2025-10-07 08:10:03,244] [INFO] [Worker ID: 309042]: Processing video 2400/1306...\n",
      "[2025-10-07 08:10:50,251] [INFO] [Worker ID: 308911]: Processing video 2500/1306...\n",
      "[2025-10-07 08:11:38,749] [INFO] [Worker ID: 308911]: Processing video 2600/1306...\n"
     ]
    },
    {
     "name": "stdout",
     "output_type": "stream",
     "text": [
      "2025-10-07 08:11:46,513 - INFO - Epoch 2: Train Acc: 0.7783, Val Acc: 0.9280, AUC: 0.9476\n",
      "2025-10-07 08:12:04,976 - INFO - Epoch 3/20, Batch 0/871, Loss: 0.0046\n"
     ]
    },
    {
     "name": "stderr",
     "output_type": "stream",
     "text": [
      "[2025-10-07 08:12:20,924] [INFO] [Worker ID: 330573]: Processing video 10500/5223...\n"
     ]
    },
    {
     "name": "stdout",
     "output_type": "stream",
     "text": [
      "2025-10-07 08:12:31,588 - INFO - Epoch 3/20, Batch 10/871, Loss: 0.0080\n",
      "2025-10-07 08:13:04,310 - INFO - Epoch 3/20, Batch 20/871, Loss: 0.0031\n"
     ]
    },
    {
     "name": "stderr",
     "output_type": "stream",
     "text": [
      "[2025-10-07 08:13:09,245] [INFO] [Worker ID: 330573]: Processing video 10600/5223...\n"
     ]
    },
    {
     "name": "stdout",
     "output_type": "stream",
     "text": [
      "2025-10-07 08:13:38,533 - INFO - Epoch 3/20, Batch 30/871, Loss: 0.0075\n"
     ]
    },
    {
     "name": "stderr",
     "output_type": "stream",
     "text": [
      "[2025-10-07 08:13:55,611] [INFO] [Worker ID: 330573]: Processing video 10700/5223...\n"
     ]
    },
    {
     "name": "stdout",
     "output_type": "stream",
     "text": [
      "2025-10-07 08:14:02,594 - INFO - Epoch 3/20, Batch 40/871, Loss: 0.0094\n",
      "2025-10-07 08:14:40,889 - INFO - Epoch 3/20, Batch 50/871, Loss: 0.0239\n"
     ]
    },
    {
     "name": "stderr",
     "output_type": "stream",
     "text": [
      "[2025-10-07 08:14:46,019] [INFO] [Worker ID: 330506]: Processing video 10800/5223...\n"
     ]
    },
    {
     "name": "stdout",
     "output_type": "stream",
     "text": [
      "2025-10-07 08:15:02,759 - INFO - Epoch 3/20, Batch 60/871, Loss: 0.0312\n"
     ]
    },
    {
     "name": "stderr",
     "output_type": "stream",
     "text": [
      "[2025-10-07 08:15:34,477] [INFO] [Worker ID: 330375]: Processing video 10900/5223...\n"
     ]
    },
    {
     "name": "stdout",
     "output_type": "stream",
     "text": [
      "2025-10-07 08:15:36,842 - INFO - Epoch 3/20, Batch 70/871, Loss: 0.0527\n",
      "2025-10-07 08:15:58,660 - INFO - Epoch 3/20, Batch 80/871, Loss: 0.0158\n"
     ]
    },
    {
     "name": "stderr",
     "output_type": "stream",
     "text": [
      "[2025-10-07 08:16:24,917] [INFO] [Worker ID: 330375]: Processing video 11000/5223...\n"
     ]
    },
    {
     "name": "stdout",
     "output_type": "stream",
     "text": [
      "2025-10-07 08:16:34,394 - INFO - Epoch 3/20, Batch 90/871, Loss: 0.0074\n",
      "2025-10-07 08:17:01,093 - INFO - Epoch 3/20, Batch 100/871, Loss: 0.0076\n"
     ]
    },
    {
     "name": "stderr",
     "output_type": "stream",
     "text": [
      "[2025-10-07 08:17:16,155] [INFO] [Worker ID: 330439]: Processing video 11100/5223...\n"
     ]
    },
    {
     "name": "stdout",
     "output_type": "stream",
     "text": [
      "2025-10-07 08:17:30,588 - INFO - Epoch 3/20, Batch 110/871, Loss: 0.0029\n",
      "2025-10-07 08:18:07,609 - INFO - Epoch 3/20, Batch 120/871, Loss: 0.0109\n"
     ]
    },
    {
     "name": "stderr",
     "output_type": "stream",
     "text": [
      "[2025-10-07 08:18:09,177] [INFO] [Worker ID: 330506]: Processing video 11200/5223...\n"
     ]
    },
    {
     "name": "stdout",
     "output_type": "stream",
     "text": [
      "2025-10-07 08:18:29,828 - INFO - Epoch 3/20, Batch 130/871, Loss: 0.0037\n"
     ]
    },
    {
     "name": "stderr",
     "output_type": "stream",
     "text": [
      "[2025-10-07 08:18:53,569] [INFO] [Worker ID: 330506]: Processing video 11300/5223...\n"
     ]
    },
    {
     "name": "stdout",
     "output_type": "stream",
     "text": [
      "2025-10-07 08:19:00,778 - INFO - Epoch 3/20, Batch 140/871, Loss: 0.0057\n",
      "2025-10-07 08:19:31,362 - INFO - Epoch 3/20, Batch 150/871, Loss: 0.0297\n"
     ]
    },
    {
     "name": "stderr",
     "output_type": "stream",
     "text": [
      "[2025-10-07 08:19:45,233] [INFO] [Worker ID: 330506]: Processing video 11400/5223...\n"
     ]
    },
    {
     "name": "stdout",
     "output_type": "stream",
     "text": [
      "2025-10-07 08:20:03,469 - INFO - Epoch 3/20, Batch 160/871, Loss: 0.0104\n",
      "2025-10-07 08:20:26,642 - INFO - Epoch 3/20, Batch 170/871, Loss: 0.0157\n"
     ]
    },
    {
     "name": "stderr",
     "output_type": "stream",
     "text": [
      "[2025-10-07 08:20:35,221] [INFO] [Worker ID: 330375]: Processing video 11500/5223...\n"
     ]
    },
    {
     "name": "stdout",
     "output_type": "stream",
     "text": [
      "2025-10-07 08:20:58,393 - INFO - Epoch 3/20, Batch 180/871, Loss: 0.0051\n"
     ]
    },
    {
     "name": "stderr",
     "output_type": "stream",
     "text": [
      "[2025-10-07 08:21:26,746] [INFO] [Worker ID: 330573]: Processing video 11600/5223...\n"
     ]
    },
    {
     "name": "stdout",
     "output_type": "stream",
     "text": [
      "2025-10-07 08:21:28,148 - INFO - Epoch 3/20, Batch 190/871, Loss: 0.0191\n",
      "2025-10-07 08:22:00,032 - INFO - Epoch 3/20, Batch 200/871, Loss: 0.0086\n"
     ]
    },
    {
     "name": "stderr",
     "output_type": "stream",
     "text": [
      "[2025-10-07 08:22:13,588] [INFO] [Worker ID: 330573]: Processing video 11700/5223...\n"
     ]
    },
    {
     "name": "stdout",
     "output_type": "stream",
     "text": [
      "2025-10-07 08:22:27,764 - INFO - Epoch 3/20, Batch 210/871, Loss: 0.0021\n",
      "2025-10-07 08:22:51,066 - INFO - Epoch 3/20, Batch 220/871, Loss: 0.0327\n"
     ]
    },
    {
     "name": "stderr",
     "output_type": "stream",
     "text": [
      "[2025-10-07 08:23:01,355] [INFO] [Worker ID: 330573]: Processing video 11800/5223...\n"
     ]
    },
    {
     "name": "stdout",
     "output_type": "stream",
     "text": [
      "2025-10-07 08:23:33,752 - INFO - Epoch 3/20, Batch 230/871, Loss: 0.0101\n"
     ]
    },
    {
     "name": "stderr",
     "output_type": "stream",
     "text": [
      "[2025-10-07 08:23:53,567] [INFO] [Worker ID: 330439]: Processing video 11900/5223...\n"
     ]
    },
    {
     "name": "stdout",
     "output_type": "stream",
     "text": [
      "2025-10-07 08:23:57,634 - INFO - Epoch 3/20, Batch 240/871, Loss: 0.0118\n",
      "2025-10-07 08:24:28,519 - INFO - Epoch 3/20, Batch 250/871, Loss: 0.0326\n"
     ]
    },
    {
     "name": "stderr",
     "output_type": "stream",
     "text": [
      "[2025-10-07 08:24:42,476] [INFO] [Worker ID: 330439]: Processing video 12000/5223...\n"
     ]
    },
    {
     "name": "stdout",
     "output_type": "stream",
     "text": [
      "2025-10-07 08:25:00,091 - INFO - Epoch 3/20, Batch 260/871, Loss: 0.0054\n",
      "2025-10-07 08:25:25,512 - INFO - Epoch 3/20, Batch 270/871, Loss: 0.0223\n"
     ]
    },
    {
     "name": "stderr",
     "output_type": "stream",
     "text": [
      "[2025-10-07 08:25:32,868] [INFO] [Worker ID: 330506]: Processing video 12100/5223...\n"
     ]
    },
    {
     "name": "stdout",
     "output_type": "stream",
     "text": [
      "2025-10-07 08:26:01,203 - INFO - Epoch 3/20, Batch 280/871, Loss: 0.0197\n"
     ]
    },
    {
     "name": "stderr",
     "output_type": "stream",
     "text": [
      "[2025-10-07 08:26:21,242] [INFO] [Worker ID: 330573]: Processing video 12200/5223...\n"
     ]
    },
    {
     "name": "stdout",
     "output_type": "stream",
     "text": [
      "2025-10-07 08:26:26,632 - INFO - Epoch 3/20, Batch 290/871, Loss: 0.0077\n",
      "2025-10-07 08:27:01,057 - INFO - Epoch 3/20, Batch 300/871, Loss: 0.0585\n"
     ]
    },
    {
     "name": "stderr",
     "output_type": "stream",
     "text": [
      "[2025-10-07 08:27:08,338] [INFO] [Worker ID: 330506]: Processing video 12300/5223...\n"
     ]
    },
    {
     "name": "stdout",
     "output_type": "stream",
     "text": [
      "2025-10-07 08:27:26,407 - INFO - Epoch 3/20, Batch 310/871, Loss: 0.0158\n"
     ]
    },
    {
     "name": "stderr",
     "output_type": "stream",
     "text": [
      "[2025-10-07 08:27:56,815] [INFO] [Worker ID: 330439]: Processing video 12400/5223...\n"
     ]
    },
    {
     "name": "stdout",
     "output_type": "stream",
     "text": [
      "2025-10-07 08:27:57,122 - INFO - Epoch 3/20, Batch 320/871, Loss: 0.0038\n",
      "2025-10-07 08:28:20,386 - INFO - Epoch 3/20, Batch 330/871, Loss: 0.0050\n"
     ]
    },
    {
     "name": "stderr",
     "output_type": "stream",
     "text": [
      "[2025-10-07 08:28:44,386] [INFO] [Worker ID: 330573]: Processing video 12500/5223...\n"
     ]
    },
    {
     "name": "stdout",
     "output_type": "stream",
     "text": [
      "2025-10-07 08:28:54,404 - INFO - Epoch 3/20, Batch 340/871, Loss: 0.0198\n",
      "2025-10-07 08:29:23,007 - INFO - Epoch 3/20, Batch 350/871, Loss: 0.0391\n"
     ]
    },
    {
     "name": "stderr",
     "output_type": "stream",
     "text": [
      "[2025-10-07 08:29:33,421] [INFO] [Worker ID: 330439]: Processing video 12600/5223...\n"
     ]
    },
    {
     "name": "stdout",
     "output_type": "stream",
     "text": [
      "2025-10-07 08:29:47,119 - INFO - Epoch 3/20, Batch 360/871, Loss: 0.0080\n",
      "2025-10-07 08:30:18,008 - INFO - Epoch 3/20, Batch 370/871, Loss: 0.0093\n"
     ]
    },
    {
     "name": "stderr",
     "output_type": "stream",
     "text": [
      "[2025-10-07 08:30:22,490] [INFO] [Worker ID: 330439]: Processing video 12700/5223...\n"
     ]
    },
    {
     "name": "stdout",
     "output_type": "stream",
     "text": [
      "2025-10-07 08:30:53,088 - INFO - Epoch 3/20, Batch 380/871, Loss: 0.0086\n"
     ]
    },
    {
     "name": "stderr",
     "output_type": "stream",
     "text": [
      "[2025-10-07 08:31:10,822] [INFO] [Worker ID: 330375]: Processing video 12800/5223...\n"
     ]
    },
    {
     "name": "stdout",
     "output_type": "stream",
     "text": [
      "2025-10-07 08:31:14,275 - INFO - Epoch 3/20, Batch 390/871, Loss: 0.0184\n",
      "2025-10-07 08:31:46,454 - INFO - Epoch 3/20, Batch 400/871, Loss: 0.0063\n"
     ]
    },
    {
     "name": "stderr",
     "output_type": "stream",
     "text": [
      "[2025-10-07 08:31:57,823] [INFO] [Worker ID: 330506]: Processing video 12900/5223...\n"
     ]
    },
    {
     "name": "stdout",
     "output_type": "stream",
     "text": [
      "2025-10-07 08:32:08,777 - INFO - Epoch 3/20, Batch 410/871, Loss: 0.0052\n",
      "2025-10-07 08:32:42,774 - INFO - Epoch 3/20, Batch 420/871, Loss: 0.0130\n"
     ]
    },
    {
     "name": "stderr",
     "output_type": "stream",
     "text": [
      "[2025-10-07 08:32:45,762] [INFO] [Worker ID: 330573]: Processing video 13000/5223...\n"
     ]
    },
    {
     "name": "stdout",
     "output_type": "stream",
     "text": [
      "2025-10-07 08:33:11,846 - INFO - Epoch 3/20, Batch 430/871, Loss: 0.0097\n"
     ]
    },
    {
     "name": "stderr",
     "output_type": "stream",
     "text": [
      "[2025-10-07 08:33:38,065] [INFO] [Worker ID: 330375]: Processing video 13100/5223...\n"
     ]
    },
    {
     "name": "stdout",
     "output_type": "stream",
     "text": [
      "2025-10-07 08:33:40,514 - INFO - Epoch 3/20, Batch 440/871, Loss: 0.0167\n",
      "2025-10-07 08:34:11,708 - INFO - Epoch 3/20, Batch 450/871, Loss: 0.0175\n"
     ]
    },
    {
     "name": "stderr",
     "output_type": "stream",
     "text": [
      "[2025-10-07 08:34:27,983] [INFO] [Worker ID: 330375]: Processing video 13200/5223...\n"
     ]
    },
    {
     "name": "stdout",
     "output_type": "stream",
     "text": [
      "2025-10-07 08:34:41,281 - INFO - Epoch 3/20, Batch 460/871, Loss: 0.0140\n",
      "2025-10-07 08:35:08,670 - INFO - Epoch 3/20, Batch 470/871, Loss: 0.0086\n"
     ]
    },
    {
     "name": "stderr",
     "output_type": "stream",
     "text": [
      "[2025-10-07 08:35:16,570] [INFO] [Worker ID: 330573]: Processing video 13300/5223...\n"
     ]
    },
    {
     "name": "stdout",
     "output_type": "stream",
     "text": [
      "2025-10-07 08:35:46,205 - INFO - Epoch 3/20, Batch 480/871, Loss: 0.0067\n"
     ]
    },
    {
     "name": "stderr",
     "output_type": "stream",
     "text": [
      "[2025-10-07 08:36:08,613] [INFO] [Worker ID: 330439]: Processing video 13400/5223...\n"
     ]
    },
    {
     "name": "stdout",
     "output_type": "stream",
     "text": [
      "2025-10-07 08:36:11,723 - INFO - Epoch 3/20, Batch 490/871, Loss: 0.0039\n",
      "2025-10-07 08:36:46,074 - INFO - Epoch 3/20, Batch 500/871, Loss: 0.0020\n"
     ]
    },
    {
     "name": "stderr",
     "output_type": "stream",
     "text": [
      "[2025-10-07 08:36:59,471] [INFO] [Worker ID: 330439]: Processing video 13500/5223...\n"
     ]
    },
    {
     "name": "stdout",
     "output_type": "stream",
     "text": [
      "2025-10-07 08:37:14,809 - INFO - Epoch 3/20, Batch 510/871, Loss: 0.0284\n",
      "2025-10-07 08:37:46,411 - INFO - Epoch 3/20, Batch 520/871, Loss: 0.0114\n"
     ]
    },
    {
     "name": "stderr",
     "output_type": "stream",
     "text": [
      "[2025-10-07 08:37:47,990] [INFO] [Worker ID: 330506]: Processing video 13600/5223...\n"
     ]
    },
    {
     "name": "stdout",
     "output_type": "stream",
     "text": [
      "2025-10-07 08:38:13,532 - INFO - Epoch 3/20, Batch 530/871, Loss: 0.0221\n"
     ]
    },
    {
     "name": "stderr",
     "output_type": "stream",
     "text": [
      "[2025-10-07 08:38:35,364] [INFO] [Worker ID: 330375]: Processing video 13700/5223...\n"
     ]
    },
    {
     "name": "stdout",
     "output_type": "stream",
     "text": [
      "2025-10-07 08:38:39,284 - INFO - Epoch 3/20, Batch 540/871, Loss: 0.0068\n",
      "2025-10-07 08:39:22,505 - INFO - Epoch 3/20, Batch 550/871, Loss: 0.0113\n"
     ]
    },
    {
     "name": "stderr",
     "output_type": "stream",
     "text": [
      "[2025-10-07 08:39:33,154] [INFO] [Worker ID: 330375]: Processing video 13800/5223...\n"
     ]
    },
    {
     "name": "stdout",
     "output_type": "stream",
     "text": [
      "2025-10-07 08:39:46,888 - INFO - Epoch 3/20, Batch 560/871, Loss: 0.0768\n",
      "2025-10-07 08:40:18,710 - INFO - Epoch 3/20, Batch 570/871, Loss: 0.0590\n"
     ]
    },
    {
     "name": "stderr",
     "output_type": "stream",
     "text": [
      "[2025-10-07 08:40:22,556] [INFO] [Worker ID: 330375]: Processing video 13900/5223...\n"
     ]
    },
    {
     "name": "stdout",
     "output_type": "stream",
     "text": [
      "2025-10-07 08:40:42,109 - INFO - Epoch 3/20, Batch 580/871, Loss: 0.0035\n"
     ]
    },
    {
     "name": "stderr",
     "output_type": "stream",
     "text": [
      "[2025-10-07 08:41:10,468] [INFO] [Worker ID: 330439]: Processing video 14000/5223...\n"
     ]
    },
    {
     "name": "stdout",
     "output_type": "stream",
     "text": [
      "2025-10-07 08:41:20,598 - INFO - Epoch 3/20, Batch 590/871, Loss: 0.0034\n",
      "2025-10-07 08:41:42,360 - INFO - Epoch 3/20, Batch 600/871, Loss: 0.0056\n"
     ]
    },
    {
     "name": "stderr",
     "output_type": "stream",
     "text": [
      "[2025-10-07 08:42:01,011] [INFO] [Worker ID: 330375]: Processing video 14100/5223...\n"
     ]
    },
    {
     "name": "stdout",
     "output_type": "stream",
     "text": [
      "2025-10-07 08:42:18,316 - INFO - Epoch 3/20, Batch 610/871, Loss: 0.0040\n",
      "2025-10-07 08:42:42,993 - INFO - Epoch 3/20, Batch 620/871, Loss: 0.0126\n"
     ]
    },
    {
     "name": "stderr",
     "output_type": "stream",
     "text": [
      "[2025-10-07 08:42:46,821] [INFO] [Worker ID: 330506]: Processing video 14200/5223...\n"
     ]
    },
    {
     "name": "stdout",
     "output_type": "stream",
     "text": [
      "2025-10-07 08:43:15,726 - INFO - Epoch 3/20, Batch 630/871, Loss: 0.0396\n"
     ]
    },
    {
     "name": "stderr",
     "output_type": "stream",
     "text": [
      "[2025-10-07 08:43:34,717] [INFO] [Worker ID: 330506]: Processing video 14300/5223...\n"
     ]
    },
    {
     "name": "stdout",
     "output_type": "stream",
     "text": [
      "2025-10-07 08:43:35,440 - INFO - Epoch 3/20, Batch 640/871, Loss: 0.0079\n",
      "2025-10-07 08:44:13,929 - INFO - Epoch 3/20, Batch 650/871, Loss: 0.0103\n"
     ]
    },
    {
     "name": "stderr",
     "output_type": "stream",
     "text": [
      "[2025-10-07 08:44:30,062] [INFO] [Worker ID: 330375]: Processing video 14400/5223...\n"
     ]
    },
    {
     "name": "stdout",
     "output_type": "stream",
     "text": [
      "2025-10-07 08:44:43,081 - INFO - Epoch 3/20, Batch 660/871, Loss: 0.0035\n",
      "2025-10-07 08:45:23,603 - INFO - Epoch 3/20, Batch 670/871, Loss: 0.0100\n"
     ]
    },
    {
     "name": "stderr",
     "output_type": "stream",
     "text": [
      "[2025-10-07 08:45:25,093] [INFO] [Worker ID: 330439]: Processing video 14500/5223...\n"
     ]
    },
    {
     "name": "stdout",
     "output_type": "stream",
     "text": [
      "2025-10-07 08:45:50,013 - INFO - Epoch 3/20, Batch 680/871, Loss: 0.0152\n"
     ]
    },
    {
     "name": "stderr",
     "output_type": "stream",
     "text": [
      "[2025-10-07 08:46:17,015] [INFO] [Worker ID: 330573]: Processing video 14600/5223...\n"
     ]
    },
    {
     "name": "stdout",
     "output_type": "stream",
     "text": [
      "2025-10-07 08:46:20,247 - INFO - Epoch 3/20, Batch 690/871, Loss: 0.0060\n",
      "2025-10-07 08:46:54,469 - INFO - Epoch 3/20, Batch 700/871, Loss: 0.0072\n"
     ]
    },
    {
     "name": "stderr",
     "output_type": "stream",
     "text": [
      "[2025-10-07 08:47:11,107] [INFO] [Worker ID: 330439]: Processing video 14700/5223...\n"
     ]
    },
    {
     "name": "stdout",
     "output_type": "stream",
     "text": [
      "2025-10-07 08:47:26,672 - INFO - Epoch 3/20, Batch 710/871, Loss: 0.0114\n",
      "2025-10-07 08:47:54,152 - INFO - Epoch 3/20, Batch 720/871, Loss: 0.0043\n"
     ]
    },
    {
     "name": "stderr",
     "output_type": "stream",
     "text": [
      "[2025-10-07 08:48:00,710] [INFO] [Worker ID: 330506]: Processing video 14800/5223...\n"
     ]
    },
    {
     "name": "stdout",
     "output_type": "stream",
     "text": [
      "2025-10-07 08:48:22,551 - INFO - Epoch 3/20, Batch 730/871, Loss: 0.0764\n"
     ]
    },
    {
     "name": "stderr",
     "output_type": "stream",
     "text": [
      "[2025-10-07 08:48:49,636] [INFO] [Worker ID: 330439]: Processing video 14900/5223...\n"
     ]
    },
    {
     "name": "stdout",
     "output_type": "stream",
     "text": [
      "2025-10-07 08:48:53,103 - INFO - Epoch 3/20, Batch 740/871, Loss: 0.0094\n",
      "2025-10-07 08:49:20,739 - INFO - Epoch 3/20, Batch 750/871, Loss: 0.0082\n"
     ]
    },
    {
     "name": "stderr",
     "output_type": "stream",
     "text": [
      "[2025-10-07 08:49:39,226] [INFO] [Worker ID: 330573]: Processing video 15000/5223...\n"
     ]
    },
    {
     "name": "stdout",
     "output_type": "stream",
     "text": [
      "2025-10-07 08:49:57,625 - INFO - Epoch 3/20, Batch 760/871, Loss: 0.0079\n",
      "2025-10-07 08:50:19,340 - INFO - Epoch 3/20, Batch 770/871, Loss: 0.0395\n"
     ]
    },
    {
     "name": "stderr",
     "output_type": "stream",
     "text": [
      "[2025-10-07 08:50:28,544] [INFO] [Worker ID: 330506]: Processing video 15100/5223...\n"
     ]
    },
    {
     "name": "stdout",
     "output_type": "stream",
     "text": [
      "2025-10-07 08:50:57,309 - INFO - Epoch 3/20, Batch 780/871, Loss: 0.0057\n"
     ]
    },
    {
     "name": "stderr",
     "output_type": "stream",
     "text": [
      "[2025-10-07 08:51:19,459] [INFO] [Worker ID: 330573]: Processing video 15200/5223...\n"
     ]
    },
    {
     "name": "stdout",
     "output_type": "stream",
     "text": [
      "2025-10-07 08:51:20,013 - INFO - Epoch 3/20, Batch 790/871, Loss: 0.0148\n",
      "2025-10-07 08:51:56,629 - INFO - Epoch 3/20, Batch 800/871, Loss: 0.0059\n"
     ]
    },
    {
     "name": "stderr",
     "output_type": "stream",
     "text": [
      "[2025-10-07 08:52:08,998] [INFO] [Worker ID: 330506]: Processing video 15300/5223...\n"
     ]
    },
    {
     "name": "stdout",
     "output_type": "stream",
     "text": [
      "2025-10-07 08:52:27,695 - INFO - Epoch 3/20, Batch 810/871, Loss: 0.0382\n",
      "2025-10-07 08:52:53,712 - INFO - Epoch 3/20, Batch 820/871, Loss: 0.0504\n"
     ]
    },
    {
     "name": "stderr",
     "output_type": "stream",
     "text": [
      "[2025-10-07 08:52:55,890] [INFO] [Worker ID: 330439]: Processing video 15400/5223...\n"
     ]
    },
    {
     "name": "stdout",
     "output_type": "stream",
     "text": [
      "2025-10-07 08:53:25,094 - INFO - Epoch 3/20, Batch 830/871, Loss: 0.0234\n"
     ]
    },
    {
     "name": "stderr",
     "output_type": "stream",
     "text": [
      "[2025-10-07 08:53:40,917] [INFO] [Worker ID: 330439]: Processing video 15500/5223...\n"
     ]
    },
    {
     "name": "stdout",
     "output_type": "stream",
     "text": [
      "2025-10-07 08:53:49,120 - INFO - Epoch 3/20, Batch 840/871, Loss: 0.0053\n",
      "2025-10-07 08:54:20,798 - INFO - Epoch 3/20, Batch 850/871, Loss: 0.0027\n"
     ]
    },
    {
     "name": "stderr",
     "output_type": "stream",
     "text": [
      "[2025-10-07 08:54:30,260] [INFO] [Worker ID: 330439]: Processing video 15600/5223...\n"
     ]
    },
    {
     "name": "stdout",
     "output_type": "stream",
     "text": [
      "2025-10-07 08:54:45,699 - INFO - Epoch 3/20, Batch 860/871, Loss: 0.0517\n",
      "2025-10-07 08:55:03,636 - INFO - Epoch 3/20, Batch 870/871, Loss: 0.0066\n"
     ]
    },
    {
     "name": "stderr",
     "output_type": "stream",
     "text": [
      "/tmp/ipykernel_117948/411598384.py:171: FutureWarning: `torch.cuda.amp.autocast(args...)` is deprecated. Please use `torch.amp.autocast('cuda', args...)` instead.\n",
      "  with torch.no_grad(), autocast():\n",
      "[2025-10-07 08:55:52,279] [INFO] [Worker ID: 414952]: Processing video 2700/1306...\n",
      "[2025-10-07 08:56:39,963] [INFO] [Worker ID: 415019]: Processing video 2800/1306...\n",
      "[2025-10-07 08:57:26,266] [INFO] [Worker ID: 414888]: Processing video 2900/1306...\n",
      "[2025-10-07 08:58:12,269] [INFO] [Worker ID: 415086]: Processing video 3000/1306...\n",
      "[2025-10-07 08:59:03,566] [INFO] [Worker ID: 415019]: Processing video 3100/1306...\n",
      "[2025-10-07 08:59:50,030] [INFO] [Worker ID: 415019]: Processing video 3200/1306...\n",
      "[2025-10-07 09:00:38,042] [INFO] [Worker ID: 415086]: Processing video 3300/1306...\n",
      "[2025-10-07 09:01:27,080] [INFO] [Worker ID: 415086]: Processing video 3400/1306...\n",
      "[2025-10-07 09:02:13,708] [INFO] [Worker ID: 414888]: Processing video 3500/1306...\n",
      "[2025-10-07 09:03:00,692] [INFO] [Worker ID: 414888]: Processing video 3600/1306...\n",
      "[2025-10-07 09:03:51,184] [INFO] [Worker ID: 415019]: Processing video 3700/1306...\n",
      "[2025-10-07 09:04:39,070] [INFO] [Worker ID: 414952]: Processing video 3800/1306...\n",
      "[2025-10-07 09:05:27,279] [INFO] [Worker ID: 414888]: Processing video 3900/1306...\n"
     ]
    },
    {
     "name": "stdout",
     "output_type": "stream",
     "text": [
      "2025-10-07 09:05:37,598 - INFO - Epoch 3: Train Acc: 0.8371, Val Acc: 0.9426, AUC: 0.9663\n",
      "2025-10-07 09:05:58,700 - INFO - Epoch 4/20, Batch 0/871, Loss: 0.0051\n"
     ]
    },
    {
     "name": "stderr",
     "output_type": "stream",
     "text": [
      "[2025-10-07 09:06:00,397] [INFO] [Worker ID: 436571]: Processing video 15700/5223...\n"
     ]
    },
    {
     "name": "stdout",
     "output_type": "stream",
     "text": [
      "2025-10-07 09:06:30,243 - INFO - Epoch 4/20, Batch 10/871, Loss: 0.0107\n"
     ]
    },
    {
     "name": "stderr",
     "output_type": "stream",
     "text": [
      "[2025-10-07 09:06:50,375] [INFO] [Worker ID: 436373]: Processing video 15800/5223...\n"
     ]
    },
    {
     "name": "stdout",
     "output_type": "stream",
     "text": [
      "2025-10-07 09:06:55,583 - INFO - Epoch 4/20, Batch 20/871, Loss: 0.0051\n",
      "2025-10-07 09:07:32,428 - INFO - Epoch 4/20, Batch 30/871, Loss: 0.0034\n"
     ]
    },
    {
     "name": "stderr",
     "output_type": "stream",
     "text": [
      "[2025-10-07 09:07:41,272] [INFO] [Worker ID: 436571]: Processing video 15900/5223...\n"
     ]
    },
    {
     "name": "stdout",
     "output_type": "stream",
     "text": [
      "2025-10-07 09:08:02,236 - INFO - Epoch 4/20, Batch 40/871, Loss: 0.0076\n",
      "2025-10-07 09:08:28,895 - INFO - Epoch 4/20, Batch 50/871, Loss: 0.0192\n"
     ]
    },
    {
     "name": "stderr",
     "output_type": "stream",
     "text": [
      "[2025-10-07 09:08:34,795] [INFO] [Worker ID: 436504]: Processing video 16000/5223...\n"
     ]
    },
    {
     "name": "stdout",
     "output_type": "stream",
     "text": [
      "2025-10-07 09:09:11,591 - INFO - Epoch 4/20, Batch 60/871, Loss: 0.0069\n"
     ]
    },
    {
     "name": "stderr",
     "output_type": "stream",
     "text": [
      "[2025-10-07 09:09:27,952] [INFO] [Worker ID: 436504]: Processing video 16100/5223...\n"
     ]
    },
    {
     "name": "stdout",
     "output_type": "stream",
     "text": [
      "2025-10-07 09:09:32,237 - INFO - Epoch 4/20, Batch 70/871, Loss: 0.0059\n",
      "2025-10-07 09:10:10,005 - INFO - Epoch 4/20, Batch 80/871, Loss: 0.0042\n"
     ]
    },
    {
     "name": "stderr",
     "output_type": "stream",
     "text": [
      "[2025-10-07 09:10:18,791] [INFO] [Worker ID: 436437]: Processing video 16200/5223...\n"
     ]
    },
    {
     "name": "stdout",
     "output_type": "stream",
     "text": [
      "2025-10-07 09:10:37,771 - INFO - Epoch 4/20, Batch 90/871, Loss: 0.0270\n"
     ]
    },
    {
     "name": "stderr",
     "output_type": "stream",
     "text": [
      "[2025-10-07 09:11:09,671] [INFO] [Worker ID: 436437]: Processing video 16300/5223...\n"
     ]
    },
    {
     "name": "stdout",
     "output_type": "stream",
     "text": [
      "2025-10-07 09:11:11,043 - INFO - Epoch 4/20, Batch 100/871, Loss: 0.0667\n",
      "2025-10-07 09:11:33,337 - INFO - Epoch 4/20, Batch 110/871, Loss: 0.0396\n"
     ]
    },
    {
     "name": "stderr",
     "output_type": "stream",
     "text": [
      "[2025-10-07 09:11:58,102] [INFO] [Worker ID: 436373]: Processing video 16400/5223...\n"
     ]
    },
    {
     "name": "stdout",
     "output_type": "stream",
     "text": [
      "2025-10-07 09:12:05,126 - INFO - Epoch 4/20, Batch 120/871, Loss: 0.0070\n",
      "2025-10-07 09:12:34,864 - INFO - Epoch 4/20, Batch 130/871, Loss: 0.0101\n"
     ]
    },
    {
     "name": "stderr",
     "output_type": "stream",
     "text": [
      "[2025-10-07 09:12:43,042] [INFO] [Worker ID: 436437]: Processing video 16500/5223...\n"
     ]
    },
    {
     "name": "stdout",
     "output_type": "stream",
     "text": [
      "2025-10-07 09:13:00,527 - INFO - Epoch 4/20, Batch 140/871, Loss: 0.0036\n",
      "2025-10-07 09:13:26,549 - INFO - Epoch 4/20, Batch 150/871, Loss: 0.0091\n"
     ]
    },
    {
     "name": "stderr",
     "output_type": "stream",
     "text": [
      "[2025-10-07 09:13:30,053] [INFO] [Worker ID: 436504]: Processing video 16600/5223...\n"
     ]
    },
    {
     "name": "stdout",
     "output_type": "stream",
     "text": [
      "2025-10-07 09:13:59,437 - INFO - Epoch 4/20, Batch 160/871, Loss: 0.0041\n"
     ]
    },
    {
     "name": "stderr",
     "output_type": "stream",
     "text": [
      "[2025-10-07 09:14:18,803] [INFO] [Worker ID: 436504]: Processing video 16700/5223...\n"
     ]
    },
    {
     "name": "stdout",
     "output_type": "stream",
     "text": [
      "2025-10-07 09:14:31,321 - INFO - Epoch 4/20, Batch 170/871, Loss: 0.0132\n",
      "2025-10-07 09:15:03,347 - INFO - Epoch 4/20, Batch 180/871, Loss: 0.0017\n"
     ]
    },
    {
     "name": "stderr",
     "output_type": "stream",
     "text": [
      "[2025-10-07 09:15:11,377] [INFO] [Worker ID: 436373]: Processing video 16800/5223...\n"
     ]
    },
    {
     "name": "stdout",
     "output_type": "stream",
     "text": [
      "2025-10-07 09:15:27,794 - INFO - Epoch 4/20, Batch 190/871, Loss: 0.0150\n"
     ]
    },
    {
     "name": "stderr",
     "output_type": "stream",
     "text": [
      "[2025-10-07 09:15:58,999] [INFO] [Worker ID: 436373]: Processing video 16900/5223...\n"
     ]
    },
    {
     "name": "stdout",
     "output_type": "stream",
     "text": [
      "2025-10-07 09:16:02,512 - INFO - Epoch 4/20, Batch 200/871, Loss: 0.0013\n",
      "2025-10-07 09:16:24,962 - INFO - Epoch 4/20, Batch 210/871, Loss: 0.0104\n"
     ]
    },
    {
     "name": "stderr",
     "output_type": "stream",
     "text": [
      "[2025-10-07 09:16:48,142] [INFO] [Worker ID: 436373]: Processing video 17000/5223...\n"
     ]
    },
    {
     "name": "stdout",
     "output_type": "stream",
     "text": [
      "2025-10-07 09:17:01,070 - INFO - Epoch 4/20, Batch 220/871, Loss: 0.0115\n",
      "2025-10-07 09:17:24,326 - INFO - Epoch 4/20, Batch 230/871, Loss: 0.0014\n"
     ]
    },
    {
     "name": "stderr",
     "output_type": "stream",
     "text": [
      "[2025-10-07 09:17:37,404] [INFO] [Worker ID: 436571]: Processing video 17100/5223...\n"
     ]
    },
    {
     "name": "stdout",
     "output_type": "stream",
     "text": [
      "2025-10-07 09:17:57,296 - INFO - Epoch 4/20, Batch 240/871, Loss: 0.0073\n",
      "2025-10-07 09:18:22,241 - INFO - Epoch 4/20, Batch 250/871, Loss: 0.0134\n"
     ]
    },
    {
     "name": "stderr",
     "output_type": "stream",
     "text": [
      "[2025-10-07 09:18:27,839] [INFO] [Worker ID: 436504]: Processing video 17200/5223...\n"
     ]
    },
    {
     "name": "stdout",
     "output_type": "stream",
     "text": [
      "2025-10-07 09:18:53,310 - INFO - Epoch 4/20, Batch 260/871, Loss: 0.0033\n"
     ]
    },
    {
     "name": "stderr",
     "output_type": "stream",
     "text": [
      "[2025-10-07 09:19:14,775] [INFO] [Worker ID: 436437]: Processing video 17300/5223...\n"
     ]
    },
    {
     "name": "stdout",
     "output_type": "stream",
     "text": [
      "2025-10-07 09:19:21,364 - INFO - Epoch 4/20, Batch 270/871, Loss: 0.0077\n",
      "2025-10-07 09:19:55,840 - INFO - Epoch 4/20, Batch 280/871, Loss: 0.0102\n"
     ]
    },
    {
     "name": "stderr",
     "output_type": "stream",
     "text": [
      "[2025-10-07 09:20:01,832] [INFO] [Worker ID: 436504]: Processing video 17400/5223...\n"
     ]
    },
    {
     "name": "stdout",
     "output_type": "stream",
     "text": [
      "2025-10-07 09:20:17,172 - INFO - Epoch 4/20, Batch 290/871, Loss: 0.0014\n",
      "2025-10-07 09:20:48,009 - INFO - Epoch 4/20, Batch 300/871, Loss: 0.0048\n"
     ]
    },
    {
     "name": "stderr",
     "output_type": "stream",
     "text": [
      "[2025-10-07 09:20:51,295] [INFO] [Worker ID: 436571]: Processing video 17500/5223...\n"
     ]
    },
    {
     "name": "stdout",
     "output_type": "stream",
     "text": [
      "2025-10-07 09:21:16,243 - INFO - Epoch 4/20, Batch 310/871, Loss: 0.0141\n"
     ]
    },
    {
     "name": "stderr",
     "output_type": "stream",
     "text": [
      "[2025-10-07 09:21:39,254] [INFO] [Worker ID: 436504]: Processing video 17600/5223...\n"
     ]
    },
    {
     "name": "stdout",
     "output_type": "stream",
     "text": [
      "2025-10-07 09:21:50,720 - INFO - Epoch 4/20, Batch 320/871, Loss: 0.0060\n",
      "2025-10-07 09:22:12,358 - INFO - Epoch 4/20, Batch 330/871, Loss: 0.0062\n"
     ]
    },
    {
     "name": "stderr",
     "output_type": "stream",
     "text": [
      "[2025-10-07 09:22:28,740] [INFO] [Worker ID: 436437]: Processing video 17700/5223...\n"
     ]
    },
    {
     "name": "stdout",
     "output_type": "stream",
     "text": [
      "2025-10-07 09:22:51,193 - INFO - Epoch 4/20, Batch 340/871, Loss: 0.0014\n",
      "2025-10-07 09:23:17,771 - INFO - Epoch 4/20, Batch 350/871, Loss: 0.0017\n"
     ]
    },
    {
     "name": "stderr",
     "output_type": "stream",
     "text": [
      "[2025-10-07 09:23:20,139] [INFO] [Worker ID: 436571]: Processing video 17800/5223...\n"
     ]
    },
    {
     "name": "stdout",
     "output_type": "stream",
     "text": [
      "2025-10-07 09:23:52,787 - INFO - Epoch 4/20, Batch 360/871, Loss: 0.0032\n"
     ]
    },
    {
     "name": "stderr",
     "output_type": "stream",
     "text": [
      "[2025-10-07 09:24:08,087] [INFO] [Worker ID: 436437]: Processing video 17900/5223...\n"
     ]
    },
    {
     "name": "stdout",
     "output_type": "stream",
     "text": [
      "2025-10-07 09:24:14,867 - INFO - Epoch 4/20, Batch 370/871, Loss: 0.0042\n",
      "2025-10-07 09:24:48,612 - INFO - Epoch 4/20, Batch 380/871, Loss: 0.0071\n"
     ]
    },
    {
     "name": "stderr",
     "output_type": "stream",
     "text": [
      "[2025-10-07 09:24:57,400] [INFO] [Worker ID: 436571]: Processing video 18000/5223...\n"
     ]
    },
    {
     "name": "stdout",
     "output_type": "stream",
     "text": [
      "2025-10-07 09:25:08,733 - INFO - Epoch 4/20, Batch 390/871, Loss: 0.0269\n",
      "2025-10-07 09:25:40,163 - INFO - Epoch 4/20, Batch 400/871, Loss: 0.0037\n"
     ]
    },
    {
     "name": "stderr",
     "output_type": "stream",
     "text": [
      "[2025-10-07 09:25:42,548] [INFO] [Worker ID: 436571]: Processing video 18100/5223...\n"
     ]
    },
    {
     "name": "stdout",
     "output_type": "stream",
     "text": [
      "2025-10-07 09:26:06,486 - INFO - Epoch 4/20, Batch 410/871, Loss: 0.0073\n"
     ]
    },
    {
     "name": "stderr",
     "output_type": "stream",
     "text": [
      "[2025-10-07 09:26:33,205] [INFO] [Worker ID: 436504]: Processing video 18200/5223...\n"
     ]
    },
    {
     "name": "stdout",
     "output_type": "stream",
     "text": [
      "2025-10-07 09:26:43,627 - INFO - Epoch 4/20, Batch 420/871, Loss: 0.0066\n",
      "2025-10-07 09:27:07,964 - INFO - Epoch 4/20, Batch 430/871, Loss: 0.0471\n"
     ]
    },
    {
     "name": "stderr",
     "output_type": "stream",
     "text": [
      "[2025-10-07 09:27:22,171] [INFO] [Worker ID: 436437]: Processing video 18300/5223...\n"
     ]
    },
    {
     "name": "stdout",
     "output_type": "stream",
     "text": [
      "2025-10-07 09:27:42,670 - INFO - Epoch 4/20, Batch 440/871, Loss: 0.0048\n",
      "2025-10-07 09:28:06,661 - INFO - Epoch 4/20, Batch 450/871, Loss: 0.0068\n"
     ]
    },
    {
     "name": "stderr",
     "output_type": "stream",
     "text": [
      "[2025-10-07 09:28:09,698] [INFO] [Worker ID: 436373]: Processing video 18400/5223...\n"
     ]
    },
    {
     "name": "stdout",
     "output_type": "stream",
     "text": [
      "2025-10-07 09:28:35,787 - INFO - Epoch 4/20, Batch 460/871, Loss: 0.0055\n"
     ]
    },
    {
     "name": "stderr",
     "output_type": "stream",
     "text": [
      "[2025-10-07 09:28:56,715] [INFO] [Worker ID: 436504]: Processing video 18500/5223...\n"
     ]
    },
    {
     "name": "stdout",
     "output_type": "stream",
     "text": [
      "2025-10-07 09:28:59,151 - INFO - Epoch 4/20, Batch 470/871, Loss: 0.0037\n",
      "2025-10-07 09:29:29,123 - INFO - Epoch 4/20, Batch 480/871, Loss: 0.0097\n"
     ]
    },
    {
     "name": "stderr",
     "output_type": "stream",
     "text": [
      "[2025-10-07 09:29:42,521] [INFO] [Worker ID: 436437]: Processing video 18600/5223...\n"
     ]
    },
    {
     "name": "stdout",
     "output_type": "stream",
     "text": [
      "2025-10-07 09:29:56,935 - INFO - Epoch 4/20, Batch 490/871, Loss: 0.0189\n",
      "2025-10-07 09:30:30,684 - INFO - Epoch 4/20, Batch 500/871, Loss: 0.0074\n"
     ]
    },
    {
     "name": "stderr",
     "output_type": "stream",
     "text": [
      "[2025-10-07 09:30:31,206] [INFO] [Worker ID: 436504]: Processing video 18700/5223...\n"
     ]
    },
    {
     "name": "stdout",
     "output_type": "stream",
     "text": [
      "2025-10-07 09:30:57,368 - INFO - Epoch 4/20, Batch 510/871, Loss: 0.0092\n"
     ]
    },
    {
     "name": "stderr",
     "output_type": "stream",
     "text": [
      "[2025-10-07 09:31:17,392] [INFO] [Worker ID: 436571]: Processing video 18800/5223...\n"
     ]
    },
    {
     "name": "stdout",
     "output_type": "stream",
     "text": [
      "2025-10-07 09:31:23,477 - INFO - Epoch 4/20, Batch 520/871, Loss: 0.0243\n",
      "2025-10-07 09:31:56,151 - INFO - Epoch 4/20, Batch 530/871, Loss: 0.0025\n"
     ]
    },
    {
     "name": "stderr",
     "output_type": "stream",
     "text": [
      "[2025-10-07 09:32:02,404] [INFO] [Worker ID: 436437]: Processing video 18900/5223...\n"
     ]
    },
    {
     "name": "stdout",
     "output_type": "stream",
     "text": [
      "2025-10-07 09:32:17,622 - INFO - Epoch 4/20, Batch 540/871, Loss: 0.0045\n"
     ]
    },
    {
     "name": "stderr",
     "output_type": "stream",
     "text": [
      "[2025-10-07 09:32:52,552] [INFO] [Worker ID: 436437]: Processing video 19000/5223...\n"
     ]
    },
    {
     "name": "stdout",
     "output_type": "stream",
     "text": [
      "2025-10-07 09:33:00,135 - INFO - Epoch 4/20, Batch 550/871, Loss: 0.0036\n",
      "2025-10-07 09:33:20,773 - INFO - Epoch 4/20, Batch 560/871, Loss: 0.0034\n"
     ]
    },
    {
     "name": "stderr",
     "output_type": "stream",
     "text": [
      "[2025-10-07 09:33:40,838] [INFO] [Worker ID: 436373]: Processing video 19100/5223...\n"
     ]
    },
    {
     "name": "stdout",
     "output_type": "stream",
     "text": [
      "2025-10-07 09:33:53,640 - INFO - Epoch 4/20, Batch 570/871, Loss: 0.0059\n",
      "2025-10-07 09:34:19,116 - INFO - Epoch 4/20, Batch 580/871, Loss: 0.0146\n"
     ]
    },
    {
     "name": "stderr",
     "output_type": "stream",
     "text": [
      "[2025-10-07 09:34:27,364] [INFO] [Worker ID: 436437]: Processing video 19200/5223...\n"
     ]
    },
    {
     "name": "stdout",
     "output_type": "stream",
     "text": [
      "2025-10-07 09:34:53,666 - INFO - Epoch 4/20, Batch 590/871, Loss: 0.0078\n",
      "2025-10-07 09:35:18,261 - INFO - Epoch 4/20, Batch 600/871, Loss: 0.0030\n"
     ]
    },
    {
     "name": "stderr",
     "output_type": "stream",
     "text": [
      "[2025-10-07 09:35:20,813] [INFO] [Worker ID: 436504]: Processing video 19300/5223...\n"
     ]
    },
    {
     "name": "stdout",
     "output_type": "stream",
     "text": [
      "2025-10-07 09:35:54,470 - INFO - Epoch 4/20, Batch 610/871, Loss: 0.0031\n"
     ]
    },
    {
     "name": "stderr",
     "output_type": "stream",
     "text": [
      "[2025-10-07 09:36:10,925] [INFO] [Worker ID: 436504]: Processing video 19400/5223...\n"
     ]
    },
    {
     "name": "stdout",
     "output_type": "stream",
     "text": [
      "2025-10-07 09:36:22,141 - INFO - Epoch 4/20, Batch 620/871, Loss: 0.0572\n",
      "2025-10-07 09:36:50,643 - INFO - Epoch 4/20, Batch 630/871, Loss: 0.0014\n"
     ]
    },
    {
     "name": "stderr",
     "output_type": "stream",
     "text": [
      "[2025-10-07 09:37:01,576] [INFO] [Worker ID: 436373]: Processing video 19500/5223...\n"
     ]
    },
    {
     "name": "stdout",
     "output_type": "stream",
     "text": [
      "2025-10-07 09:37:19,808 - INFO - Epoch 4/20, Batch 640/871, Loss: 0.0050\n",
      "2025-10-07 09:37:43,819 - INFO - Epoch 4/20, Batch 650/871, Loss: 0.0065\n"
     ]
    },
    {
     "name": "stderr",
     "output_type": "stream",
     "text": [
      "[2025-10-07 09:37:50,518] [INFO] [Worker ID: 436504]: Processing video 19600/5223...\n"
     ]
    }
   ],
   "source": [
    "from sklearn.metrics import roc_curve\n",
    "\n",
    "\n",
    "def evaluate_model(model, val_loader):\n",
    "    \"\"\"Comprehensive model evaluation with multiple metrics including EER\"\"\"\n",
    "    device = torch.device(\"cuda\" if torch.cuda.is_available() else \"cpu\")\n",
    "    model.eval()\n",
    "\n",
    "    all_predictions = []\n",
    "    all_probabilities = []\n",
    "    all_targets = []\n",
    "\n",
    "    with torch.no_grad(), autocast():\n",
    "        for data, targets in val_loader:\n",
    "            data, targets = data.to(device), targets.to(device)\n",
    "            targets = targets.unsqueeze(1)\n",
    "\n",
    "            outputs = model(data)  # Raw logits\n",
    "\n",
    "            probabilities = torch.sigmoid(outputs)\n",
    "            predictions = (probabilities > 0.5).float()\n",
    "\n",
    "            all_predictions.extend(predictions.cpu().numpy())\n",
    "            all_probabilities.extend(probabilities.cpu().numpy())\n",
    "            all_targets.extend(targets.cpu().numpy())\n",
    "\n",
    "    # Calculate comprehensive metrics\n",
    "    accuracy = accuracy_score(all_targets, all_predictions)\n",
    "    auc_score = roc_auc_score(all_targets, all_probabilities)\n",
    "\n",
    "    # Precision-Recall curve\n",
    "    precision, recall, thresholds = precision_recall_curve(\n",
    "        all_targets, all_probabilities\n",
    "    )\n",
    "\n",
    "    # Equal Error Rate (EER) calculation\n",
    "    fpr, tpr, thresh = roc_curve(all_targets, all_probabilities)\n",
    "    fnr = 1 - tpr\n",
    "    eer_threshold = thresh[np.nanargmin(np.absolute(fnr - fpr))]\n",
    "    if np.all(fpr == 0) or np.all(fnr == 0):\n",
    "        eer = 0.5  # Fallback for degenerate cases\n",
    "    else:\n",
    "        eer = fpr[np.nanargmin(np.absolute(fnr - fpr))]\n",
    "\n",
    "    # Plot evaluation metrics\n",
    "    fig, axes = plt.subplots(1, 2, figsize=(12, 5))\n",
    "\n",
    "    # ROC Curve\n",
    "    axes[0].plot(fpr, tpr, label=f\"ROC Curve (AUC = {auc_score:.3f})\")\n",
    "    axes[0].plot([0, 1], [0, 1], \"k--\")\n",
    "    axes[0].set_xlabel(\"False Positive Rate\")\n",
    "    axes[0].set_ylabel(\"True Positive Rate\")\n",
    "    axes[0].set_title(\"ROC Curve\")\n",
    "    axes[0].legend()\n",
    "\n",
    "    # Precision-Recall Curve\n",
    "    axes[1].plot(recall, precision, label=f\"PR Curve\")\n",
    "    axes[1].set_xlabel(\"Recall\")\n",
    "    axes[1].set_ylabel(\"Precision\")\n",
    "    axes[1].set_title(\"Precision-Recall Curve\")\n",
    "    axes[1].legend()\n",
    "\n",
    "    plt.tight_layout()\n",
    "    plt.savefig(\"model_evaluation_metrics.png\", dpi=300, bbox_inches=\"tight\")\n",
    "    plt.show()\n",
    "\n",
    "    print(f\"Model Evaluation Results:\")\n",
    "    print(f\"Accuracy: {accuracy:.4f}\")\n",
    "    print(f\"AUC-ROC: {auc_score:.4f}\")\n",
    "    print(f\"Equal Error Rate (EER): {eer:.4f}\")\n",
    "\n",
    "    return accuracy, auc_score, eer\n",
    "\n",
    "\n",
    "# Main execution code\n",
    "if __name__ == \"__main__\":\n",
    "    # Explicitly tells CUDA to use the 'spawn' start method\n",
    "    multiprocessing.set_start_method(\"spawn\", force=True)\n",
    "\n",
    "    logging.info(\"Initializing deepfake detection model...\")\n",
    "\n",
    "    # Setup data loaders\n",
    "    train_loader, val_loader, pos_weight = setup_training()\n",
    "\n",
    "    # Initialize model\n",
    "    model = DeepfakeDetector(num_frames=15, backbone=\"efficientnet_b4\")\n",
    "\n",
    "    logging.info(\"Starting model training...\")\n",
    "    train_losses, val_losses, train_accs, val_accs = train_model(\n",
    "        model, train_loader, val_loader, pos_weight, num_epochs=20, patience=5\n",
    "    )\n",
    "    # Plot the training and validation loss\n",
    "    plt.figure(figsize=(10, 5))\n",
    "    plt.plot(range(1, len(train_losses) + 1), train_losses, label=\"Training Loss\")\n",
    "    plt.plot(range(1, len(val_losses) + 1), val_losses, label=\"Validation Loss\")\n",
    "    plt.xlabel(\"Epoch\")\n",
    "    plt.ylabel(\"Loss\")\n",
    "    plt.title(\"Training and Validation Loss Over Epochs\")\n",
    "    plt.legend()\n",
    "    plt.grid(True)\n",
    "    plt.savefig(\"loss_curves.png\")\n",
    "    plt.show()\n",
    "\n",
    "    logging.info(\"Evaluating model performance...\")\n",
    "    accuracy, auc_score, eer = evaluate_model(model, val_loader)\n",
    "\n",
    "    # Save final model\n",
    "    torch.save(model.state_dict(), \"models/deepfake_detector_model.pth\")\n",
    "    logging.info(\"Model saved successfully!\")"
   ]
  }
 ],
 "metadata": {
  "kaggle": {
   "accelerator": "gpu",
   "dataSources": [
    {
     "datasetId": 8301318,
     "sourceId": 13105087,
     "sourceType": "datasetVersion"
    },
    {
     "datasetId": 8301820,
     "sourceId": 13105799,
     "sourceType": "datasetVersion"
    },
    {
     "sourceId": 266035024,
     "sourceType": "kernelVersion"
    }
   ],
   "dockerImageVersionId": 31090,
   "isGpuEnabled": true,
   "isInternetEnabled": true,
   "language": "python",
   "sourceType": "notebook"
  },
  "kernelspec": {
   "display_name": "Python 3 (ipykernel)",
   "language": "python",
   "name": "python3"
  },
  "language_info": {
   "codemirror_mode": {
    "name": "ipython",
    "version": 3
   },
   "file_extension": ".py",
   "mimetype": "text/x-python",
   "name": "python",
   "nbconvert_exporter": "python",
   "pygments_lexer": "ipython3",
   "version": "3.11.9"
  }
 },
 "nbformat": 4,
 "nbformat_minor": 4
}
