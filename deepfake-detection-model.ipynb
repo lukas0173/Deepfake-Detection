{
 "cells": [
  {
   "cell_type": "code",
   "execution_count": 1,
   "metadata": {
    "_cell_guid": "b1076dfc-b9ad-4769-8c92-a6c4dae69d19",
    "_uuid": "8f2839f25d086af736a60e9eeb907d3b93b6e0e5",
    "editable": true,
    "slideshow": {
     "slide_type": ""
    },
    "tags": []
   },
   "outputs": [],
   "source": [
    "import logging\n",
    "import multiprocessing\n",
    "import os\n",
    "import random\n",
    "import sys\n",
    "\n",
    "import cv2\n",
    "import matplotlib.pyplot as plt\n",
    "import numpy as np\n",
    "import pandas as pd\n",
    "import torch\n",
    "import torch.nn as nn\n",
    "import torch.optim as optim\n",
    "import torchvision.transforms as transforms\n",
    "from facenet_pytorch import MTCNN\n",
    "from PIL import Image\n",
    "from sklearn.metrics import (\n",
    "    accuracy_score,\n",
    "    precision_recall_curve,\n",
    "    roc_auc_score,\n",
    "    roc_curve,\n",
    ")\n",
    "from sklearn.model_selection import train_test_split\n",
    "from torch.cuda.amp import GradScaler, autocast\n",
    "from torch.optim.lr_scheduler import CosineAnnealingLR\n",
    "from torch.utils.data import DataLoader, Dataset, WeightedRandomSampler\n",
    "\n",
    "from deepfake_dataset import DeepfakeDataset, collate_fn\n",
    "from worker import worker_init_fn"
   ]
  },
  {
   "cell_type": "code",
   "execution_count": 2,
   "metadata": {},
   "outputs": [],
   "source": [
    "BASE_VIDEO_PATH = \"./dataset\"\n",
    "METADATA_PATH = \"./dataset/celeb_df_metadata.csv\""
   ]
  },
  {
   "cell_type": "markdown",
   "metadata": {},
   "source": [
    "# Data Preprocessing Pipeline"
   ]
  },
  {
   "cell_type": "markdown",
   "metadata": {},
   "source": [
    "Imports and Logging Setup: This section imports necessary libraries (e.g., cv2 for video handling, torch for tensors, MTCNN for face detection) and configures logging. Logging is crucial for robustness, as the PDF highlights potential issues like corrupted videos or face detection failures; it allows tracking warnings/errors without crashing the pipeline.\n",
    "\n",
    "Class Initialization (__init__): Initializes the dataset with metadata, transformations, frame count, and image size. It sets up MTCNN for face detection on GPU if available, ensuring efficiency for large datasets like Celeb-DF-v2 with varying video qualities.\n",
    "\n",
    "Length Method (__len__): Returns the number of videos in the metadata, enabling PyTorch's DataLoader to iterate correctly. This is standard but essential for handling the imbalanced dataset size (890 real vs. 5639 fake).\n",
    "\n",
    "Face Extraction Method (extract_faces_from_video): Handles video reading with error checks (e.g., file existence, opening failures) to prevent crashes on problematic files. It uses adaptive sampling (random for short videos, uniform for longer ones) to capture temporal information without bias, extracts faces via MTCNN, and logs failures for debugging.\n",
    "\n",
    "Item Retrieval Method (__getitem__): Fetches a video's data by index, assigns binary labels (0 for real, 1 for fake), extracts faces, and handles shortages with noise-added repetitions to avoid overfitting on duplicates. It applies transformations and stacks frames into a tensor, preparing consistent inputs despite dataset variability."
   ]
  },
  {
   "cell_type": "code",
   "execution_count": 3,
   "metadata": {},
   "outputs": [],
   "source": [
    "# Setup logging for robustness\n",
    "logging.basicConfig(\n",
    "    level=logging.INFO, format=\"%(asctime)s - %(levelname)s - %(message)s\"\n",
    ")\n",
    "# Reconfigure the root logger to ensure output appears in the notebook\n",
    "logger = logging.getLogger()\n",
    "logger.handlers = []  # Clear any existing handlers\n",
    "handler = logging.StreamHandler(\n",
    "    sys.stdout\n",
    ")  # Create a new handler to stream to the console\n",
    "formatter = logging.Formatter(\"%(asctime)s - %(levelname)s - %(message)s\")\n",
    "handler.setFormatter(formatter)\n",
    "logger.addHandler(handler)"
   ]
  },
  {
   "cell_type": "markdown",
   "metadata": {},
   "source": [
    "# Data Augmentation and Transforms"
   ]
  },
  {
   "cell_type": "markdown",
   "metadata": {},
   "source": [
    "Training Transforms (train_transforms): Composes a sequence of augmentations starting with PIL conversion for compatibility, resizing to 224x224 (standard for backbones like EfficientNet), and random flips/rotations to simulate pose variations. Color jitter and affine shear address lighting/quality inconsistencies, enhancing robustness without masking deepfake artifacts; normalization uses ImageNet stats for transfer learning.\n",
    "\n",
    "Validation Transforms (val_transforms): A minimal composition for evaluation, including PIL conversion, resizing, tensor conversion, and normalization. This ensures consistent inputs without random augmentations, allowing fair assessment of model generalization on the imbalanced validation set."
   ]
  },
  {
   "cell_type": "code",
   "execution_count": 4,
   "metadata": {},
   "outputs": [],
   "source": [
    "# Define enhanced data augmentation for training robustness, considering dataset variability\n",
    "train_transforms = transforms.Compose(\n",
    "    [\n",
    "        transforms.RandomHorizontalFlip(p=0.5),\n",
    "        transforms.RandomRotation(degrees=15),\n",
    "        transforms.ColorJitter(brightness=0.4, contrast=0.4, saturation=0.4, hue=0.1),\n",
    "        transforms.RandomAffine(degrees=0, shear=10),\n",
    "        transforms.ToTensor(),\n",
    "        transforms.Normalize(mean=[0.485, 0.456, 0.406], std=[0.229, 0.224, 0.225]),\n",
    "    ]\n",
    ")\n",
    "\n",
    "val_transforms = transforms.Compose(\n",
    "    [\n",
    "        transforms.ToTensor(),\n",
    "        transforms.Normalize(mean=[0.485, 0.456, 0.406], std=[0.229, 0.224, 0.225]),\n",
    "    ]\n",
    ")"
   ]
  },
  {
   "cell_type": "markdown",
   "metadata": {},
   "source": [
    "# Model Architecture Implementation"
   ]
  },
  {
   "cell_type": "markdown",
   "metadata": {},
   "source": [
    "Class Initialization (__init__): Sets up the model with frame count (20 for better temporal coverage), selects a pretrained CNN backbone (e.g., EfficientNet-B4 for efficiency on facial details), and defines bidirectional LSTMs for temporal analysis, attention layers for focusing on key frames, and a classifier with batch norm/dropout for stability on imbalanced data.\n",
    "\n",
    "Forward Pass (forward): Reshapes input for batch CNN processing, extracts features with mixed precision for speed, reshapes for LSTM, applies bidirectional temporal modeling to detect inconsistencies, weights frames via attention (useful for variable-length videos), and classifies via dense layers, outputting a sigmoid probability for real/fake."
   ]
  },
  {
   "cell_type": "code",
   "execution_count": 5,
   "metadata": {},
   "outputs": [],
   "source": [
    "import torchvision.models as models\n",
    "from torch.cuda.amp import autocast\n",
    "from torch.nn import functional as F\n",
    "\n",
    "\n",
    "class DeepfakeDetector(nn.Module):\n",
    "    def __init__(self, num_frames=20, backbone=\"efficientnet_b4\", dropout_rate=0.6):\n",
    "        super(DeepfakeDetector, self).__init__()\n",
    "        self.num_frames = num_frames\n",
    "\n",
    "        # CNN Backbone for feature extraction\n",
    "        if backbone == \"efficientnet_b4\":\n",
    "            weights = models.EfficientNet_B4_Weights.IMAGENET1K_V1\n",
    "            # self.backbone = models.efficientnet_b4(pretrained=True)\n",
    "            self.backbone = models.efficientnet_b4(weights=weights)\n",
    "            self.backbone.classifier = nn.Identity()  # Remove final classifier\n",
    "            feature_dim = 1792\n",
    "        elif backbone == \"resnet50\":\n",
    "            weights = models.ResNet50_Weights.IMAGENET1K_V1\n",
    "            self.backbone = models.resnet50(weights=weights)\n",
    "            # self.backbone = models.resnet50(pretrained=True)\n",
    "            self.backbone.fc = nn.Identity()\n",
    "            feature_dim = 2048\n",
    "\n",
    "        # Temporal processing layers with bidirectional LSTM for better sequence modeling\n",
    "        self.lstm = nn.LSTM(\n",
    "            input_size=feature_dim,\n",
    "            hidden_size=512,\n",
    "            num_layers=3,\n",
    "            batch_first=True,\n",
    "            dropout=dropout_rate,\n",
    "            bidirectional=True,\n",
    "        )\n",
    "\n",
    "        # Attention mechanism for frame importance weighting\n",
    "        self.attention = nn.Sequential(\n",
    "            nn.Linear(1024, 256), nn.ReLU(), nn.Linear(256, 1), nn.Softmax(dim=1)\n",
    "        )\n",
    "\n",
    "        # Final classification layers with additional regularization\n",
    "        self.classifier = nn.Sequential(\n",
    "            nn.Linear(1024, 256),  # Adjusted for bidirectional\n",
    "            nn.BatchNorm1d(256),  # Added for stability\n",
    "            nn.ReLU(),\n",
    "            nn.Dropout(dropout_rate),\n",
    "            nn.Linear(256, 128),\n",
    "            nn.ReLU(),\n",
    "            nn.Dropout(dropout_rate),\n",
    "            nn.Linear(128, 1),\n",
    "            # nn.Sigmoid()\n",
    "        )\n",
    "\n",
    "    def forward(self, x):\n",
    "        batch_size, num_frames, C, H, W = x.shape\n",
    "        x = x.view(batch_size * num_frames, C, H, W)\n",
    "\n",
    "        # Use torch.amp.autocast for mixed precision\n",
    "        with torch.amp.autocast(device_type=\"cuda\"):\n",
    "            features = self.backbone(x)\n",
    "\n",
    "        features = features.view(batch_size, num_frames, -1)\n",
    "        lstm_out, _ = self.lstm(features)\n",
    "\n",
    "        attention_weights = self.attention(lstm_out)\n",
    "\n",
    "        # The correct approach is to multiply lstm_out by the attention weights\n",
    "        # and then sum across the time dimension.\n",
    "        # weighted_features = (lstm_out * attention_weights).sum(dim=1)\n",
    "        # weighted_features = lstm_out * attention_weights + lstm_out  # Helps with gradient flow.\n",
    "        # weighted_features = weighted_features.mean(dim=1)  # Reduce over sequence dimension (average pooling)\n",
    "\n",
    "        # output = self.classifier(weighted_features)\n",
    "        context_vector = (lstm_out * attention_weights).sum(dim=1)\n",
    "        output = self.classifier(context_vector)\n",
    "\n",
    "        return output"
   ]
  },
  {
   "cell_type": "markdown",
   "metadata": {},
   "source": [
    "# Training Setup and Configuration"
   ]
  },
  {
   "cell_type": "markdown",
   "metadata": {},
   "source": [
    "Training Setup Function (setup_training): Loads metadata, performs stratified split to preserve imbalance ratios, creates datasets, computes sample weights for oversampling (addressing PDF's 1:6 imbalance), and sets up DataLoaders with a sampler for balanced batching.\n",
    "\n",
    "Training Function (train_model): Configures device/loss/optimizer with weighted BCE for imbalance, initializes mixed-precision scaler, and runs epochs with training loops (forward pass, backprop with clipping for stability), validation (no-grad inference), metrics calculation, scheduling, and early stopping to save the best model and prevent overfitting."
   ]
  },
  {
   "cell_type": "code",
   "execution_count": 6,
   "metadata": {},
   "outputs": [],
   "source": [
    "import matplotlib.pyplot as plt\n",
    "import torch.amp\n",
    "from sklearn.metrics import accuracy_score, precision_recall_curve, roc_auc_score\n",
    "from sklearn.model_selection import train_test_split\n",
    "from torch.cuda.amp import GradScaler, autocast\n",
    "from torch.optim.lr_scheduler import ReduceLROnPlateau\n",
    "\n",
    "\n",
    "class FocalLoss(nn.Module):\n",
    "    def __init__(self, alpha=0.25, gamma=2):\n",
    "        super().__init__()\n",
    "        self.alpha = alpha\n",
    "        self.gamma = gamma\n",
    "\n",
    "    def forward(self, inputs, targets):\n",
    "        bce_loss = nn.BCEWithLogitsLoss()(inputs, targets)\n",
    "        pt = torch.exp(-bce_loss)\n",
    "        return self.alpha * (1 - pt) ** self.gamma * bce_loss\n",
    "\n",
    "\n",
    "def setup_training():\n",
    "    # Load metadata from dataset analysis\n",
    "    metadata = pd.read_csv(METADATA_PATH)\n",
    "    \n",
    "    # metadata['filepath'] = metadata['filepath'].apply(lambda x: os.path.join(BASE_VIDEO_PATH, x))\n",
    "    # Omit the 'Youtube-real' videos to create a more balanced dataset\n",
    "    metadata = metadata[metadata['folder'] != 'YouTube-real'].copy()\n",
    "    # Sample 50% of the dataset for a quicker training run\n",
    "    metadata = metadata.sample(frac=0.5, random_state=42).reset_index(drop=True)\n",
    "    \n",
    "    metadata[\"filepath\"] = metadata[\"filepath\"].apply(\n",
    "        # lambda x: os.path.join(BASE_VIDEO_PATH, x)\n",
    "        lambda x: os.path.join(BASE_VIDEO_PATH, x)\n",
    "    )\n",
    "\n",
    "    # Train/validation split with stratification\n",
    "    train_df, val_df = train_test_split(\n",
    "        metadata, test_size=0.2, stratify=metadata[\"label\"], random_state=42\n",
    "    )\n",
    "\n",
    "    # Define a cache directory in a writable location\n",
    "    face_cache_directory = \"/kaggle/working/face_cache\"\n",
    "    # Create datasets\n",
    "    train_dataset = DeepfakeDataset(train_df, transform=train_transforms)\n",
    "    val_dataset = DeepfakeDataset(val_df, transform=val_transforms)\n",
    "\n",
    "    # Compute class weights for oversampling to handle imbalance (real: ~890, fake: ~5639 total)\n",
    "    class_counts = metadata[\"label\"].value_counts()\n",
    "    # class_weights = {0: 1.0 / class_counts['real'], 1: 1.0 / class_counts['fake']}\n",
    "    class_weights = {\n",
    "        0: class_counts[\"fake\"] / class_counts[\"real\"],\n",
    "        1: 1.0,\n",
    "    }  # This oversamples real videos more heavily.\n",
    "\n",
    "    # sample_weights = [class_weights[0] if label == 'real' else class_weights[1] for label in train_df['label']]\n",
    "    # sample_weights = [class_weights[label] for label in train_df['label']]\n",
    "    sample_weights = [\n",
    "        class_weights[1 if label == \"fake\" else 0] for label in train_df[\"label\"]\n",
    "    ]\n",
    "\n",
    "    sampler = WeightedRandomSampler(\n",
    "        sample_weights, len(sample_weights), replacement=True\n",
    "    )\n",
    "\n",
    "    # Calculate pos_weight from the dataframe\n",
    "    # This is safe because it's before any data loading failures\n",
    "    real_count = (train_df[\"label\"] == \"real\").sum()\n",
    "    fake_count = (train_df[\"label\"] == \"fake\").sum()\n",
    "    pos_weight = torch.tensor([fake_count / real_count])\n",
    "\n",
    "    # Create data loaders with oversampling\n",
    "    # Apply the collate_fn to both training and validation loaders\n",
    "    train_loader = DataLoader(\n",
    "        train_dataset,\n",
    "        batch_size=6,\n",
    "        shuffle=False,  # Shuffle is handled by WeightedRandomSampler\n",
    "        sampler=sampler,\n",
    "        num_workers=4,\n",
    "        pin_memory=True,\n",
    "        collate_fn=collate_fn,\n",
    "        worker_init_fn=worker_init_fn,\n",
    "        drop_last=True\n",
    "    )\n",
    "    val_loader = DataLoader(\n",
    "        val_dataset,\n",
    "        batch_size=6,\n",
    "        shuffle=False,\n",
    "        num_workers=4,\n",
    "        pin_memory=True,\n",
    "        collate_fn=collate_fn,\n",
    "        worker_init_fn=worker_init_fn,\n",
    "        drop_last=True\n",
    "    )\n",
    "\n",
    "    return train_loader, val_loader, pos_weight\n",
    "\n",
    "\n",
    "# Training function with early stopping and gradient clipping\n",
    "def train_model(\n",
    "    model,\n",
    "    train_loader,\n",
    "    val_loader,\n",
    "    pos_weight,\n",
    "    num_epochs=30,\n",
    "    learning_rate=1e-5,\n",
    "    patience=10,\n",
    "):\n",
    "    device = torch.device(\"cuda\" if torch.cuda.is_available() else \"cpu\")\n",
    "    model.to(device)\n",
    "\n",
    "    # criterion = nn.BCEWithLogitsLoss(pos_weight=pos_weight.to(device))\n",
    "    # Use FocalLoss instead\n",
    "    criterion = FocalLoss().to(device)\n",
    "\n",
    "    # Use BCEWithLogitsLoss for numerical stability\n",
    "    # criterion = nn.BCEWithLogitsLoss()\n",
    "    optimizer = torch.optim.Adam(\n",
    "        model.parameters(), lr=learning_rate, weight_decay=1e-4\n",
    "    )\n",
    "    scheduler = torch.optim.lr_scheduler.ReduceLROnPlateau(\n",
    "        optimizer, patience=3, factor=0.5\n",
    "    )\n",
    "\n",
    "    criterion = FocalLoss().to(device)\n",
    "    optimizer = torch.optim.Adam(\n",
    "        model.parameters(), lr=learning_rate, weight_decay=1e-4\n",
    "    )\n",
    "    scheduler = ReduceLROnPlateau(optimizer, patience=3, factor=0.5)\n",
    "    scaler = torch.cuda.amp.GradScaler(enabled=(device.type == \"cuda\"))\n",
    "\n",
    "    best_val_loss = float(\"inf\")\n",
    "    epochs_no_improve = 0\n",
    "    train_losses, val_losses = [], []\n",
    "    train_accs, val_accs = [], []\n",
    "\n",
    "    for epoch in range(num_epochs):\n",
    "        # Training phase\n",
    "        model.train()\n",
    "        train_loss, train_correct = 0.0, 0\n",
    "\n",
    "        for batch_idx, (data, targets) in enumerate(train_loader):\n",
    "            if data.nelement() == 0:  # Skip empty batches\n",
    "                continue\n",
    "            data, targets = data.to(device), targets.to(device)\n",
    "            targets = targets.unsqueeze(1)\n",
    "\n",
    "            optimizer.zero_grad()\n",
    "\n",
    "            # Use torch.amp.autocast\n",
    "            with torch.amp.autocast(device_type=\"cuda\"):\n",
    "                outputs = model(data)\n",
    "                loss = criterion(outputs, targets)\n",
    "\n",
    "                if torch.isnan(loss):\n",
    "                    logging.error(f\"NaN loss detected at Epoch {epoch+1}, Batch {batch_idx}. Skipping update.\")\n",
    "                    continue\n",
    "\n",
    "            scaler.scale(loss).backward()\n",
    "            # torch.nn.utils.clip_grad_norm_(model.parameters(), max_norm=1.0)  # Gradient clipping\n",
    "\n",
    "            scaler.unscale_(optimizer)  # Unscale gradients before clipping\n",
    "            torch.nn.utils.clip_grad_norm_(model.parameters(), max_norm=1.0)\n",
    "\n",
    "            scaler.step(optimizer)\n",
    "            scaler.update()\n",
    "\n",
    "            train_loss += loss.item()\n",
    "            predictions = (torch.sigmoid(outputs) > 0.5).float()\n",
    "            train_correct += (predictions == targets).sum().item()\n",
    "\n",
    "            if batch_idx % 10 == 0:\n",
    "                logging.info(\n",
    "                    f\"Epoch {epoch+1}/{num_epochs}, Batch {batch_idx}/{len(train_loader)}, Loss: {loss.item():.4f}\"\n",
    "                )\n",
    "\n",
    "        # Validation phase\n",
    "        model.eval()\n",
    "        val_loss, val_correct = 0.0, 0\n",
    "        all_predictions, all_targets = [], []\n",
    "\n",
    "        with torch.no_grad(), autocast():\n",
    "            for data, targets in val_loader:\n",
    "                data, targets = data.to(device), targets.to(device)\n",
    "                targets = targets.unsqueeze(1)\n",
    "\n",
    "                outputs = model(data)\n",
    "                loss = criterion(outputs, targets)\n",
    "\n",
    "                probabilities = torch.sigmoid(outputs)\n",
    "                predictions = (probabilities > 0.5).float()\n",
    "\n",
    "                val_loss += loss.item()\n",
    "                predictions = (torch.sigmoid(outputs) > 0.5).float()\n",
    "                val_correct += (predictions == targets).sum().item()\n",
    "\n",
    "                all_predictions.extend(torch.sigmoid(outputs).cpu().numpy())\n",
    "                all_targets.extend(targets.cpu().numpy())\n",
    "\n",
    "        # Calculate metrics\n",
    "        train_acc = train_correct / len(train_loader.dataset)\n",
    "        val_acc = val_correct / len(val_loader.dataset)\n",
    "        auc_score = roc_auc_score(all_targets, all_predictions)\n",
    "        avg_val_loss = val_loss / len(val_loader)\n",
    "\n",
    "        train_losses.append(train_loss / len(train_loader))\n",
    "        val_losses.append(avg_val_loss)\n",
    "        train_accs.append(train_acc)\n",
    "        val_accs.append(val_acc)\n",
    "\n",
    "        scheduler.step(avg_val_loss)\n",
    "\n",
    "        logging.info(\n",
    "            f\"Epoch {epoch+1}: Train Acc: {train_acc:.4f}, Val Acc: {val_acc:.4f}, AUC: {auc_score:.4f}\"\n",
    "        )\n",
    "\n",
    "        # Early stopping\n",
    "        if avg_val_loss < best_val_loss:\n",
    "            best_val_loss = avg_val_loss\n",
    "            epochs_no_improve = 0\n",
    "            torch.save(model.state_dict(), \"models/best_deepfake_detector_model.pth\")\n",
    "        else:\n",
    "            epochs_no_improve += 1\n",
    "            if epochs_no_improve >= patience:\n",
    "                logging.info(f\"Early stopping at epoch {epoch+1}\")\n",
    "                break\n",
    "\n",
    "    return train_losses, val_losses, train_accs, val_accs"
   ]
  },
  {
   "cell_type": "markdown",
   "metadata": {},
   "source": [
    "# Model Validation and Evaluation"
   ]
  },
  {
   "cell_type": "markdown",
   "metadata": {},
   "source": [
    "Evaluation Function (evaluate_model): Sets model to eval mode, collects predictions/probabilities with no-grad and mixed precision, computes metrics like accuracy/AUC/PR curves, and calculates EER (key for imbalanced security tasks per PDF). It generates and saves plots for visual analysis.\n",
    "\n",
    "Main Execution Block (if __name__ == \"__main__\"): Orchestrates the pipeline by setting up loaders, initializing the model, training, evaluating, and saving the final model, with logging for progress tracking."
   ]
  },
  {
   "cell_type": "code",
   "execution_count": null,
   "metadata": {},
   "outputs": [
    {
     "name": "stdout",
     "output_type": "stream",
     "text": [
      "2025-10-19 05:33:57,036 - INFO - Initializing deepfake detection model...\n",
      "2025-10-19 05:33:57,651 - INFO - Starting model training...\n"
     ]
    },
    {
     "name": "stderr",
     "output_type": "stream",
     "text": [
      "/tmp/ipykernel_14521/1826921583.py:129: FutureWarning: `torch.cuda.amp.GradScaler(args...)` is deprecated. Please use `torch.amp.GradScaler('cuda', args...)` instead.\n",
      "  scaler = torch.cuda.amp.GradScaler(enabled=(device.type == \"cuda\"))\n"
     ]
    },
    {
     "name": "stdout",
     "output_type": "stream",
     "text": [
      "2025-10-19 05:34:30,581 - INFO - Epoch 1/20, Batch 0/415, Loss: 0.0458\n",
      "2025-10-19 05:34:43,360 - INFO - Epoch 1/20, Batch 10/415, Loss: 0.0401\n"
     ]
    },
    {
     "name": "stderr",
     "output_type": "stream",
     "text": [
      "[2025-10-19 05:34:53,907] [INFO] [Worker ID: 14767]: Processing video 100/2491...\n"
     ]
    },
    {
     "name": "stdout",
     "output_type": "stream",
     "text": [
      "2025-10-19 05:35:13,903 - INFO - Epoch 1/20, Batch 20/415, Loss: 0.0377\n"
     ]
    },
    {
     "name": "stderr",
     "output_type": "stream",
     "text": [
      "[2025-10-19 05:35:43,566] [INFO] [Worker ID: 14899]: Processing video 200/2491...\n"
     ]
    },
    {
     "name": "stdout",
     "output_type": "stream",
     "text": [
      "2025-10-19 05:35:51,673 - INFO - Epoch 1/20, Batch 30/415, Loss: 0.0476\n",
      "2025-10-19 05:36:16,732 - INFO - Epoch 1/20, Batch 40/415, Loss: 0.0458\n"
     ]
    },
    {
     "name": "stderr",
     "output_type": "stream",
     "text": [
      "[2025-10-19 05:36:31,405] [INFO] [Worker ID: 14966]: Processing video 300/2491...\n"
     ]
    },
    {
     "name": "stdout",
     "output_type": "stream",
     "text": [
      "2025-10-19 05:36:49,248 - INFO - Epoch 1/20, Batch 50/415, Loss: 0.0425\n",
      "2025-10-19 05:37:18,661 - INFO - Epoch 1/20, Batch 60/415, Loss: 0.0404\n"
     ]
    },
    {
     "name": "stderr",
     "output_type": "stream",
     "text": [
      "[2025-10-19 05:37:22,132] [INFO] [Worker ID: 14899]: Processing video 400/2491...\n"
     ]
    },
    {
     "name": "stdout",
     "output_type": "stream",
     "text": [
      "2025-10-19 05:37:51,258 - INFO - Epoch 1/20, Batch 70/415, Loss: 0.0406\n"
     ]
    },
    {
     "name": "stderr",
     "output_type": "stream",
     "text": [
      "[2025-10-19 05:38:08,944] [INFO] [Worker ID: 14966]: Processing video 500/2491...\n"
     ]
    },
    {
     "name": "stdout",
     "output_type": "stream",
     "text": [
      "2025-10-19 05:38:13,472 - INFO - Epoch 1/20, Batch 80/415, Loss: 0.0430\n",
      "2025-10-19 05:38:48,429 - INFO - Epoch 1/20, Batch 90/415, Loss: 0.0464\n"
     ]
    },
    {
     "name": "stderr",
     "output_type": "stream",
     "text": [
      "[2025-10-19 05:39:00,878] [INFO] [Worker ID: 14966]: Processing video 600/2491...\n"
     ]
    },
    {
     "name": "stdout",
     "output_type": "stream",
     "text": [
      "2025-10-19 05:39:11,677 - INFO - Epoch 1/20, Batch 100/415, Loss: 0.0617\n",
      "2025-10-19 05:39:48,565 - INFO - Epoch 1/20, Batch 110/415, Loss: 0.0343\n"
     ]
    },
    {
     "name": "stderr",
     "output_type": "stream",
     "text": [
      "[2025-10-19 05:39:48,567] [INFO] [Worker ID: 14966]: Processing video 700/2491...\n"
     ]
    },
    {
     "name": "stdout",
     "output_type": "stream",
     "text": [
      "2025-10-19 05:40:11,771 - INFO - Epoch 1/20, Batch 120/415, Loss: 0.0433\n"
     ]
    },
    {
     "name": "stderr",
     "output_type": "stream",
     "text": [
      "[2025-10-19 05:40:39,611] [INFO] [Worker ID: 14767]: Processing video 800/2491...\n"
     ]
    },
    {
     "name": "stdout",
     "output_type": "stream",
     "text": [
      "2025-10-19 05:40:47,250 - INFO - Epoch 1/20, Batch 130/415, Loss: 0.0432\n",
      "2025-10-19 05:41:10,086 - INFO - Epoch 1/20, Batch 140/415, Loss: 0.0552\n"
     ]
    },
    {
     "name": "stderr",
     "output_type": "stream",
     "text": [
      "[2025-10-19 05:41:29,052] [INFO] [Worker ID: 14767]: Processing video 900/2491...\n"
     ]
    },
    {
     "name": "stdout",
     "output_type": "stream",
     "text": [
      "2025-10-19 05:41:51,372 - INFO - Epoch 1/20, Batch 150/415, Loss: 0.0358\n",
      "2025-10-19 05:42:17,641 - INFO - Epoch 1/20, Batch 160/415, Loss: 0.0452\n"
     ]
    },
    {
     "name": "stderr",
     "output_type": "stream",
     "text": [
      "[2025-10-19 05:42:25,837] [INFO] [Worker ID: 14966]: Processing video 1000/2491...\n"
     ]
    },
    {
     "name": "stdout",
     "output_type": "stream",
     "text": [
      "2025-10-19 05:42:54,556 - INFO - Epoch 1/20, Batch 170/415, Loss: 0.0381\n"
     ]
    },
    {
     "name": "stderr",
     "output_type": "stream",
     "text": [
      "[2025-10-19 05:43:15,447] [INFO] [Worker ID: 14966]: Processing video 1100/2491...\n"
     ]
    },
    {
     "name": "stdout",
     "output_type": "stream",
     "text": [
      "2025-10-19 05:43:22,706 - INFO - Epoch 1/20, Batch 180/415, Loss: 0.0493\n",
      "2025-10-19 05:43:57,948 - INFO - Epoch 1/20, Batch 190/415, Loss: 0.0330\n"
     ]
    },
    {
     "name": "stderr",
     "output_type": "stream",
     "text": [
      "[2025-10-19 05:44:05,487] [INFO] [Worker ID: 14832]: Processing video 1200/2491...\n"
     ]
    },
    {
     "name": "stdout",
     "output_type": "stream",
     "text": [
      "2025-10-19 05:44:18,058 - INFO - Epoch 1/20, Batch 200/415, Loss: 0.0458\n",
      "2025-10-19 05:44:54,034 - INFO - Epoch 1/20, Batch 210/415, Loss: 0.0462\n"
     ]
    },
    {
     "name": "stderr",
     "output_type": "stream",
     "text": [
      "[2025-10-19 05:44:55,105] [INFO] [Worker ID: 14966]: Processing video 1300/2491...\n"
     ]
    },
    {
     "name": "stdout",
     "output_type": "stream",
     "text": [
      "2025-10-19 05:45:13,287 - INFO - Epoch 1/20, Batch 220/415, Loss: 0.0482\n",
      "2025-10-19 05:45:42,194 - INFO - Epoch 1/20, Batch 230/415, Loss: 0.0351\n"
     ]
    },
    {
     "name": "stderr",
     "output_type": "stream",
     "text": [
      "[2025-10-19 05:45:43,272] [INFO] [Worker ID: 14767]: Processing video 1400/2491...\n"
     ]
    },
    {
     "name": "stdout",
     "output_type": "stream",
     "text": [
      "2025-10-19 05:46:16,118 - INFO - Epoch 1/20, Batch 240/415, Loss: 0.0403\n"
     ]
    },
    {
     "name": "stderr",
     "output_type": "stream",
     "text": [
      "[2025-10-19 05:46:34,258] [INFO] [Worker ID: 14966]: Processing video 1500/2491...\n"
     ]
    },
    {
     "name": "stdout",
     "output_type": "stream",
     "text": [
      "2025-10-19 05:46:45,836 - INFO - Epoch 1/20, Batch 250/415, Loss: 0.0336\n",
      "2025-10-19 05:47:22,093 - INFO - Epoch 1/20, Batch 260/415, Loss: 0.0247\n"
     ]
    },
    {
     "name": "stderr",
     "output_type": "stream",
     "text": [
      "[2025-10-19 05:47:25,359] [INFO] [Worker ID: 14966]: Processing video 1600/2491...\n"
     ]
    },
    {
     "name": "stdout",
     "output_type": "stream",
     "text": [
      "2025-10-19 05:47:46,784 - INFO - Epoch 1/20, Batch 270/415, Loss: 0.0453\n"
     ]
    },
    {
     "name": "stderr",
     "output_type": "stream",
     "text": [
      "[2025-10-19 05:48:13,205] [INFO] [Worker ID: 14832]: Processing video 1700/2491...\n"
     ]
    },
    {
     "name": "stdout",
     "output_type": "stream",
     "text": [
      "2025-10-19 05:48:17,633 - INFO - Epoch 1/20, Batch 280/415, Loss: 0.0414\n",
      "2025-10-19 05:48:46,747 - INFO - Epoch 1/20, Batch 290/415, Loss: 0.0520\n"
     ]
    },
    {
     "name": "stderr",
     "output_type": "stream",
     "text": [
      "[2025-10-19 05:49:02,759] [INFO] [Worker ID: 14899]: Processing video 1800/2491...\n"
     ]
    },
    {
     "name": "stdout",
     "output_type": "stream",
     "text": [
      "2025-10-19 05:49:19,309 - INFO - Epoch 1/20, Batch 300/415, Loss: 0.0376\n",
      "2025-10-19 05:49:41,189 - INFO - Epoch 1/20, Batch 310/415, Loss: 0.0469\n"
     ]
    },
    {
     "name": "stderr",
     "output_type": "stream",
     "text": [
      "[2025-10-19 05:49:50,694] [INFO] [Worker ID: 14767]: Processing video 1900/2491...\n"
     ]
    },
    {
     "name": "stdout",
     "output_type": "stream",
     "text": [
      "2025-10-19 05:50:16,029 - INFO - Epoch 1/20, Batch 320/415, Loss: 0.0425\n"
     ]
    },
    {
     "name": "stderr",
     "output_type": "stream",
     "text": [
      "[2025-10-19 05:50:44,067] [INFO] [Worker ID: 14767]: Processing video 2000/2491...\n"
     ]
    },
    {
     "name": "stdout",
     "output_type": "stream",
     "text": [
      "2025-10-19 05:50:45,960 - INFO - Epoch 1/20, Batch 330/415, Loss: 0.0365\n",
      "2025-10-19 05:51:17,358 - INFO - Epoch 1/20, Batch 340/415, Loss: 0.0370\n"
     ]
    },
    {
     "name": "stderr",
     "output_type": "stream",
     "text": [
      "[2025-10-19 05:51:31,471] [INFO] [Worker ID: 14832]: Processing video 2100/2491...\n"
     ]
    },
    {
     "name": "stdout",
     "output_type": "stream",
     "text": [
      "2025-10-19 05:51:40,184 - INFO - Epoch 1/20, Batch 350/415, Loss: 0.0517\n",
      "2025-10-19 05:52:12,872 - INFO - Epoch 1/20, Batch 360/415, Loss: 0.0436\n"
     ]
    },
    {
     "name": "stderr",
     "output_type": "stream",
     "text": [
      "[2025-10-19 05:52:17,308] [INFO] [Worker ID: 14899]: Processing video 2200/2491...\n"
     ]
    },
    {
     "name": "stdout",
     "output_type": "stream",
     "text": [
      "2025-10-19 05:52:35,089 - INFO - Epoch 1/20, Batch 370/415, Loss: 0.0394\n"
     ]
    },
    {
     "name": "stderr",
     "output_type": "stream",
     "text": [
      "[2025-10-19 05:53:08,219] [INFO] [Worker ID: 14767]: Processing video 2300/2491...\n"
     ]
    },
    {
     "name": "stdout",
     "output_type": "stream",
     "text": [
      "2025-10-19 05:53:17,444 - INFO - Epoch 1/20, Batch 380/415, Loss: 0.0498\n",
      "2025-10-19 05:53:41,726 - INFO - Epoch 1/20, Batch 390/415, Loss: 0.0583\n"
     ]
    },
    {
     "name": "stderr",
     "output_type": "stream",
     "text": [
      "[2025-10-19 05:54:00,691] [INFO] [Worker ID: 14767]: Processing video 2400/2491...\n"
     ]
    },
    {
     "name": "stdout",
     "output_type": "stream",
     "text": [
      "2025-10-19 05:54:15,571 - INFO - Epoch 1/20, Batch 400/415, Loss: 0.0514\n",
      "2025-10-19 05:54:39,096 - INFO - Epoch 1/20, Batch 410/415, Loss: 0.0344\n"
     ]
    },
    {
     "name": "stderr",
     "output_type": "stream",
     "text": [
      "/tmp/ipykernel_14521/1826921583.py:181: FutureWarning: `torch.cuda.amp.autocast(args...)` is deprecated. Please use `torch.amp.autocast('cuda', args...)` instead.\n",
      "  with torch.no_grad(), autocast():\n",
      "[2025-10-19 05:55:38,404] [INFO] [Worker ID: 55955]: Processing video 100/623...\n",
      "[2025-10-19 05:56:24,196] [INFO] [Worker ID: 55956]: Processing video 200/623...\n",
      "[2025-10-19 05:57:12,669] [INFO] [Worker ID: 55956]: Processing video 300/623...\n",
      "[2025-10-19 05:58:00,271] [INFO] [Worker ID: 55953]: Processing video 400/623...\n",
      "[2025-10-19 05:58:45,543] [INFO] [Worker ID: 55954]: Processing video 500/623...\n",
      "[2025-10-19 05:59:36,116] [INFO] [Worker ID: 55953]: Processing video 600/623...\n"
     ]
    },
    {
     "name": "stdout",
     "output_type": "stream",
     "text": [
      "2025-10-19 05:59:47,225 - INFO - Epoch 1: Train Acc: 0.5680, Val Acc: 0.8973, AUC: 0.7443\n"
     ]
    },
    {
     "name": "stderr",
     "output_type": "stream",
     "text": [
      "[2025-10-19 05:59:58,715] [INFO] [Worker ID: 66577]: Processing video 2500/2491...\n"
     ]
    },
    {
     "name": "stdout",
     "output_type": "stream",
     "text": [
      "2025-10-19 06:00:05,672 - INFO - Epoch 2/20, Batch 0/415, Loss: 0.0375\n",
      "2025-10-19 06:00:34,039 - INFO - Epoch 2/20, Batch 10/415, Loss: 0.0389\n"
     ]
    },
    {
     "name": "stderr",
     "output_type": "stream",
     "text": [
      "[2025-10-19 06:00:48,884] [INFO] [Worker ID: 66507]: Processing video 2600/2491...\n"
     ]
    },
    {
     "name": "stdout",
     "output_type": "stream",
     "text": [
      "2025-10-19 06:01:04,004 - INFO - Epoch 2/20, Batch 20/415, Loss: 0.0379\n",
      "2025-10-19 06:01:31,588 - INFO - Epoch 2/20, Batch 30/415, Loss: 0.0371\n"
     ]
    },
    {
     "name": "stderr",
     "output_type": "stream",
     "text": [
      "[2025-10-19 06:01:36,190] [INFO] [Worker ID: 66507]: Processing video 2700/2491...\n"
     ]
    },
    {
     "name": "stdout",
     "output_type": "stream",
     "text": [
      "2025-10-19 06:01:59,855 - INFO - Epoch 2/20, Batch 40/415, Loss: 0.0391\n"
     ]
    },
    {
     "name": "stderr",
     "output_type": "stream",
     "text": [
      "[2025-10-19 06:02:26,570] [INFO] [Worker ID: 66507]: Processing video 2800/2491...\n"
     ]
    },
    {
     "name": "stdout",
     "output_type": "stream",
     "text": [
      "2025-10-19 06:02:32,742 - INFO - Epoch 2/20, Batch 50/415, Loss: 0.0331\n",
      "2025-10-19 06:02:59,189 - INFO - Epoch 2/20, Batch 60/415, Loss: 0.0257\n"
     ]
    },
    {
     "name": "stderr",
     "output_type": "stream",
     "text": [
      "[2025-10-19 06:03:11,890] [INFO] [Worker ID: 66577]: Processing video 2900/2491...\n"
     ]
    },
    {
     "name": "stdout",
     "output_type": "stream",
     "text": [
      "2025-10-19 06:03:32,895 - INFO - Epoch 2/20, Batch 70/415, Loss: 0.0428\n",
      "2025-10-19 06:03:56,479 - INFO - Epoch 2/20, Batch 80/415, Loss: 0.0533\n"
     ]
    },
    {
     "name": "stderr",
     "output_type": "stream",
     "text": [
      "[2025-10-19 06:04:00,384] [INFO] [Worker ID: 66711]: Processing video 3000/2491...\n"
     ]
    },
    {
     "name": "stdout",
     "output_type": "stream",
     "text": [
      "2025-10-19 06:04:32,388 - INFO - Epoch 2/20, Batch 90/415, Loss: 0.0348\n"
     ]
    },
    {
     "name": "stderr",
     "output_type": "stream",
     "text": [
      "[2025-10-19 06:04:52,658] [INFO] [Worker ID: 66507]: Processing video 3100/2491...\n"
     ]
    },
    {
     "name": "stdout",
     "output_type": "stream",
     "text": [
      "2025-10-19 06:05:00,186 - INFO - Epoch 2/20, Batch 100/415, Loss: 0.0327\n",
      "2025-10-19 06:05:29,116 - INFO - Epoch 2/20, Batch 110/415, Loss: 0.0461\n"
     ]
    },
    {
     "name": "stderr",
     "output_type": "stream",
     "text": [
      "[2025-10-19 06:05:39,466] [INFO] [Worker ID: 66507]: Processing video 3200/2491...\n"
     ]
    },
    {
     "name": "stdout",
     "output_type": "stream",
     "text": [
      "2025-10-19 06:05:54,475 - INFO - Epoch 2/20, Batch 120/415, Loss: 0.0232\n",
      "2025-10-19 06:06:25,187 - INFO - Epoch 2/20, Batch 130/415, Loss: 0.0285\n"
     ]
    },
    {
     "name": "stderr",
     "output_type": "stream",
     "text": [
      "[2025-10-19 06:06:30,664] [INFO] [Worker ID: 66644]: Processing video 3300/2491...\n"
     ]
    },
    {
     "name": "stdout",
     "output_type": "stream",
     "text": [
      "2025-10-19 06:06:52,207 - INFO - Epoch 2/20, Batch 140/415, Loss: 0.0405\n"
     ]
    },
    {
     "name": "stderr",
     "output_type": "stream",
     "text": [
      "[2025-10-19 06:07:16,175] [INFO] [Worker ID: 66711]: Processing video 3400/2491...\n"
     ]
    },
    {
     "name": "stdout",
     "output_type": "stream",
     "text": [
      "2025-10-19 06:07:25,003 - INFO - Epoch 2/20, Batch 150/415, Loss: 0.0289\n",
      "2025-10-19 06:07:54,632 - INFO - Epoch 2/20, Batch 160/415, Loss: 0.0386\n"
     ]
    },
    {
     "name": "stderr",
     "output_type": "stream",
     "text": [
      "[2025-10-19 06:08:07,371] [INFO] [Worker ID: 66644]: Processing video 3500/2491...\n"
     ]
    },
    {
     "name": "stdout",
     "output_type": "stream",
     "text": [
      "2025-10-19 06:08:25,384 - INFO - Epoch 2/20, Batch 170/415, Loss: 0.0435\n",
      "2025-10-19 06:08:51,290 - INFO - Epoch 2/20, Batch 180/415, Loss: 0.0261\n"
     ]
    },
    {
     "name": "stderr",
     "output_type": "stream",
     "text": [
      "[2025-10-19 06:08:59,277] [INFO] [Worker ID: 66644]: Processing video 3600/2491...\n"
     ]
    },
    {
     "name": "stdout",
     "output_type": "stream",
     "text": [
      "2025-10-19 06:09:27,647 - INFO - Epoch 2/20, Batch 190/415, Loss: 0.0295\n"
     ]
    },
    {
     "name": "stderr",
     "output_type": "stream",
     "text": [
      "[2025-10-19 06:09:50,521] [INFO] [Worker ID: 66644]: Processing video 3700/2491...\n"
     ]
    },
    {
     "name": "stdout",
     "output_type": "stream",
     "text": [
      "2025-10-19 06:09:58,323 - INFO - Epoch 2/20, Batch 200/415, Loss: 0.0389\n",
      "2025-10-19 06:10:30,226 - INFO - Epoch 2/20, Batch 210/415, Loss: 0.0368\n"
     ]
    },
    {
     "name": "stderr",
     "output_type": "stream",
     "text": [
      "[2025-10-19 06:10:37,596] [INFO] [Worker ID: 66711]: Processing video 3800/2491...\n"
     ]
    },
    {
     "name": "stdout",
     "output_type": "stream",
     "text": [
      "2025-10-19 06:10:52,698 - INFO - Epoch 2/20, Batch 220/415, Loss: 0.0307\n"
     ]
    },
    {
     "name": "stderr",
     "output_type": "stream",
     "text": [
      "[2025-10-19 06:11:23,682] [INFO] [Worker ID: 66644]: Processing video 3900/2491...\n"
     ]
    },
    {
     "name": "stdout",
     "output_type": "stream",
     "text": [
      "2025-10-19 06:11:24,622 - INFO - Epoch 2/20, Batch 230/415, Loss: 0.0216\n",
      "2025-10-19 06:11:47,390 - INFO - Epoch 2/20, Batch 240/415, Loss: 0.0472\n"
     ]
    },
    {
     "name": "stderr",
     "output_type": "stream",
     "text": [
      "[2025-10-19 06:12:09,541] [INFO] [Worker ID: 66644]: Processing video 4000/2491...\n"
     ]
    },
    {
     "name": "stdout",
     "output_type": "stream",
     "text": [
      "2025-10-19 06:12:22,705 - INFO - Epoch 2/20, Batch 250/415, Loss: 0.0280\n",
      "2025-10-19 06:12:49,361 - INFO - Epoch 2/20, Batch 260/415, Loss: 0.0431\n"
     ]
    },
    {
     "name": "stderr",
     "output_type": "stream",
     "text": [
      "[2025-10-19 06:13:05,165] [INFO] [Worker ID: 66711]: Processing video 4100/2491...\n"
     ]
    },
    {
     "name": "stdout",
     "output_type": "stream",
     "text": [
      "2025-10-19 06:13:24,593 - INFO - Epoch 2/20, Batch 270/415, Loss: 0.0537\n",
      "2025-10-19 06:13:48,179 - INFO - Epoch 2/20, Batch 280/415, Loss: 0.0356\n"
     ]
    },
    {
     "name": "stderr",
     "output_type": "stream",
     "text": [
      "[2025-10-19 06:13:53,668] [INFO] [Worker ID: 66507]: Processing video 4200/2491...\n"
     ]
    },
    {
     "name": "stdout",
     "output_type": "stream",
     "text": [
      "2025-10-19 06:14:24,632 - INFO - Epoch 2/20, Batch 290/415, Loss: 0.0343\n"
     ]
    },
    {
     "name": "stderr",
     "output_type": "stream",
     "text": [
      "[2025-10-19 06:14:41,792] [INFO] [Worker ID: 66577]: Processing video 4300/2491...\n"
     ]
    },
    {
     "name": "stdout",
     "output_type": "stream",
     "text": [
      "2025-10-19 06:14:46,189 - INFO - Epoch 2/20, Batch 300/415, Loss: 0.0387\n",
      "2025-10-19 06:15:21,201 - INFO - Epoch 2/20, Batch 310/415, Loss: 0.0413\n"
     ]
    },
    {
     "name": "stderr",
     "output_type": "stream",
     "text": [
      "[2025-10-19 06:15:31,840] [INFO] [Worker ID: 66644]: Processing video 4400/2491...\n"
     ]
    },
    {
     "name": "stdout",
     "output_type": "stream",
     "text": [
      "2025-10-19 06:15:45,285 - INFO - Epoch 2/20, Batch 320/415, Loss: 0.0268\n"
     ]
    },
    {
     "name": "stderr",
     "output_type": "stream",
     "text": [
      "[2025-10-19 06:16:20,620] [INFO] [Worker ID: 66507]: Processing video 4500/2491...\n"
     ]
    },
    {
     "name": "stdout",
     "output_type": "stream",
     "text": [
      "2025-10-19 06:16:23,367 - INFO - Epoch 2/20, Batch 330/415, Loss: 0.0340\n",
      "2025-10-19 06:16:46,223 - INFO - Epoch 2/20, Batch 340/415, Loss: 0.0275\n"
     ]
    },
    {
     "name": "stderr",
     "output_type": "stream",
     "text": [
      "[2025-10-19 06:17:08,798] [INFO] [Worker ID: 66711]: Processing video 4600/2491...\n"
     ]
    },
    {
     "name": "stdout",
     "output_type": "stream",
     "text": [
      "2025-10-19 06:17:17,133 - INFO - Epoch 2/20, Batch 350/415, Loss: 0.0351\n",
      "2025-10-19 06:17:43,110 - INFO - Epoch 2/20, Batch 360/415, Loss: 0.0330\n"
     ]
    },
    {
     "name": "stderr",
     "output_type": "stream",
     "text": [
      "[2025-10-19 06:17:56,116] [INFO] [Worker ID: 66711]: Processing video 4700/2491...\n"
     ]
    },
    {
     "name": "stdout",
     "output_type": "stream",
     "text": [
      "2025-10-19 06:18:14,584 - INFO - Epoch 2/20, Batch 370/415, Loss: 0.0117\n",
      "2025-10-19 06:18:41,688 - INFO - Epoch 2/20, Batch 380/415, Loss: 0.0162\n"
     ]
    },
    {
     "name": "stderr",
     "output_type": "stream",
     "text": [
      "[2025-10-19 06:18:46,756] [INFO] [Worker ID: 66711]: Processing video 4800/2491...\n"
     ]
    },
    {
     "name": "stdout",
     "output_type": "stream",
     "text": [
      "2025-10-19 06:19:15,311 - INFO - Epoch 2/20, Batch 390/415, Loss: 0.0219\n"
     ]
    },
    {
     "name": "stderr",
     "output_type": "stream",
     "text": [
      "[2025-10-19 06:19:33,551] [INFO] [Worker ID: 66507]: Processing video 4900/2491...\n"
     ]
    },
    {
     "name": "stdout",
     "output_type": "stream",
     "text": [
      "2025-10-19 06:19:36,541 - INFO - Epoch 2/20, Batch 400/415, Loss: 0.0307\n",
      "2025-10-19 06:20:11,824 - INFO - Epoch 2/20, Batch 410/415, Loss: 0.0284\n"
     ]
    },
    {
     "name": "stderr",
     "output_type": "stream",
     "text": [
      "/tmp/ipykernel_14521/1826921583.py:181: FutureWarning: `torch.cuda.amp.autocast(args...)` is deprecated. Please use `torch.amp.autocast('cuda', args...)` instead.\n",
      "  with torch.no_grad(), autocast():\n",
      "[2025-10-19 06:21:00,822] [INFO] [Worker ID: 107723]: Processing video 700/623...\n",
      "[2025-10-19 06:21:48,107] [INFO] [Worker ID: 107724]: Processing video 800/623...\n",
      "[2025-10-19 06:22:35,666] [INFO] [Worker ID: 107724]: Processing video 900/623...\n",
      "[2025-10-19 06:23:23,062] [INFO] [Worker ID: 107726]: Processing video 1000/623...\n",
      "[2025-10-19 06:24:08,968] [INFO] [Worker ID: 107724]: Processing video 1100/623...\n",
      "[2025-10-19 06:24:58,374] [INFO] [Worker ID: 107723]: Processing video 1200/623...\n"
     ]
    },
    {
     "name": "stdout",
     "output_type": "stream",
     "text": [
      "2025-10-19 06:25:17,817 - INFO - Epoch 2: Train Acc: 0.6788, Val Acc: 0.8973, AUC: 0.8175\n"
     ]
    },
    {
     "name": "stderr",
     "output_type": "stream",
     "text": [
      "[2025-10-19 06:25:34,067] [INFO] [Worker ID: 118483]: Processing video 5000/2491...\n"
     ]
    },
    {
     "name": "stdout",
     "output_type": "stream",
     "text": [
      "2025-10-19 06:25:39,800 - INFO - Epoch 3/20, Batch 0/415, Loss: 0.0234\n",
      "2025-10-19 06:26:04,896 - INFO - Epoch 3/20, Batch 10/415, Loss: 0.0291\n"
     ]
    },
    {
     "name": "stderr",
     "output_type": "stream",
     "text": [
      "[2025-10-19 06:26:24,294] [INFO] [Worker ID: 118277]: Processing video 5100/2491...\n"
     ]
    },
    {
     "name": "stdout",
     "output_type": "stream",
     "text": [
      "2025-10-19 06:26:43,986 - INFO - Epoch 3/20, Batch 20/415, Loss: 0.0353\n",
      "2025-10-19 06:27:07,600 - INFO - Epoch 3/20, Batch 30/415, Loss: 0.0253\n"
     ]
    },
    {
     "name": "stderr",
     "output_type": "stream",
     "text": [
      "[2025-10-19 06:27:13,689] [INFO] [Worker ID: 118277]: Processing video 5200/2491...\n"
     ]
    },
    {
     "name": "stdout",
     "output_type": "stream",
     "text": [
      "2025-10-19 06:27:38,975 - INFO - Epoch 3/20, Batch 40/415, Loss: 0.0182\n",
      "2025-10-19 06:28:06,353 - INFO - Epoch 3/20, Batch 50/415, Loss: 0.0293\n"
     ]
    },
    {
     "name": "stderr",
     "output_type": "stream",
     "text": [
      "[2025-10-19 06:28:06,660] [INFO] [Worker ID: 118277]: Processing video 5300/2491...\n"
     ]
    },
    {
     "name": "stdout",
     "output_type": "stream",
     "text": [
      "2025-10-19 06:28:37,715 - INFO - Epoch 3/20, Batch 60/415, Loss: 0.0300\n"
     ]
    },
    {
     "name": "stderr",
     "output_type": "stream",
     "text": [
      "[2025-10-19 06:28:56,207] [INFO] [Worker ID: 118411]: Processing video 5400/2491...\n"
     ]
    },
    {
     "name": "stdout",
     "output_type": "stream",
     "text": [
      "2025-10-19 06:29:12,649 - INFO - Epoch 3/20, Batch 70/415, Loss: 0.0119\n",
      "2025-10-19 06:29:39,038 - INFO - Epoch 3/20, Batch 80/415, Loss: 0.0189\n"
     ]
    },
    {
     "name": "stderr",
     "output_type": "stream",
     "text": [
      "[2025-10-19 06:29:46,493] [INFO] [Worker ID: 118483]: Processing video 5500/2491...\n"
     ]
    },
    {
     "name": "stdout",
     "output_type": "stream",
     "text": [
      "2025-10-19 06:30:11,630 - INFO - Epoch 3/20, Batch 90/415, Loss: 0.0377\n",
      "2025-10-19 06:30:33,369 - INFO - Epoch 3/20, Batch 100/415, Loss: 0.0136\n"
     ]
    },
    {
     "name": "stderr",
     "output_type": "stream",
     "text": [
      "[2025-10-19 06:30:34,621] [INFO] [Worker ID: 118277]: Processing video 5600/2491...\n"
     ]
    },
    {
     "name": "stdout",
     "output_type": "stream",
     "text": [
      "2025-10-19 06:31:09,311 - INFO - Epoch 3/20, Batch 110/415, Loss: 0.0427\n"
     ]
    },
    {
     "name": "stderr",
     "output_type": "stream",
     "text": [
      "[2025-10-19 06:31:23,433] [INFO] [Worker ID: 118483]: Processing video 5700/2491...\n"
     ]
    },
    {
     "name": "stdout",
     "output_type": "stream",
     "text": [
      "2025-10-19 06:31:36,134 - INFO - Epoch 3/20, Batch 120/415, Loss: 0.0370\n",
      "2025-10-19 06:32:11,570 - INFO - Epoch 3/20, Batch 130/415, Loss: 0.0250\n"
     ]
    },
    {
     "name": "stderr",
     "output_type": "stream",
     "text": [
      "[2025-10-19 06:32:12,181] [INFO] [Worker ID: 118483]: Processing video 5800/2491...\n"
     ]
    },
    {
     "name": "stdout",
     "output_type": "stream",
     "text": [
      "2025-10-19 06:32:33,930 - INFO - Epoch 3/20, Batch 140/415, Loss: 0.0161\n"
     ]
    },
    {
     "name": "stderr",
     "output_type": "stream",
     "text": [
      "[2025-10-19 06:33:05,576] [INFO] [Worker ID: 118411]: Processing video 5900/2491...\n"
     ]
    },
    {
     "name": "stdout",
     "output_type": "stream",
     "text": [
      "2025-10-19 06:33:07,929 - INFO - Epoch 3/20, Batch 150/415, Loss: 0.0339\n",
      "2025-10-19 06:33:34,793 - INFO - Epoch 3/20, Batch 160/415, Loss: 0.0493\n"
     ]
    },
    {
     "name": "stderr",
     "output_type": "stream",
     "text": [
      "[2025-10-19 06:33:53,918] [INFO] [Worker ID: 118342]: Processing video 6000/2491...\n"
     ]
    },
    {
     "name": "stdout",
     "output_type": "stream",
     "text": [
      "2025-10-19 06:34:02,262 - INFO - Epoch 3/20, Batch 170/415, Loss: 0.0275\n",
      "2025-10-19 06:34:31,718 - INFO - Epoch 3/20, Batch 180/415, Loss: 0.0276\n"
     ]
    },
    {
     "name": "stderr",
     "output_type": "stream",
     "text": [
      "[2025-10-19 06:34:39,719] [INFO] [Worker ID: 118342]: Processing video 6100/2491...\n"
     ]
    },
    {
     "name": "stdout",
     "output_type": "stream",
     "text": [
      "2025-10-19 06:34:57,842 - INFO - Epoch 3/20, Batch 190/415, Loss: 0.0099\n"
     ]
    },
    {
     "name": "stderr",
     "output_type": "stream",
     "text": [
      "[2025-10-19 06:35:27,647] [INFO] [Worker ID: 118483]: Processing video 6200/2491...\n"
     ]
    },
    {
     "name": "stdout",
     "output_type": "stream",
     "text": [
      "2025-10-19 06:35:37,595 - INFO - Epoch 3/20, Batch 200/415, Loss: 0.0137\n",
      "2025-10-19 06:35:58,862 - INFO - Epoch 3/20, Batch 210/415, Loss: 0.0455\n"
     ]
    },
    {
     "name": "stderr",
     "output_type": "stream",
     "text": [
      "[2025-10-19 06:36:16,108] [INFO] [Worker ID: 118277]: Processing video 6300/2491...\n"
     ]
    },
    {
     "name": "stdout",
     "output_type": "stream",
     "text": [
      "2025-10-19 06:36:31,572 - INFO - Epoch 3/20, Batch 220/415, Loss: 0.0150\n",
      "2025-10-19 06:36:55,665 - INFO - Epoch 3/20, Batch 230/415, Loss: 0.0217\n"
     ]
    },
    {
     "name": "stderr",
     "output_type": "stream",
     "text": [
      "[2025-10-19 06:37:02,603] [INFO] [Worker ID: 118342]: Processing video 6400/2491...\n"
     ]
    },
    {
     "name": "stdout",
     "output_type": "stream",
     "text": [
      "2025-10-19 06:37:25,527 - INFO - Epoch 3/20, Batch 240/415, Loss: 0.0145\n",
      "2025-10-19 06:37:51,264 - INFO - Epoch 3/20, Batch 250/415, Loss: 0.0126\n"
     ]
    },
    {
     "name": "stderr",
     "output_type": "stream",
     "text": [
      "[2025-10-19 06:37:52,307] [INFO] [Worker ID: 118277]: Processing video 6500/2491...\n"
     ]
    },
    {
     "name": "stdout",
     "output_type": "stream",
     "text": [
      "2025-10-19 06:38:25,850 - INFO - Epoch 3/20, Batch 260/415, Loss: 0.0177\n"
     ]
    },
    {
     "name": "stderr",
     "output_type": "stream",
     "text": [
      "[2025-10-19 06:38:41,151] [INFO] [Worker ID: 118411]: Processing video 6600/2491...\n"
     ]
    },
    {
     "name": "stdout",
     "output_type": "stream",
     "text": [
      "2025-10-19 06:38:51,900 - INFO - Epoch 3/20, Batch 270/415, Loss: 0.0186\n",
      "2025-10-19 06:39:23,075 - INFO - Epoch 3/20, Batch 280/415, Loss: 0.0330\n"
     ]
    },
    {
     "name": "stderr",
     "output_type": "stream",
     "text": [
      "[2025-10-19 06:39:26,935] [INFO] [Worker ID: 118483]: Processing video 6700/2491...\n"
     ]
    },
    {
     "name": "stdout",
     "output_type": "stream",
     "text": [
      "2025-10-19 06:39:49,035 - INFO - Epoch 3/20, Batch 290/415, Loss: 0.0106\n"
     ]
    },
    {
     "name": "stderr",
     "output_type": "stream",
     "text": [
      "[2025-10-19 06:40:16,590] [INFO] [Worker ID: 118483]: Processing video 6800/2491...\n"
     ]
    },
    {
     "name": "stdout",
     "output_type": "stream",
     "text": [
      "2025-10-19 06:40:24,378 - INFO - Epoch 3/20, Batch 300/415, Loss: 0.0137\n",
      "2025-10-19 06:40:51,855 - INFO - Epoch 3/20, Batch 310/415, Loss: 0.0125\n"
     ]
    },
    {
     "name": "stderr",
     "output_type": "stream",
     "text": [
      "[2025-10-19 06:41:08,038] [INFO] [Worker ID: 118342]: Processing video 6900/2491...\n"
     ]
    },
    {
     "name": "stdout",
     "output_type": "stream",
     "text": [
      "2025-10-19 06:41:29,571 - INFO - Epoch 3/20, Batch 320/415, Loss: 0.0166\n",
      "2025-10-19 06:41:54,192 - INFO - Epoch 3/20, Batch 330/415, Loss: 0.0115\n"
     ]
    },
    {
     "name": "stderr",
     "output_type": "stream",
     "text": [
      "[2025-10-19 06:41:59,114] [INFO] [Worker ID: 118411]: Processing video 7000/2491...\n"
     ]
    },
    {
     "name": "stdout",
     "output_type": "stream",
     "text": [
      "2025-10-19 06:42:27,138 - INFO - Epoch 3/20, Batch 340/415, Loss: 0.0169\n"
     ]
    },
    {
     "name": "stderr",
     "output_type": "stream",
     "text": [
      "[2025-10-19 06:42:49,236] [INFO] [Worker ID: 118277]: Processing video 7100/2491...\n"
     ]
    },
    {
     "name": "stdout",
     "output_type": "stream",
     "text": [
      "2025-10-19 06:42:51,359 - INFO - Epoch 3/20, Batch 350/415, Loss: 0.0185\n",
      "2025-10-19 06:43:24,468 - INFO - Epoch 3/20, Batch 360/415, Loss: 0.0193\n"
     ]
    },
    {
     "name": "stderr",
     "output_type": "stream",
     "text": [
      "[2025-10-19 06:43:38,770] [INFO] [Worker ID: 118483]: Processing video 7200/2491...\n"
     ]
    },
    {
     "name": "stdout",
     "output_type": "stream",
     "text": [
      "2025-10-19 06:43:51,370 - INFO - Epoch 3/20, Batch 370/415, Loss: 0.0191\n",
      "2025-10-19 06:44:26,150 - INFO - Epoch 3/20, Batch 380/415, Loss: 0.0241\n"
     ]
    },
    {
     "name": "stderr",
     "output_type": "stream",
     "text": [
      "[2025-10-19 06:44:26,731] [INFO] [Worker ID: 118411]: Processing video 7300/2491...\n"
     ]
    },
    {
     "name": "stdout",
     "output_type": "stream",
     "text": [
      "2025-10-19 06:44:47,897 - INFO - Epoch 3/20, Batch 390/415, Loss: 0.0247\n"
     ]
    },
    {
     "name": "stderr",
     "output_type": "stream",
     "text": [
      "[2025-10-19 06:45:14,976] [INFO] [Worker ID: 118483]: Processing video 7400/2491...\n"
     ]
    },
    {
     "name": "stdout",
     "output_type": "stream",
     "text": [
      "2025-10-19 06:45:20,329 - INFO - Epoch 3/20, Batch 400/415, Loss: 0.0186\n",
      "2025-10-19 06:45:47,032 - INFO - Epoch 3/20, Batch 410/415, Loss: 0.0217\n"
     ]
    },
    {
     "name": "stderr",
     "output_type": "stream",
     "text": [
      "/tmp/ipykernel_14521/1826921583.py:181: FutureWarning: `torch.cuda.amp.autocast(args...)` is deprecated. Please use `torch.amp.autocast('cuda', args...)` instead.\n",
      "  with torch.no_grad(), autocast():\n",
      "[2025-10-19 06:46:26,413] [INFO] [Worker ID: 159581]: Processing video 1300/623...\n",
      "[2025-10-19 06:47:12,589] [INFO] [Worker ID: 159583]: Processing video 1400/623...\n",
      "[2025-10-19 06:48:01,640] [INFO] [Worker ID: 159581]: Processing video 1500/623...\n",
      "[2025-10-19 06:48:49,277] [INFO] [Worker ID: 159581]: Processing video 1600/623...\n",
      "[2025-10-19 06:49:34,360] [INFO] [Worker ID: 159583]: Processing video 1700/623...\n",
      "[2025-10-19 06:50:23,238] [INFO] [Worker ID: 159583]: Processing video 1800/623...\n"
     ]
    },
    {
     "name": "stdout",
     "output_type": "stream",
     "text": [
      "2025-10-19 06:50:52,696 - INFO - Epoch 3: Train Acc: 0.7692, Val Acc: 0.9021, AUC: 0.8382\n",
      "2025-10-19 06:51:11,834 - INFO - Epoch 4/20, Batch 0/415, Loss: 0.0132\n"
     ]
    },
    {
     "name": "stderr",
     "output_type": "stream",
     "text": [
      "[2025-10-19 06:51:13,339] [INFO] [Worker ID: 170130]: Processing video 7500/2491...\n"
     ]
    },
    {
     "name": "stdout",
     "output_type": "stream",
     "text": [
      "2025-10-19 06:51:39,488 - INFO - Epoch 4/20, Batch 10/415, Loss: 0.0108\n"
     ]
    },
    {
     "name": "stderr",
     "output_type": "stream",
     "text": [
      "[2025-10-19 06:52:04,215] [INFO] [Worker ID: 170262]: Processing video 7600/2491...\n"
     ]
    },
    {
     "name": "stdout",
     "output_type": "stream",
     "text": [
      "2025-10-19 06:52:17,590 - INFO - Epoch 4/20, Batch 20/415, Loss: 0.0239\n",
      "2025-10-19 06:52:40,271 - INFO - Epoch 4/20, Batch 30/415, Loss: 0.0091\n"
     ]
    },
    {
     "name": "stderr",
     "output_type": "stream",
     "text": [
      "[2025-10-19 06:52:51,508] [INFO] [Worker ID: 170262]: Processing video 7700/2491...\n"
     ]
    },
    {
     "name": "stdout",
     "output_type": "stream",
     "text": [
      "2025-10-19 06:53:11,244 - INFO - Epoch 4/20, Batch 40/415, Loss: 0.0468\n"
     ]
    },
    {
     "name": "stderr",
     "output_type": "stream",
     "text": [
      "[2025-10-19 06:53:40,974] [INFO] [Worker ID: 170130]: Processing video 7800/2491...\n"
     ]
    },
    {
     "name": "stdout",
     "output_type": "stream",
     "text": [
      "2025-10-19 06:53:41,468 - INFO - Epoch 4/20, Batch 50/415, Loss: 0.0147\n",
      "2025-10-19 06:54:07,655 - INFO - Epoch 4/20, Batch 60/415, Loss: 0.0088\n"
     ]
    },
    {
     "name": "stderr",
     "output_type": "stream",
     "text": [
      "[2025-10-19 06:54:29,405] [INFO] [Worker ID: 170195]: Processing video 7900/2491...\n"
     ]
    },
    {
     "name": "stdout",
     "output_type": "stream",
     "text": [
      "2025-10-19 06:54:40,399 - INFO - Epoch 4/20, Batch 70/415, Loss: 0.0345\n",
      "2025-10-19 06:55:05,135 - INFO - Epoch 4/20, Batch 80/415, Loss: 0.0228\n"
     ]
    },
    {
     "name": "stderr",
     "output_type": "stream",
     "text": [
      "[2025-10-19 06:55:19,991] [INFO] [Worker ID: 170262]: Processing video 8000/2491...\n"
     ]
    },
    {
     "name": "stdout",
     "output_type": "stream",
     "text": [
      "2025-10-19 06:55:41,408 - INFO - Epoch 4/20, Batch 90/415, Loss: 0.0131\n",
      "2025-10-19 06:56:05,709 - INFO - Epoch 4/20, Batch 100/415, Loss: 0.0134\n"
     ]
    },
    {
     "name": "stderr",
     "output_type": "stream",
     "text": [
      "[2025-10-19 06:56:08,951] [INFO] [Worker ID: 170195]: Processing video 8100/2491...\n"
     ]
    },
    {
     "name": "stdout",
     "output_type": "stream",
     "text": [
      "2025-10-19 06:56:35,191 - INFO - Epoch 4/20, Batch 110/415, Loss: 0.0294\n"
     ]
    },
    {
     "name": "stderr",
     "output_type": "stream",
     "text": [
      "[2025-10-19 06:56:59,704] [INFO] [Worker ID: 170262]: Processing video 8200/2491...\n"
     ]
    },
    {
     "name": "stdout",
     "output_type": "stream",
     "text": [
      "2025-10-19 06:57:07,388 - INFO - Epoch 4/20, Batch 120/415, Loss: 0.0068\n",
      "2025-10-19 06:57:34,441 - INFO - Epoch 4/20, Batch 130/415, Loss: 0.0086\n"
     ]
    },
    {
     "name": "stderr",
     "output_type": "stream",
     "text": [
      "[2025-10-19 06:57:48,569] [INFO] [Worker ID: 170130]: Processing video 8300/2491...\n"
     ]
    },
    {
     "name": "stdout",
     "output_type": "stream",
     "text": [
      "2025-10-19 06:57:59,614 - INFO - Epoch 4/20, Batch 140/415, Loss: 0.0206\n",
      "2025-10-19 06:58:27,003 - INFO - Epoch 4/20, Batch 150/415, Loss: 0.0092\n"
     ]
    },
    {
     "name": "stderr",
     "output_type": "stream",
     "text": [
      "[2025-10-19 06:58:33,112] [INFO] [Worker ID: 170195]: Processing video 8400/2491...\n"
     ]
    },
    {
     "name": "stdout",
     "output_type": "stream",
     "text": [
      "2025-10-19 06:59:00,007 - INFO - Epoch 4/20, Batch 160/415, Loss: 0.0102\n"
     ]
    },
    {
     "name": "stderr",
     "output_type": "stream",
     "text": [
      "[2025-10-19 06:59:24,303] [INFO] [Worker ID: 170195]: Processing video 8500/2491...\n"
     ]
    },
    {
     "name": "stdout",
     "output_type": "stream",
     "text": [
      "2025-10-19 06:59:30,308 - INFO - Epoch 4/20, Batch 170/415, Loss: 0.0150\n",
      "2025-10-19 07:00:01,880 - INFO - Epoch 4/20, Batch 180/415, Loss: 0.0266\n"
     ]
    },
    {
     "name": "stderr",
     "output_type": "stream",
     "text": [
      "[2025-10-19 07:00:12,042] [INFO] [Worker ID: 170195]: Processing video 8600/2491...\n"
     ]
    },
    {
     "name": "stdout",
     "output_type": "stream",
     "text": [
      "2025-10-19 07:00:29,702 - INFO - Epoch 4/20, Batch 190/415, Loss: 0.0144\n",
      "2025-10-19 07:01:02,561 - INFO - Epoch 4/20, Batch 200/415, Loss: 0.0177\n"
     ]
    },
    {
     "name": "stderr",
     "output_type": "stream",
     "text": [
      "[2025-10-19 07:01:06,664] [INFO] [Worker ID: 170130]: Processing video 8700/2491...\n"
     ]
    },
    {
     "name": "stdout",
     "output_type": "stream",
     "text": [
      "2025-10-19 07:01:34,239 - INFO - Epoch 4/20, Batch 210/415, Loss: 0.0096\n"
     ]
    },
    {
     "name": "stderr",
     "output_type": "stream",
     "text": [
      "[2025-10-19 07:01:57,136] [INFO] [Worker ID: 170130]: Processing video 8800/2491...\n"
     ]
    },
    {
     "name": "stdout",
     "output_type": "stream",
     "text": [
      "2025-10-19 07:02:00,197 - INFO - Epoch 4/20, Batch 220/415, Loss: 0.0842\n",
      "2025-10-19 07:02:32,272 - INFO - Epoch 4/20, Batch 230/415, Loss: 0.0101\n"
     ]
    },
    {
     "name": "stderr",
     "output_type": "stream",
     "text": [
      "[2025-10-19 07:02:44,904] [INFO] [Worker ID: 170195]: Processing video 8900/2491...\n"
     ]
    },
    {
     "name": "stdout",
     "output_type": "stream",
     "text": [
      "2025-10-19 07:03:03,286 - INFO - Epoch 4/20, Batch 240/415, Loss: 0.0164\n",
      "2025-10-19 07:03:30,894 - INFO - Epoch 4/20, Batch 250/415, Loss: 0.0042\n"
     ]
    },
    {
     "name": "stderr",
     "output_type": "stream",
     "text": [
      "[2025-10-19 07:03:36,527] [INFO] [Worker ID: 170195]: Processing video 9000/2491...\n"
     ]
    },
    {
     "name": "stdout",
     "output_type": "stream",
     "text": [
      "2025-10-19 07:04:04,172 - INFO - Epoch 4/20, Batch 260/415, Loss: 0.0161\n"
     ]
    },
    {
     "name": "stderr",
     "output_type": "stream",
     "text": [
      "[2025-10-19 07:04:27,098] [INFO] [Worker ID: 170130]: Processing video 9100/2491...\n"
     ]
    },
    {
     "name": "stdout",
     "output_type": "stream",
     "text": [
      "2025-10-19 07:04:29,235 - INFO - Epoch 4/20, Batch 270/415, Loss: 0.0150\n",
      "2025-10-19 07:05:03,429 - INFO - Epoch 4/20, Batch 280/415, Loss: 0.0153\n"
     ]
    },
    {
     "name": "stderr",
     "output_type": "stream",
     "text": [
      "[2025-10-19 07:05:15,136] [INFO] [Worker ID: 170195]: Processing video 9200/2491...\n"
     ]
    },
    {
     "name": "stdout",
     "output_type": "stream",
     "text": [
      "2025-10-19 07:05:29,947 - INFO - Epoch 4/20, Batch 290/415, Loss: 0.0071\n",
      "2025-10-19 07:06:02,740 - INFO - Epoch 4/20, Batch 300/415, Loss: 0.0729\n"
     ]
    },
    {
     "name": "stderr",
     "output_type": "stream",
     "text": [
      "[2025-10-19 07:06:06,140] [INFO] [Worker ID: 170262]: Processing video 9300/2491...\n"
     ]
    },
    {
     "name": "stdout",
     "output_type": "stream",
     "text": [
      "2025-10-19 07:06:25,136 - INFO - Epoch 4/20, Batch 310/415, Loss: 0.0112\n"
     ]
    },
    {
     "name": "stderr",
     "output_type": "stream",
     "text": [
      "[2025-10-19 07:06:52,528] [INFO] [Worker ID: 170130]: Processing video 9400/2491...\n"
     ]
    },
    {
     "name": "stdout",
     "output_type": "stream",
     "text": [
      "2025-10-19 07:07:00,837 - INFO - Epoch 4/20, Batch 320/415, Loss: 0.0098\n",
      "2025-10-19 07:07:29,481 - INFO - Epoch 4/20, Batch 330/415, Loss: 0.0363\n"
     ]
    },
    {
     "name": "stderr",
     "output_type": "stream",
     "text": [
      "[2025-10-19 07:07:41,307] [INFO] [Worker ID: 170130]: Processing video 9500/2491...\n"
     ]
    },
    {
     "name": "stdout",
     "output_type": "stream",
     "text": [
      "2025-10-19 07:08:02,729 - INFO - Epoch 4/20, Batch 340/415, Loss: 0.0079\n",
      "2025-10-19 07:08:24,035 - INFO - Epoch 4/20, Batch 350/415, Loss: 0.0197\n"
     ]
    },
    {
     "name": "stderr",
     "output_type": "stream",
     "text": [
      "[2025-10-19 07:08:32,857] [INFO] [Worker ID: 170130]: Processing video 9600/2491...\n"
     ]
    },
    {
     "name": "stdout",
     "output_type": "stream",
     "text": [
      "2025-10-19 07:09:07,636 - INFO - Epoch 4/20, Batch 360/415, Loss: 0.0297\n"
     ]
    },
    {
     "name": "stderr",
     "output_type": "stream",
     "text": [
      "[2025-10-19 07:09:22,833] [INFO] [Worker ID: 170195]: Processing video 9700/2491...\n"
     ]
    },
    {
     "name": "stdout",
     "output_type": "stream",
     "text": [
      "2025-10-19 07:09:28,912 - INFO - Epoch 4/20, Batch 370/415, Loss: 0.0285\n",
      "2025-10-19 07:10:04,084 - INFO - Epoch 4/20, Batch 380/415, Loss: 0.0367\n"
     ]
    },
    {
     "name": "stderr",
     "output_type": "stream",
     "text": [
      "[2025-10-19 07:10:13,193] [INFO] [Worker ID: 170195]: Processing video 9800/2491...\n"
     ]
    },
    {
     "name": "stdout",
     "output_type": "stream",
     "text": [
      "2025-10-19 07:10:27,022 - INFO - Epoch 4/20, Batch 390/415, Loss: 0.0288\n"
     ]
    },
    {
     "name": "stderr",
     "output_type": "stream",
     "text": [
      "[2025-10-19 07:11:02,005] [INFO] [Worker ID: 170331]: Processing video 9900/2491...\n"
     ]
    },
    {
     "name": "stdout",
     "output_type": "stream",
     "text": [
      "2025-10-19 07:11:04,016 - INFO - Epoch 4/20, Batch 400/415, Loss: 0.0109\n",
      "2025-10-19 07:11:24,567 - INFO - Epoch 4/20, Batch 410/415, Loss: 0.0241\n"
     ]
    },
    {
     "name": "stderr",
     "output_type": "stream",
     "text": [
      "/tmp/ipykernel_14521/1826921583.py:181: FutureWarning: `torch.cuda.amp.autocast(args...)` is deprecated. Please use `torch.amp.autocast('cuda', args...)` instead.\n",
      "  with torch.no_grad(), autocast():\n",
      "[2025-10-19 07:11:58,779] [INFO] [Worker ID: 211318]: Processing video 1900/623...\n",
      "[2025-10-19 07:12:46,178] [INFO] [Worker ID: 211317]: Processing video 2000/623...\n",
      "[2025-10-19 07:13:34,402] [INFO] [Worker ID: 211317]: Processing video 2100/623...\n",
      "[2025-10-19 07:14:21,826] [INFO] [Worker ID: 211317]: Processing video 2200/623...\n",
      "[2025-10-19 07:15:09,200] [INFO] [Worker ID: 211318]: Processing video 2300/623...\n",
      "[2025-10-19 07:15:56,908] [INFO] [Worker ID: 211317]: Processing video 2400/623...\n"
     ]
    },
    {
     "name": "stdout",
     "output_type": "stream",
     "text": [
      "2025-10-19 07:16:35,040 - INFO - Epoch 4: Train Acc: 0.8298, Val Acc: 0.9085, AUC: 0.8682\n",
      "2025-10-19 07:16:54,928 - INFO - Epoch 5/20, Batch 0/415, Loss: 0.0044\n"
     ]
    },
    {
     "name": "stderr",
     "output_type": "stream",
     "text": [
      "[2025-10-19 07:17:02,696] [INFO] [Worker ID: 221860]: Processing video 10000/2491...\n"
     ]
    },
    {
     "name": "stdout",
     "output_type": "stream",
     "text": [
      "2025-10-19 07:17:24,380 - INFO - Epoch 5/20, Batch 10/415, Loss: 0.0094\n",
      "2025-10-19 07:17:50,190 - INFO - Epoch 5/20, Batch 20/415, Loss: 0.0208\n"
     ]
    },
    {
     "name": "stderr",
     "output_type": "stream",
     "text": [
      "[2025-10-19 07:17:52,861] [INFO] [Worker ID: 221860]: Processing video 10100/2491...\n"
     ]
    },
    {
     "name": "stdout",
     "output_type": "stream",
     "text": [
      "2025-10-19 07:18:24,245 - INFO - Epoch 5/20, Batch 30/415, Loss: 0.0230\n"
     ]
    },
    {
     "name": "stderr",
     "output_type": "stream",
     "text": [
      "[2025-10-19 07:18:42,318] [INFO] [Worker ID: 221860]: Processing video 10200/2491...\n"
     ]
    },
    {
     "name": "stdout",
     "output_type": "stream",
     "text": [
      "2025-10-19 07:18:50,057 - INFO - Epoch 5/20, Batch 40/415, Loss: 0.0052\n",
      "2025-10-19 07:19:25,143 - INFO - Epoch 5/20, Batch 50/415, Loss: 0.0104\n"
     ]
    },
    {
     "name": "stderr",
     "output_type": "stream",
     "text": [
      "[2025-10-19 07:19:32,510] [INFO] [Worker ID: 221925]: Processing video 10300/2491...\n"
     ]
    },
    {
     "name": "stdout",
     "output_type": "stream",
     "text": [
      "2025-10-19 07:19:56,272 - INFO - Epoch 5/20, Batch 60/415, Loss: 0.0100\n"
     ]
    },
    {
     "name": "stderr",
     "output_type": "stream",
     "text": [
      "[2025-10-19 07:20:24,781] [INFO] [Worker ID: 221925]: Processing video 10400/2491...\n"
     ]
    },
    {
     "name": "stdout",
     "output_type": "stream",
     "text": [
      "2025-10-19 07:20:26,467 - INFO - Epoch 5/20, Batch 70/415, Loss: 0.0209\n",
      "2025-10-19 07:20:55,893 - INFO - Epoch 5/20, Batch 80/415, Loss: 0.0095\n"
     ]
    },
    {
     "name": "stderr",
     "output_type": "stream",
     "text": [
      "[2025-10-19 07:21:13,982] [INFO] [Worker ID: 221860]: Processing video 10500/2491...\n"
     ]
    },
    {
     "name": "stdout",
     "output_type": "stream",
     "text": [
      "2025-10-19 07:21:27,691 - INFO - Epoch 5/20, Batch 90/415, Loss: 0.0105\n",
      "2025-10-19 07:21:57,275 - INFO - Epoch 5/20, Batch 100/415, Loss: 0.0030\n"
     ]
    },
    {
     "name": "stderr",
     "output_type": "stream",
     "text": [
      "[2025-10-19 07:22:02,561] [INFO] [Worker ID: 221860]: Processing video 10600/2491...\n"
     ]
    },
    {
     "name": "stdout",
     "output_type": "stream",
     "text": [
      "2025-10-19 07:22:24,062 - INFO - Epoch 5/20, Batch 110/415, Loss: 0.0081\n"
     ]
    },
    {
     "name": "stderr",
     "output_type": "stream",
     "text": [
      "[2025-10-19 07:22:52,616] [INFO] [Worker ID: 221992]: Processing video 10700/2491...\n"
     ]
    },
    {
     "name": "stdout",
     "output_type": "stream",
     "text": [
      "2025-10-19 07:22:57,155 - INFO - Epoch 5/20, Batch 120/415, Loss: 0.0047\n",
      "2025-10-19 07:23:31,995 - INFO - Epoch 5/20, Batch 130/415, Loss: 0.0209\n"
     ]
    },
    {
     "name": "stderr",
     "output_type": "stream",
     "text": [
      "[2025-10-19 07:23:41,774] [INFO] [Worker ID: 221992]: Processing video 10800/2491...\n"
     ]
    },
    {
     "name": "stdout",
     "output_type": "stream",
     "text": [
      "2025-10-19 07:23:56,433 - INFO - Epoch 5/20, Batch 140/415, Loss: 0.0264\n",
      "2025-10-19 07:24:21,494 - INFO - Epoch 5/20, Batch 150/415, Loss: 0.0104\n"
     ]
    },
    {
     "name": "stderr",
     "output_type": "stream",
     "text": [
      "[2025-10-19 07:24:29,768] [INFO] [Worker ID: 221992]: Processing video 10900/2491...\n"
     ]
    },
    {
     "name": "stdout",
     "output_type": "stream",
     "text": [
      "2025-10-19 07:24:51,452 - INFO - Epoch 5/20, Batch 160/415, Loss: 0.0135\n"
     ]
    },
    {
     "name": "stderr",
     "output_type": "stream",
     "text": [
      "[2025-10-19 07:25:19,676] [INFO] [Worker ID: 221925]: Processing video 11000/2491...\n"
     ]
    },
    {
     "name": "stdout",
     "output_type": "stream",
     "text": [
      "2025-10-19 07:25:25,113 - INFO - Epoch 5/20, Batch 170/415, Loss: 0.0058\n",
      "2025-10-19 07:26:01,721 - INFO - Epoch 5/20, Batch 180/415, Loss: 0.0154\n"
     ]
    },
    {
     "name": "stderr",
     "output_type": "stream",
     "text": [
      "[2025-10-19 07:26:14,297] [INFO] [Worker ID: 221860]: Processing video 11100/2491...\n"
     ]
    },
    {
     "name": "stdout",
     "output_type": "stream",
     "text": [
      "2025-10-19 07:26:29,303 - INFO - Epoch 5/20, Batch 190/415, Loss: 0.0032\n",
      "2025-10-19 07:26:56,785 - INFO - Epoch 5/20, Batch 200/415, Loss: 0.0092\n"
     ]
    },
    {
     "name": "stderr",
     "output_type": "stream",
     "text": [
      "[2025-10-19 07:27:03,753] [INFO] [Worker ID: 221860]: Processing video 11200/2491...\n"
     ]
    },
    {
     "name": "stdout",
     "output_type": "stream",
     "text": [
      "2025-10-19 07:27:31,137 - INFO - Epoch 5/20, Batch 210/415, Loss: 0.0479\n"
     ]
    },
    {
     "name": "stderr",
     "output_type": "stream",
     "text": [
      "[2025-10-19 07:27:52,309] [INFO] [Worker ID: 221992]: Processing video 11300/2491...\n"
     ]
    },
    {
     "name": "stdout",
     "output_type": "stream",
     "text": [
      "2025-10-19 07:27:54,902 - INFO - Epoch 5/20, Batch 220/415, Loss: 0.0130\n",
      "2025-10-19 07:28:31,148 - INFO - Epoch 5/20, Batch 230/415, Loss: 0.0024\n"
     ]
    },
    {
     "name": "stderr",
     "output_type": "stream",
     "text": [
      "[2025-10-19 07:28:41,554] [INFO] [Worker ID: 221925]: Processing video 11400/2491...\n"
     ]
    },
    {
     "name": "stdout",
     "output_type": "stream",
     "text": [
      "2025-10-19 07:28:56,196 - INFO - Epoch 5/20, Batch 240/415, Loss: 0.0374\n",
      "2025-10-19 07:29:26,318 - INFO - Epoch 5/20, Batch 250/415, Loss: 0.0212\n"
     ]
    },
    {
     "name": "stderr",
     "output_type": "stream",
     "text": [
      "[2025-10-19 07:29:30,733] [INFO] [Worker ID: 221860]: Processing video 11500/2491...\n"
     ]
    },
    {
     "name": "stdout",
     "output_type": "stream",
     "text": [
      "2025-10-19 07:29:58,856 - INFO - Epoch 5/20, Batch 260/415, Loss: 0.0206\n"
     ]
    },
    {
     "name": "stderr",
     "output_type": "stream",
     "text": [
      "[2025-10-19 07:30:20,006] [INFO] [Worker ID: 222066]: Processing video 11600/2491...\n"
     ]
    },
    {
     "name": "stdout",
     "output_type": "stream",
     "text": [
      "2025-10-19 07:30:20,449 - INFO - Epoch 5/20, Batch 270/415, Loss: 0.0081\n",
      "2025-10-19 07:30:56,443 - INFO - Epoch 5/20, Batch 280/415, Loss: 0.0052\n"
     ]
    },
    {
     "name": "stderr",
     "output_type": "stream",
     "text": [
      "[2025-10-19 07:31:06,880] [INFO] [Worker ID: 222066]: Processing video 11700/2491...\n"
     ]
    },
    {
     "name": "stdout",
     "output_type": "stream",
     "text": [
      "2025-10-19 07:31:19,238 - INFO - Epoch 5/20, Batch 290/415, Loss: 0.0121\n",
      "2025-10-19 07:31:54,829 - INFO - Epoch 5/20, Batch 300/415, Loss: 0.0042\n"
     ]
    },
    {
     "name": "stderr",
     "output_type": "stream",
     "text": [
      "[2025-10-19 07:31:56,611] [INFO] [Worker ID: 221860]: Processing video 11800/2491...\n"
     ]
    },
    {
     "name": "stdout",
     "output_type": "stream",
     "text": [
      "2025-10-19 07:32:16,808 - INFO - Epoch 5/20, Batch 310/415, Loss: 0.0088\n"
     ]
    },
    {
     "name": "stderr",
     "output_type": "stream",
     "text": [
      "[2025-10-19 07:32:46,418] [INFO] [Worker ID: 222066]: Processing video 11900/2491...\n"
     ]
    },
    {
     "name": "stdout",
     "output_type": "stream",
     "text": [
      "2025-10-19 07:32:53,181 - INFO - Epoch 5/20, Batch 320/415, Loss: 0.0197\n",
      "2025-10-19 07:33:17,069 - INFO - Epoch 5/20, Batch 330/415, Loss: 0.0074\n"
     ]
    },
    {
     "name": "stderr",
     "output_type": "stream",
     "text": [
      "[2025-10-19 07:33:33,349] [INFO] [Worker ID: 221925]: Processing video 12000/2491...\n"
     ]
    },
    {
     "name": "stdout",
     "output_type": "stream",
     "text": [
      "2025-10-19 07:33:51,715 - INFO - Epoch 5/20, Batch 340/415, Loss: 0.0716\n",
      "2025-10-19 07:34:24,044 - INFO - Epoch 5/20, Batch 350/415, Loss: 0.0078\n"
     ]
    },
    {
     "name": "stderr",
     "output_type": "stream",
     "text": [
      "[2025-10-19 07:34:27,611] [INFO] [Worker ID: 221992]: Processing video 12100/2491...\n"
     ]
    },
    {
     "name": "stdout",
     "output_type": "stream",
     "text": [
      "2025-10-19 07:34:56,269 - INFO - Epoch 5/20, Batch 360/415, Loss: 0.0089\n"
     ]
    },
    {
     "name": "stderr",
     "output_type": "stream",
     "text": [
      "[2025-10-19 07:35:13,299] [INFO] [Worker ID: 221925]: Processing video 12200/2491...\n"
     ]
    },
    {
     "name": "stdout",
     "output_type": "stream",
     "text": [
      "2025-10-19 07:35:17,586 - INFO - Epoch 5/20, Batch 370/415, Loss: 0.0184\n",
      "2025-10-19 07:35:52,419 - INFO - Epoch 5/20, Batch 380/415, Loss: 0.0418\n"
     ]
    },
    {
     "name": "stderr",
     "output_type": "stream",
     "text": [
      "[2025-10-19 07:36:02,736] [INFO] [Worker ID: 221925]: Processing video 12300/2491...\n"
     ]
    },
    {
     "name": "stdout",
     "output_type": "stream",
     "text": [
      "2025-10-19 07:36:14,539 - INFO - Epoch 5/20, Batch 390/415, Loss: 0.0111\n",
      "2025-10-19 07:36:48,163 - INFO - Epoch 5/20, Batch 400/415, Loss: 0.0281\n"
     ]
    },
    {
     "name": "stderr",
     "output_type": "stream",
     "text": [
      "[2025-10-19 07:36:54,891] [INFO] [Worker ID: 221860]: Processing video 12400/2491...\n"
     ]
    },
    {
     "name": "stdout",
     "output_type": "stream",
     "text": [
      "2025-10-19 07:37:13,253 - INFO - Epoch 5/20, Batch 410/415, Loss: 0.0013\n"
     ]
    },
    {
     "name": "stderr",
     "output_type": "stream",
     "text": [
      "/tmp/ipykernel_14521/1826921583.py:181: FutureWarning: `torch.cuda.amp.autocast(args...)` is deprecated. Please use `torch.amp.autocast('cuda', args...)` instead.\n",
      "  with torch.no_grad(), autocast():\n",
      "[2025-10-19 07:37:36,911] [INFO] [Worker ID: 263021]: Processing video 2500/623...\n",
      "[2025-10-19 07:38:25,526] [INFO] [Worker ID: 263022]: Processing video 2600/623...\n",
      "[2025-10-19 07:39:13,169] [INFO] [Worker ID: 263023]: Processing video 2700/623...\n",
      "[2025-10-19 07:40:01,138] [INFO] [Worker ID: 263024]: Processing video 2800/623...\n",
      "[2025-10-19 07:40:47,650] [INFO] [Worker ID: 263021]: Processing video 2900/623...\n",
      "[2025-10-19 07:41:33,726] [INFO] [Worker ID: 263021]: Processing video 3000/623...\n"
     ]
    },
    {
     "name": "stdout",
     "output_type": "stream",
     "text": [
      "2025-10-19 07:42:20,397 - INFO - Epoch 5: Train Acc: 0.8282, Val Acc: 0.9101, AUC: 0.8897\n",
      "2025-10-19 07:42:40,928 - INFO - Epoch 6/20, Batch 0/415, Loss: 0.0184\n"
     ]
    },
    {
     "name": "stderr",
     "output_type": "stream",
     "text": [
      "[2025-10-19 07:42:53,994] [INFO] [Worker ID: 273763]: Processing video 12500/2491...\n"
     ]
    },
    {
     "name": "stdout",
     "output_type": "stream",
     "text": [
      "2025-10-19 07:43:15,399 - INFO - Epoch 6/20, Batch 10/415, Loss: 0.0062\n"
     ]
    },
    {
     "name": "stderr",
     "output_type": "stream",
     "text": [
      "[2025-10-19 07:43:43,023] [INFO] [Worker ID: 273763]: Processing video 12600/2491...\n"
     ]
    },
    {
     "name": "stdout",
     "output_type": "stream",
     "text": [
      "2025-10-19 07:43:46,763 - INFO - Epoch 6/20, Batch 20/415, Loss: 0.0108\n",
      "2025-10-19 07:44:09,012 - INFO - Epoch 6/20, Batch 30/415, Loss: 0.0046\n"
     ]
    },
    {
     "name": "stderr",
     "output_type": "stream",
     "text": [
      "[2025-10-19 07:44:38,545] [INFO] [Worker ID: 273564]: Processing video 12700/2491...\n"
     ]
    },
    {
     "name": "stdout",
     "output_type": "stream",
     "text": [
      "2025-10-19 07:44:49,791 - INFO - Epoch 6/20, Batch 40/415, Loss: 0.0107\n",
      "2025-10-19 07:45:11,610 - INFO - Epoch 6/20, Batch 50/415, Loss: 0.0114\n"
     ]
    },
    {
     "name": "stderr",
     "output_type": "stream",
     "text": [
      "[2025-10-19 07:45:30,079] [INFO] [Worker ID: 273564]: Processing video 12800/2491...\n"
     ]
    },
    {
     "name": "stdout",
     "output_type": "stream",
     "text": [
      "2025-10-19 07:45:46,760 - INFO - Epoch 6/20, Batch 60/415, Loss: 0.0424\n",
      "2025-10-19 07:46:10,071 - INFO - Epoch 6/20, Batch 70/415, Loss: 0.0144\n"
     ]
    },
    {
     "name": "stderr",
     "output_type": "stream",
     "text": [
      "[2025-10-19 07:46:19,176] [INFO] [Worker ID: 273763]: Processing video 12900/2491...\n"
     ]
    },
    {
     "name": "stdout",
     "output_type": "stream",
     "text": [
      "2025-10-19 07:46:46,918 - INFO - Epoch 6/20, Batch 80/415, Loss: 0.0036\n"
     ]
    },
    {
     "name": "stderr",
     "output_type": "stream",
     "text": [
      "[2025-10-19 07:47:10,965] [INFO] [Worker ID: 273629]: Processing video 13000/2491...\n"
     ]
    },
    {
     "name": "stdout",
     "output_type": "stream",
     "text": [
      "2025-10-19 07:47:22,539 - INFO - Epoch 6/20, Batch 90/415, Loss: 0.0032\n",
      "2025-10-19 07:47:49,879 - INFO - Epoch 6/20, Batch 100/415, Loss: 0.0042\n"
     ]
    },
    {
     "name": "stderr",
     "output_type": "stream",
     "text": [
      "[2025-10-19 07:48:01,442] [INFO] [Worker ID: 273629]: Processing video 13100/2491...\n"
     ]
    },
    {
     "name": "stdout",
     "output_type": "stream",
     "text": [
      "2025-10-19 07:48:20,856 - INFO - Epoch 6/20, Batch 110/415, Loss: 0.0037\n"
     ]
    },
    {
     "name": "stderr",
     "output_type": "stream",
     "text": [
      "[2025-10-19 07:48:51,407] [INFO] [Worker ID: 273763]: Processing video 13200/2491...\n"
     ]
    },
    {
     "name": "stdout",
     "output_type": "stream",
     "text": [
      "2025-10-19 07:48:53,393 - INFO - Epoch 6/20, Batch 120/415, Loss: 0.0024\n",
      "2025-10-19 07:49:19,731 - INFO - Epoch 6/20, Batch 130/415, Loss: 0.0050\n"
     ]
    },
    {
     "name": "stderr",
     "output_type": "stream",
     "text": [
      "[2025-10-19 07:49:40,968] [INFO] [Worker ID: 273629]: Processing video 13300/2491...\n"
     ]
    },
    {
     "name": "stdout",
     "output_type": "stream",
     "text": [
      "2025-10-19 07:49:50,671 - INFO - Epoch 6/20, Batch 140/415, Loss: 0.0106\n",
      "2025-10-19 07:50:20,549 - INFO - Epoch 6/20, Batch 150/415, Loss: 0.0271\n"
     ]
    },
    {
     "name": "stderr",
     "output_type": "stream",
     "text": [
      "[2025-10-19 07:50:30,915] [INFO] [Worker ID: 273629]: Processing video 13400/2491...\n"
     ]
    },
    {
     "name": "stdout",
     "output_type": "stream",
     "text": [
      "2025-10-19 07:50:52,938 - INFO - Epoch 6/20, Batch 160/415, Loss: 0.0262\n"
     ]
    },
    {
     "name": "stderr",
     "output_type": "stream",
     "text": [
      "[2025-10-19 07:51:21,580] [INFO] [Worker ID: 273564]: Processing video 13500/2491...\n"
     ]
    },
    {
     "name": "stdout",
     "output_type": "stream",
     "text": [
      "2025-10-19 07:51:24,113 - INFO - Epoch 6/20, Batch 170/415, Loss: 0.0054\n",
      "2025-10-19 07:51:55,381 - INFO - Epoch 6/20, Batch 180/415, Loss: 0.0043\n"
     ]
    },
    {
     "name": "stderr",
     "output_type": "stream",
     "text": [
      "[2025-10-19 07:52:11,915] [INFO] [Worker ID: 273763]: Processing video 13600/2491...\n"
     ]
    },
    {
     "name": "stdout",
     "output_type": "stream",
     "text": [
      "2025-10-19 07:52:28,451 - INFO - Epoch 6/20, Batch 190/415, Loss: 0.0136\n",
      "2025-10-19 07:52:48,760 - INFO - Epoch 6/20, Batch 200/415, Loss: 0.0054\n"
     ]
    },
    {
     "name": "stderr",
     "output_type": "stream",
     "text": [
      "[2025-10-19 07:52:58,923] [INFO] [Worker ID: 273629]: Processing video 13700/2491...\n"
     ]
    },
    {
     "name": "stdout",
     "output_type": "stream",
     "text": [
      "2025-10-19 07:53:25,103 - INFO - Epoch 6/20, Batch 210/415, Loss: 0.0057\n",
      "2025-10-19 07:53:51,850 - INFO - Epoch 6/20, Batch 220/415, Loss: 0.0075\n"
     ]
    },
    {
     "name": "stderr",
     "output_type": "stream",
     "text": [
      "[2025-10-19 07:53:55,465] [INFO] [Worker ID: 273564]: Processing video 13800/2491...\n"
     ]
    },
    {
     "name": "stdout",
     "output_type": "stream",
     "text": [
      "2025-10-19 07:54:29,530 - INFO - Epoch 6/20, Batch 230/415, Loss: 0.0040\n"
     ]
    },
    {
     "name": "stderr",
     "output_type": "stream",
     "text": [
      "[2025-10-19 07:54:42,463] [INFO] [Worker ID: 273564]: Processing video 13900/2491...\n"
     ]
    },
    {
     "name": "stdout",
     "output_type": "stream",
     "text": [
      "2025-10-19 07:54:53,832 - INFO - Epoch 6/20, Batch 240/415, Loss: 0.0073\n",
      "2025-10-19 07:55:29,265 - INFO - Epoch 6/20, Batch 250/415, Loss: 0.0058\n"
     ]
    },
    {
     "name": "stderr",
     "output_type": "stream",
     "text": [
      "[2025-10-19 07:55:31,205] [INFO] [Worker ID: 273629]: Processing video 14000/2491...\n"
     ]
    },
    {
     "name": "stdout",
     "output_type": "stream",
     "text": [
      "2025-10-19 07:55:53,755 - INFO - Epoch 6/20, Batch 260/415, Loss: 0.0291\n"
     ]
    },
    {
     "name": "stderr",
     "output_type": "stream",
     "text": [
      "[2025-10-19 07:56:19,591] [INFO] [Worker ID: 273763]: Processing video 14100/2491...\n"
     ]
    },
    {
     "name": "stdout",
     "output_type": "stream",
     "text": [
      "2025-10-19 07:56:24,951 - INFO - Epoch 6/20, Batch 270/415, Loss: 0.0113\n",
      "2025-10-19 07:56:51,082 - INFO - Epoch 6/20, Batch 280/415, Loss: 0.0175\n"
     ]
    },
    {
     "name": "stderr",
     "output_type": "stream",
     "text": [
      "[2025-10-19 07:57:08,830] [INFO] [Worker ID: 273763]: Processing video 14200/2491...\n"
     ]
    },
    {
     "name": "stdout",
     "output_type": "stream",
     "text": [
      "2025-10-19 07:57:23,245 - INFO - Epoch 6/20, Batch 290/415, Loss: 0.0108\n",
      "2025-10-19 07:57:45,752 - INFO - Epoch 6/20, Batch 300/415, Loss: 0.0090\n"
     ]
    },
    {
     "name": "stderr",
     "output_type": "stream",
     "text": [
      "[2025-10-19 07:57:59,337] [INFO] [Worker ID: 273696]: Processing video 14300/2491...\n"
     ]
    },
    {
     "name": "stdout",
     "output_type": "stream",
     "text": [
      "2025-10-19 07:58:25,777 - INFO - Epoch 6/20, Batch 310/415, Loss: 0.0150\n"
     ]
    },
    {
     "name": "stderr",
     "output_type": "stream",
     "text": [
      "[2025-10-19 07:58:48,137] [INFO] [Worker ID: 273763]: Processing video 14400/2491...\n"
     ]
    },
    {
     "name": "stdout",
     "output_type": "stream",
     "text": [
      "2025-10-19 07:58:48,423 - INFO - Epoch 6/20, Batch 320/415, Loss: 0.0117\n",
      "2025-10-19 07:59:20,535 - INFO - Epoch 6/20, Batch 330/415, Loss: 0.0055\n"
     ]
    },
    {
     "name": "stderr",
     "output_type": "stream",
     "text": [
      "[2025-10-19 07:59:34,479] [INFO] [Worker ID: 273696]: Processing video 14500/2491...\n"
     ]
    },
    {
     "name": "stdout",
     "output_type": "stream",
     "text": [
      "2025-10-19 07:59:42,359 - INFO - Epoch 6/20, Batch 340/415, Loss: 0.0164\n",
      "2025-10-19 08:00:19,773 - INFO - Epoch 6/20, Batch 350/415, Loss: 0.0038\n"
     ]
    },
    {
     "name": "stderr",
     "output_type": "stream",
     "text": [
      "[2025-10-19 08:00:22,562] [INFO] [Worker ID: 273629]: Processing video 14600/2491...\n"
     ]
    },
    {
     "name": "stdout",
     "output_type": "stream",
     "text": [
      "2025-10-19 08:00:41,984 - INFO - Epoch 6/20, Batch 360/415, Loss: 0.0108\n"
     ]
    },
    {
     "name": "stderr",
     "output_type": "stream",
     "text": [
      "[2025-10-19 08:01:07,217] [INFO] [Worker ID: 273696]: Processing video 14700/2491...\n"
     ]
    },
    {
     "name": "stdout",
     "output_type": "stream",
     "text": [
      "2025-10-19 08:01:12,106 - INFO - Epoch 6/20, Batch 370/415, Loss: 0.0041\n",
      "2025-10-19 08:01:36,271 - INFO - Epoch 6/20, Batch 380/415, Loss: 0.0025\n"
     ]
    },
    {
     "name": "stderr",
     "output_type": "stream",
     "text": [
      "[2025-10-19 08:01:57,286] [INFO] [Worker ID: 273696]: Processing video 14800/2491...\n"
     ]
    },
    {
     "name": "stdout",
     "output_type": "stream",
     "text": [
      "2025-10-19 08:02:08,682 - INFO - Epoch 6/20, Batch 390/415, Loss: 0.0020\n",
      "2025-10-19 08:02:33,240 - INFO - Epoch 6/20, Batch 400/415, Loss: 0.0188\n"
     ]
    },
    {
     "name": "stderr",
     "output_type": "stream",
     "text": [
      "[2025-10-19 08:02:47,399] [INFO] [Worker ID: 273564]: Processing video 14900/2491...\n"
     ]
    },
    {
     "name": "stdout",
     "output_type": "stream",
     "text": [
      "2025-10-19 08:03:05,701 - INFO - Epoch 6/20, Batch 410/415, Loss: 0.0039\n"
     ]
    },
    {
     "name": "stderr",
     "output_type": "stream",
     "text": [
      "/tmp/ipykernel_14521/1826921583.py:181: FutureWarning: `torch.cuda.amp.autocast(args...)` is deprecated. Please use `torch.amp.autocast('cuda', args...)` instead.\n",
      "  with torch.no_grad(), autocast():\n",
      "[2025-10-19 08:03:16,499] [INFO] [Worker ID: 314729]: Processing video 3100/623...\n",
      "[2025-10-19 08:04:06,742] [INFO] [Worker ID: 314726]: Processing video 3200/623...\n",
      "[2025-10-19 08:04:54,869] [INFO] [Worker ID: 314728]: Processing video 3300/623...\n",
      "[2025-10-19 08:05:42,404] [INFO] [Worker ID: 314726]: Processing video 3400/623...\n",
      "[2025-10-19 08:06:28,510] [INFO] [Worker ID: 314728]: Processing video 3500/623...\n",
      "[2025-10-19 08:07:13,966] [INFO] [Worker ID: 314726]: Processing video 3600/623...\n",
      "[2025-10-19 08:08:05,292] [INFO] [Worker ID: 314727]: Processing video 3700/623...\n"
     ]
    },
    {
     "name": "stdout",
     "output_type": "stream",
     "text": [
      "2025-10-19 08:08:11,511 - INFO - Epoch 6: Train Acc: 0.8635, Val Acc: 0.9117, AUC: 0.8995\n",
      "2025-10-19 08:08:29,969 - INFO - Epoch 7/20, Batch 0/415, Loss: 0.0021\n"
     ]
    },
    {
     "name": "stderr",
     "output_type": "stream",
     "text": [
      "[2025-10-19 08:08:50,231] [INFO] [Worker ID: 325408]: Processing video 15000/2491...\n"
     ]
    },
    {
     "name": "stdout",
     "output_type": "stream",
     "text": [
      "2025-10-19 08:08:59,195 - INFO - Epoch 7/20, Batch 10/415, Loss: 0.0047\n",
      "2025-10-19 08:09:24,803 - INFO - Epoch 7/20, Batch 20/415, Loss: 0.0071\n"
     ]
    },
    {
     "name": "stderr",
     "output_type": "stream",
     "text": [
      "[2025-10-19 08:09:38,474] [INFO] [Worker ID: 325408]: Processing video 15100/2491...\n"
     ]
    },
    {
     "name": "stdout",
     "output_type": "stream",
     "text": [
      "2025-10-19 08:10:06,632 - INFO - Epoch 7/20, Batch 30/415, Loss: 0.0515\n"
     ]
    },
    {
     "name": "stderr",
     "output_type": "stream",
     "text": [
      "[2025-10-19 08:10:28,999] [INFO] [Worker ID: 325408]: Processing video 15200/2491...\n"
     ]
    },
    {
     "name": "stdout",
     "output_type": "stream",
     "text": [
      "2025-10-19 08:10:30,588 - INFO - Epoch 7/20, Batch 40/415, Loss: 0.0062\n",
      "2025-10-19 08:11:03,854 - INFO - Epoch 7/20, Batch 50/415, Loss: 0.0311\n"
     ]
    },
    {
     "name": "stderr",
     "output_type": "stream",
     "text": [
      "[2025-10-19 08:11:17,603] [INFO] [Worker ID: 325475]: Processing video 15300/2491...\n"
     ]
    },
    {
     "name": "stdout",
     "output_type": "stream",
     "text": [
      "2025-10-19 08:11:27,102 - INFO - Epoch 7/20, Batch 60/415, Loss: 0.0151\n",
      "2025-10-19 08:12:00,815 - INFO - Epoch 7/20, Batch 70/415, Loss: 0.0176\n"
     ]
    },
    {
     "name": "stderr",
     "output_type": "stream",
     "text": [
      "[2025-10-19 08:12:05,843] [INFO] [Worker ID: 325341]: Processing video 15400/2491...\n"
     ]
    },
    {
     "name": "stdout",
     "output_type": "stream",
     "text": [
      "2025-10-19 08:12:30,976 - INFO - Epoch 7/20, Batch 80/415, Loss: 0.0178\n",
      "2025-10-19 08:12:54,088 - INFO - Epoch 7/20, Batch 90/415, Loss: 0.0151\n"
     ]
    },
    {
     "name": "stderr",
     "output_type": "stream",
     "text": [
      "[2025-10-19 08:12:54,714] [INFO] [Worker ID: 325475]: Processing video 15500/2491...\n"
     ]
    },
    {
     "name": "stdout",
     "output_type": "stream",
     "text": [
      "2025-10-19 08:13:28,914 - INFO - Epoch 7/20, Batch 100/415, Loss: 0.0129\n"
     ]
    },
    {
     "name": "stderr",
     "output_type": "stream",
     "text": [
      "[2025-10-19 08:13:45,184] [INFO] [Worker ID: 325341]: Processing video 15600/2491...\n"
     ]
    },
    {
     "name": "stdout",
     "output_type": "stream",
     "text": [
      "2025-10-19 08:14:00,326 - INFO - Epoch 7/20, Batch 110/415, Loss: 0.0015\n",
      "2025-10-19 08:14:21,709 - INFO - Epoch 7/20, Batch 120/415, Loss: 0.0067\n"
     ]
    },
    {
     "name": "stderr",
     "output_type": "stream",
     "text": [
      "[2025-10-19 08:14:28,440] [INFO] [Worker ID: 325269]: Processing video 15700/2491...\n"
     ]
    },
    {
     "name": "stdout",
     "output_type": "stream",
     "text": [
      "2025-10-19 08:15:01,559 - INFO - Epoch 7/20, Batch 130/415, Loss: 0.0053\n"
     ]
    },
    {
     "name": "stderr",
     "output_type": "stream",
     "text": [
      "[2025-10-19 08:15:17,756] [INFO] [Worker ID: 325269]: Processing video 15800/2491...\n"
     ]
    },
    {
     "name": "stdout",
     "output_type": "stream",
     "text": [
      "2025-10-19 08:15:25,436 - INFO - Epoch 7/20, Batch 140/415, Loss: 0.0076\n",
      "2025-10-19 08:16:01,836 - INFO - Epoch 7/20, Batch 150/415, Loss: 0.0032\n"
     ]
    },
    {
     "name": "stderr",
     "output_type": "stream",
     "text": [
      "[2025-10-19 08:16:11,997] [INFO] [Worker ID: 325408]: Processing video 15900/2491...\n"
     ]
    },
    {
     "name": "stdout",
     "output_type": "stream",
     "text": [
      "2025-10-19 08:16:24,523 - INFO - Epoch 7/20, Batch 160/415, Loss: 0.0040\n"
     ]
    },
    {
     "name": "stderr",
     "output_type": "stream",
     "text": [
      "[2025-10-19 08:16:59,279] [INFO] [Worker ID: 325475]: Processing video 16000/2491...\n"
     ]
    },
    {
     "name": "stdout",
     "output_type": "stream",
     "text": [
      "2025-10-19 08:17:01,300 - INFO - Epoch 7/20, Batch 170/415, Loss: 0.0104\n",
      "2025-10-19 08:17:27,244 - INFO - Epoch 7/20, Batch 180/415, Loss: 0.0491\n"
     ]
    },
    {
     "name": "stderr",
     "output_type": "stream",
     "text": [
      "[2025-10-19 08:17:54,254] [INFO] [Worker ID: 325341]: Processing video 16100/2491...\n"
     ]
    },
    {
     "name": "stdout",
     "output_type": "stream",
     "text": [
      "2025-10-19 08:18:04,988 - INFO - Epoch 7/20, Batch 190/415, Loss: 0.0033\n",
      "2025-10-19 08:18:28,746 - INFO - Epoch 7/20, Batch 200/415, Loss: 0.0036\n"
     ]
    },
    {
     "name": "stderr",
     "output_type": "stream",
     "text": [
      "[2025-10-19 08:18:45,486] [INFO] [Worker ID: 325408]: Processing video 16200/2491...\n"
     ]
    },
    {
     "name": "stdout",
     "output_type": "stream",
     "text": [
      "2025-10-19 08:19:01,156 - INFO - Epoch 7/20, Batch 210/415, Loss: 0.0032\n",
      "2025-10-19 08:19:28,083 - INFO - Epoch 7/20, Batch 220/415, Loss: 0.0040\n"
     ]
    },
    {
     "name": "stderr",
     "output_type": "stream",
     "text": [
      "[2025-10-19 08:19:34,637] [INFO] [Worker ID: 325475]: Processing video 16300/2491...\n"
     ]
    },
    {
     "name": "stdout",
     "output_type": "stream",
     "text": [
      "2025-10-19 08:20:01,801 - INFO - Epoch 7/20, Batch 230/415, Loss: 0.0041\n"
     ]
    },
    {
     "name": "stderr",
     "output_type": "stream",
     "text": [
      "[2025-10-19 08:20:26,264] [INFO] [Worker ID: 325475]: Processing video 16400/2491...\n"
     ]
    },
    {
     "name": "stdout",
     "output_type": "stream",
     "text": [
      "2025-10-19 08:20:28,022 - INFO - Epoch 7/20, Batch 240/415, Loss: 0.0032\n",
      "2025-10-19 08:21:07,543 - INFO - Epoch 7/20, Batch 250/415, Loss: 0.0020\n"
     ]
    },
    {
     "name": "stderr",
     "output_type": "stream",
     "text": [
      "[2025-10-19 08:21:17,308] [INFO] [Worker ID: 325408]: Processing video 16500/2491...\n"
     ]
    },
    {
     "name": "stdout",
     "output_type": "stream",
     "text": [
      "2025-10-19 08:21:30,526 - INFO - Epoch 7/20, Batch 260/415, Loss: 0.0121\n",
      "2025-10-19 08:22:04,725 - INFO - Epoch 7/20, Batch 270/415, Loss: 0.0108\n"
     ]
    },
    {
     "name": "stderr",
     "output_type": "stream",
     "text": [
      "[2025-10-19 08:22:04,536] [INFO] [Worker ID: 325408]: Processing video 16600/2491...\n"
     ]
    },
    {
     "name": "stdout",
     "output_type": "stream",
     "text": [
      "2025-10-19 08:22:33,721 - INFO - Epoch 7/20, Batch 280/415, Loss: 0.0177\n"
     ]
    },
    {
     "name": "stderr",
     "output_type": "stream",
     "text": [
      "[2025-10-19 08:22:57,226] [INFO] [Worker ID: 325341]: Processing video 16700/2491...\n"
     ]
    },
    {
     "name": "stdout",
     "output_type": "stream",
     "text": [
      "2025-10-19 08:23:07,043 - INFO - Epoch 7/20, Batch 290/415, Loss: 0.0045\n",
      "2025-10-19 08:23:29,437 - INFO - Epoch 7/20, Batch 300/415, Loss: 0.0058\n"
     ]
    },
    {
     "name": "stderr",
     "output_type": "stream",
     "text": [
      "[2025-10-19 08:23:45,980] [INFO] [Worker ID: 325269]: Processing video 16800/2491...\n"
     ]
    },
    {
     "name": "stdout",
     "output_type": "stream",
     "text": [
      "2025-10-19 08:24:04,691 - INFO - Epoch 7/20, Batch 310/415, Loss: 0.0068\n",
      "2025-10-19 08:24:29,293 - INFO - Epoch 7/20, Batch 320/415, Loss: 0.0037\n"
     ]
    },
    {
     "name": "stderr",
     "output_type": "stream",
     "text": [
      "[2025-10-19 08:24:34,566] [INFO] [Worker ID: 325269]: Processing video 16900/2491...\n"
     ]
    },
    {
     "name": "stdout",
     "output_type": "stream",
     "text": [
      "2025-10-19 08:25:10,518 - INFO - Epoch 7/20, Batch 330/415, Loss: 0.0165\n"
     ]
    },
    {
     "name": "stderr",
     "output_type": "stream",
     "text": [
      "[2025-10-19 08:25:32,161] [INFO] [Worker ID: 325269]: Processing video 17000/2491...\n"
     ]
    },
    {
     "name": "stdout",
     "output_type": "stream",
     "text": [
      "2025-10-19 08:25:33,555 - INFO - Epoch 7/20, Batch 340/415, Loss: 0.0045\n",
      "2025-10-19 08:26:06,251 - INFO - Epoch 7/20, Batch 350/415, Loss: 0.0660\n"
     ]
    },
    {
     "name": "stderr",
     "output_type": "stream",
     "text": [
      "[2025-10-19 08:26:20,572] [INFO] [Worker ID: 325269]: Processing video 17100/2491...\n"
     ]
    },
    {
     "name": "stdout",
     "output_type": "stream",
     "text": [
      "2025-10-19 08:26:30,765 - INFO - Epoch 7/20, Batch 360/415, Loss: 0.0050\n",
      "2025-10-19 08:27:08,219 - INFO - Epoch 7/20, Batch 370/415, Loss: 0.0137\n"
     ]
    },
    {
     "name": "stderr",
     "output_type": "stream",
     "text": [
      "[2025-10-19 08:27:11,500] [INFO] [Worker ID: 325475]: Processing video 17200/2491...\n"
     ]
    },
    {
     "name": "stdout",
     "output_type": "stream",
     "text": [
      "2025-10-19 08:27:34,103 - INFO - Epoch 7/20, Batch 380/415, Loss: 0.0087\n"
     ]
    },
    {
     "name": "stderr",
     "output_type": "stream",
     "text": [
      "[2025-10-19 08:28:02,962] [INFO] [Worker ID: 325475]: Processing video 17300/2491...\n"
     ]
    },
    {
     "name": "stdout",
     "output_type": "stream",
     "text": [
      "2025-10-19 08:28:13,274 - INFO - Epoch 7/20, Batch 390/415, Loss: 0.0163\n",
      "2025-10-19 08:28:37,648 - INFO - Epoch 7/20, Batch 400/415, Loss: 0.0413\n"
     ]
    },
    {
     "name": "stderr",
     "output_type": "stream",
     "text": [
      "[2025-10-19 08:28:50,763] [INFO] [Worker ID: 325269]: Processing video 17400/2491...\n"
     ]
    },
    {
     "name": "stdout",
     "output_type": "stream",
     "text": [
      "2025-10-19 08:29:03,247 - INFO - Epoch 7/20, Batch 410/415, Loss: 0.0038\n"
     ]
    },
    {
     "name": "stderr",
     "output_type": "stream",
     "text": [
      "/tmp/ipykernel_14521/1826921583.py:181: FutureWarning: `torch.cuda.amp.autocast(args...)` is deprecated. Please use `torch.amp.autocast('cuda', args...)` instead.\n",
      "  with torch.no_grad(), autocast():\n",
      "[2025-10-19 08:29:56,105] [INFO] [Worker ID: 366407]: Processing video 3800/623...\n",
      "[2025-10-19 08:30:42,350] [INFO] [Worker ID: 366407]: Processing video 3900/623...\n",
      "[2025-10-19 08:31:31,055] [INFO] [Worker ID: 366408]: Processing video 4000/623...\n",
      "[2025-10-19 08:32:17,611] [INFO] [Worker ID: 366408]: Processing video 4100/623...\n",
      "[2025-10-19 08:33:04,981] [INFO] [Worker ID: 366409]: Processing video 4200/623...\n",
      "[2025-10-19 08:33:55,104] [INFO] [Worker ID: 366410]: Processing video 4300/623...\n"
     ]
    },
    {
     "name": "stdout",
     "output_type": "stream",
     "text": [
      "2025-10-19 08:34:09,613 - INFO - Epoch 7: Train Acc: 0.8623, Val Acc: 0.9165, AUC: 0.9277\n",
      "2025-10-19 08:34:29,161 - INFO - Epoch 8/20, Batch 0/415, Loss: 0.0167\n"
     ]
    },
    {
     "name": "stderr",
     "output_type": "stream",
     "text": [
      "[2025-10-19 08:34:51,562] [INFO] [Worker ID: 377119]: Processing video 17500/2491...\n"
     ]
    },
    {
     "name": "stdout",
     "output_type": "stream",
     "text": [
      "2025-10-19 08:34:53,535 - INFO - Epoch 8/20, Batch 10/415, Loss: 0.0089\n",
      "2025-10-19 08:35:29,590 - INFO - Epoch 8/20, Batch 20/415, Loss: 0.0038\n"
     ]
    },
    {
     "name": "stderr",
     "output_type": "stream",
     "text": [
      "[2025-10-19 08:35:41,181] [INFO] [Worker ID: 377186]: Processing video 17600/2491...\n"
     ]
    },
    {
     "name": "stdout",
     "output_type": "stream",
     "text": [
      "2025-10-19 08:35:59,950 - INFO - Epoch 8/20, Batch 30/415, Loss: 0.0376\n",
      "2025-10-19 08:36:25,327 - INFO - Epoch 8/20, Batch 40/415, Loss: 0.0253\n"
     ]
    },
    {
     "name": "stderr",
     "output_type": "stream",
     "text": [
      "[2025-10-19 08:36:29,143] [INFO] [Worker ID: 376980]: Processing video 17700/2491...\n"
     ]
    },
    {
     "name": "stdout",
     "output_type": "stream",
     "text": [
      "2025-10-19 08:36:57,116 - INFO - Epoch 8/20, Batch 50/415, Loss: 0.0062\n"
     ]
    },
    {
     "name": "stderr",
     "output_type": "stream",
     "text": [
      "[2025-10-19 08:37:21,152] [INFO] [Worker ID: 377119]: Processing video 17800/2491...\n"
     ]
    },
    {
     "name": "stdout",
     "output_type": "stream",
     "text": [
      "2025-10-19 08:37:31,518 - INFO - Epoch 8/20, Batch 60/415, Loss: 0.0050\n",
      "2025-10-19 08:37:52,660 - INFO - Epoch 8/20, Batch 70/415, Loss: 0.0045\n"
     ]
    },
    {
     "name": "stderr",
     "output_type": "stream",
     "text": [
      "[2025-10-19 08:38:08,049] [INFO] [Worker ID: 377045]: Processing video 17900/2491...\n"
     ]
    },
    {
     "name": "stdout",
     "output_type": "stream",
     "text": [
      "2025-10-19 08:38:21,241 - INFO - Epoch 8/20, Batch 80/415, Loss: 0.0031\n",
      "2025-10-19 08:38:47,478 - INFO - Epoch 8/20, Batch 90/415, Loss: 0.0034\n"
     ]
    },
    {
     "name": "stderr",
     "output_type": "stream",
     "text": [
      "[2025-10-19 08:38:53,561] [INFO] [Worker ID: 377119]: Processing video 18000/2491...\n"
     ]
    },
    {
     "name": "stdout",
     "output_type": "stream",
     "text": [
      "2025-10-19 08:39:25,098 - INFO - Epoch 8/20, Batch 100/415, Loss: 0.0060\n"
     ]
    },
    {
     "name": "stderr",
     "output_type": "stream",
     "text": [
      "[2025-10-19 08:39:44,144] [INFO] [Worker ID: 377045]: Processing video 18100/2491...\n"
     ]
    },
    {
     "name": "stdout",
     "output_type": "stream",
     "text": [
      "2025-10-19 08:39:50,750 - INFO - Epoch 8/20, Batch 110/415, Loss: 0.0225\n",
      "2025-10-19 08:40:21,756 - INFO - Epoch 8/20, Batch 120/415, Loss: 0.0027\n"
     ]
    },
    {
     "name": "stderr",
     "output_type": "stream",
     "text": [
      "[2025-10-19 08:40:33,273] [INFO] [Worker ID: 377119]: Processing video 18200/2491...\n"
     ]
    },
    {
     "name": "stdout",
     "output_type": "stream",
     "text": [
      "2025-10-19 08:40:48,339 - INFO - Epoch 8/20, Batch 130/415, Loss: 0.0048\n",
      "2025-10-19 08:41:13,631 - INFO - Epoch 8/20, Batch 140/415, Loss: 0.0063\n"
     ]
    },
    {
     "name": "stderr",
     "output_type": "stream",
     "text": [
      "[2025-10-19 08:41:19,759] [INFO] [Worker ID: 376980]: Processing video 18300/2491...\n"
     ]
    },
    {
     "name": "stdout",
     "output_type": "stream",
     "text": [
      "2025-10-19 08:41:53,993 - INFO - Epoch 8/20, Batch 150/415, Loss: 0.0611\n"
     ]
    },
    {
     "name": "stderr",
     "output_type": "stream",
     "text": [
      "[2025-10-19 08:42:13,089] [INFO] [Worker ID: 377186]: Processing video 18400/2491...\n"
     ]
    },
    {
     "name": "stdout",
     "output_type": "stream",
     "text": [
      "2025-10-19 08:42:20,867 - INFO - Epoch 8/20, Batch 160/415, Loss: 0.0042\n",
      "2025-10-19 08:42:53,231 - INFO - Epoch 8/20, Batch 170/415, Loss: 0.0016\n"
     ]
    },
    {
     "name": "stderr",
     "output_type": "stream",
     "text": [
      "[2025-10-19 08:43:04,356] [INFO] [Worker ID: 376980]: Processing video 18500/2491...\n"
     ]
    },
    {
     "name": "stdout",
     "output_type": "stream",
     "text": [
      "2025-10-19 08:43:19,176 - INFO - Epoch 8/20, Batch 180/415, Loss: 0.0093\n"
     ]
    },
    {
     "name": "stderr",
     "output_type": "stream",
     "text": [
      "[2025-10-19 08:43:50,208] [INFO] [Worker ID: 377045]: Processing video 18600/2491...\n"
     ]
    },
    {
     "name": "stdout",
     "output_type": "stream",
     "text": [
      "2025-10-19 08:43:50,533 - INFO - Epoch 8/20, Batch 190/415, Loss: 0.0124\n",
      "2025-10-19 08:44:15,269 - INFO - Epoch 8/20, Batch 200/415, Loss: 0.0100\n"
     ]
    },
    {
     "name": "stderr",
     "output_type": "stream",
     "text": [
      "[2025-10-19 08:44:38,623] [INFO] [Worker ID: 377119]: Processing video 18700/2491...\n"
     ]
    },
    {
     "name": "stdout",
     "output_type": "stream",
     "text": [
      "2025-10-19 08:44:48,758 - INFO - Epoch 8/20, Batch 210/415, Loss: 0.0054\n",
      "2025-10-19 08:45:15,599 - INFO - Epoch 8/20, Batch 220/415, Loss: 0.0159\n"
     ]
    },
    {
     "name": "stderr",
     "output_type": "stream",
     "text": [
      "[2025-10-19 08:45:32,861] [INFO] [Worker ID: 377186]: Processing video 18800/2491...\n"
     ]
    },
    {
     "name": "stdout",
     "output_type": "stream",
     "text": [
      "2025-10-19 08:45:49,587 - INFO - Epoch 8/20, Batch 230/415, Loss: 0.0108\n",
      "2025-10-19 08:46:15,573 - INFO - Epoch 8/20, Batch 240/415, Loss: 0.0026\n"
     ]
    },
    {
     "name": "stderr",
     "output_type": "stream",
     "text": [
      "[2025-10-19 08:46:19,707] [INFO] [Worker ID: 376980]: Processing video 18900/2491...\n"
     ]
    },
    {
     "name": "stdout",
     "output_type": "stream",
     "text": [
      "2025-10-19 08:46:53,959 - INFO - Epoch 8/20, Batch 250/415, Loss: 0.0054\n"
     ]
    },
    {
     "name": "stderr",
     "output_type": "stream",
     "text": [
      "[2025-10-19 08:47:12,460] [INFO] [Worker ID: 377186]: Processing video 19000/2491...\n"
     ]
    },
    {
     "name": "stdout",
     "output_type": "stream",
     "text": [
      "2025-10-19 08:47:15,916 - INFO - Epoch 8/20, Batch 260/415, Loss: 0.0761\n",
      "2025-10-19 08:47:54,470 - INFO - Epoch 8/20, Batch 270/415, Loss: 0.0044\n"
     ]
    },
    {
     "name": "stderr",
     "output_type": "stream",
     "text": [
      "[2025-10-19 08:48:06,045] [INFO] [Worker ID: 377119]: Processing video 19100/2491...\n"
     ]
    },
    {
     "name": "stdout",
     "output_type": "stream",
     "text": [
      "2025-10-19 08:48:19,445 - INFO - Epoch 8/20, Batch 280/415, Loss: 0.0045\n"
     ]
    },
    {
     "name": "stderr",
     "output_type": "stream",
     "text": [
      "[2025-10-19 08:48:53,254] [INFO] [Worker ID: 377045]: Processing video 19200/2491...\n"
     ]
    },
    {
     "name": "stdout",
     "output_type": "stream",
     "text": [
      "2025-10-19 08:48:59,049 - INFO - Epoch 8/20, Batch 290/415, Loss: 0.0260\n",
      "2025-10-19 08:49:19,261 - INFO - Epoch 8/20, Batch 300/415, Loss: 0.0024\n"
     ]
    },
    {
     "name": "stderr",
     "output_type": "stream",
     "text": [
      "[2025-10-19 08:49:42,168] [INFO] [Worker ID: 377186]: Processing video 19300/2491...\n"
     ]
    },
    {
     "name": "stdout",
     "output_type": "stream",
     "text": [
      "2025-10-19 08:49:58,894 - INFO - Epoch 8/20, Batch 310/415, Loss: 0.0629\n",
      "2025-10-19 08:50:21,843 - INFO - Epoch 8/20, Batch 320/415, Loss: 0.0225\n"
     ]
    },
    {
     "name": "stderr",
     "output_type": "stream",
     "text": [
      "[2025-10-19 08:50:31,452] [INFO] [Worker ID: 376980]: Processing video 19400/2491...\n"
     ]
    },
    {
     "name": "stdout",
     "output_type": "stream",
     "text": [
      "2025-10-19 08:50:59,839 - INFO - Epoch 8/20, Batch 330/415, Loss: 0.0022\n",
      "2025-10-19 08:51:20,552 - INFO - Epoch 8/20, Batch 340/415, Loss: 0.0035\n"
     ]
    },
    {
     "name": "stderr",
     "output_type": "stream",
     "text": [
      "[2025-10-19 08:51:20,421] [INFO] [Worker ID: 376980]: Processing video 19500/2491...\n"
     ]
    },
    {
     "name": "stdout",
     "output_type": "stream",
     "text": [
      "2025-10-19 08:51:54,565 - INFO - Epoch 8/20, Batch 350/415, Loss: 0.0104\n"
     ]
    },
    {
     "name": "stderr",
     "output_type": "stream",
     "text": [
      "[2025-10-19 08:52:08,775] [INFO] [Worker ID: 377045]: Processing video 19600/2491...\n"
     ]
    },
    {
     "name": "stdout",
     "output_type": "stream",
     "text": [
      "2025-10-19 08:52:13,991 - INFO - Epoch 8/20, Batch 360/415, Loss: 0.0071\n",
      "2025-10-19 08:52:50,453 - INFO - Epoch 8/20, Batch 370/415, Loss: 0.0062\n"
     ]
    },
    {
     "name": "stderr",
     "output_type": "stream",
     "text": [
      "[2025-10-19 08:52:55,489] [INFO] [Worker ID: 377186]: Processing video 19700/2491...\n"
     ]
    },
    {
     "name": "stdout",
     "output_type": "stream",
     "text": [
      "2025-10-19 08:53:16,584 - INFO - Epoch 8/20, Batch 380/415, Loss: 0.0044\n"
     ]
    },
    {
     "name": "stderr",
     "output_type": "stream",
     "text": [
      "[2025-10-19 08:53:42,739] [INFO] [Worker ID: 377186]: Processing video 19800/2491...\n"
     ]
    },
    {
     "name": "stdout",
     "output_type": "stream",
     "text": [
      "2025-10-19 08:53:49,714 - INFO - Epoch 8/20, Batch 390/415, Loss: 0.0035\n",
      "2025-10-19 08:54:12,896 - INFO - Epoch 8/20, Batch 400/415, Loss: 0.0012\n"
     ]
    },
    {
     "name": "stderr",
     "output_type": "stream",
     "text": [
      "[2025-10-19 08:54:30,748] [INFO] [Worker ID: 377119]: Processing video 19900/2491...\n"
     ]
    },
    {
     "name": "stdout",
     "output_type": "stream",
     "text": [
      "2025-10-19 08:54:39,560 - INFO - Epoch 8/20, Batch 410/415, Loss: 0.0184\n"
     ]
    },
    {
     "name": "stderr",
     "output_type": "stream",
     "text": [
      "/tmp/ipykernel_14521/1826921583.py:181: FutureWarning: `torch.cuda.amp.autocast(args...)` is deprecated. Please use `torch.amp.autocast('cuda', args...)` instead.\n",
      "  with torch.no_grad(), autocast():\n",
      "[2025-10-19 08:55:23,172] [INFO] [Worker ID: 418106]: Processing video 4400/623...\n",
      "[2025-10-19 08:56:11,354] [INFO] [Worker ID: 418107]: Processing video 4500/623...\n",
      "[2025-10-19 08:56:58,495] [INFO] [Worker ID: 418104]: Processing video 4600/623...\n",
      "[2025-10-19 08:57:45,331] [INFO] [Worker ID: 418106]: Processing video 4700/623...\n",
      "[2025-10-19 08:58:32,208] [INFO] [Worker ID: 418106]: Processing video 4800/623...\n",
      "[2025-10-19 08:59:21,097] [INFO] [Worker ID: 418105]: Processing video 4900/623...\n"
     ]
    },
    {
     "name": "stdout",
     "output_type": "stream",
     "text": [
      "2025-10-19 08:59:45,208 - INFO - Epoch 8: Train Acc: 0.8743, Val Acc: 0.9101, AUC: 0.9380\n",
      "2025-10-19 09:00:06,358 - INFO - Epoch 9/20, Batch 0/415, Loss: 0.0199\n",
      "2025-10-19 09:00:29,823 - INFO - Epoch 9/20, Batch 10/415, Loss: 0.0026\n"
     ]
    },
    {
     "name": "stderr",
     "output_type": "stream",
     "text": [
      "[2025-10-19 09:00:31,155] [INFO] [Worker ID: 428660]: Processing video 20000/2491...\n"
     ]
    },
    {
     "name": "stdout",
     "output_type": "stream",
     "text": [
      "2025-10-19 09:01:00,165 - INFO - Epoch 9/20, Batch 20/415, Loss: 0.0078\n"
     ]
    },
    {
     "name": "stderr",
     "output_type": "stream",
     "text": [
      "[2025-10-19 09:01:20,620] [INFO] [Worker ID: 428730]: Processing video 20100/2491...\n"
     ]
    },
    {
     "name": "stdout",
     "output_type": "stream",
     "text": [
      "2025-10-19 09:01:31,382 - INFO - Epoch 9/20, Batch 30/415, Loss: 0.0124\n",
      "2025-10-19 09:01:56,277 - INFO - Epoch 9/20, Batch 40/415, Loss: 0.0369\n"
     ]
    },
    {
     "name": "stderr",
     "output_type": "stream",
     "text": [
      "[2025-10-19 09:02:07,680] [INFO] [Worker ID: 428864]: Processing video 20200/2491...\n"
     ]
    },
    {
     "name": "stdout",
     "output_type": "stream",
     "text": [
      "2025-10-19 09:02:32,294 - INFO - Epoch 9/20, Batch 50/415, Loss: 0.0022\n"
     ]
    },
    {
     "name": "stderr",
     "output_type": "stream",
     "text": [
      "[2025-10-19 09:02:59,690] [INFO] [Worker ID: 428797]: Processing video 20300/2491...\n"
     ]
    },
    {
     "name": "stdout",
     "output_type": "stream",
     "text": [
      "2025-10-19 09:03:05,906 - INFO - Epoch 9/20, Batch 60/415, Loss: 0.0074\n",
      "2025-10-19 09:03:34,965 - INFO - Epoch 9/20, Batch 70/415, Loss: 0.0160\n"
     ]
    },
    {
     "name": "stderr",
     "output_type": "stream",
     "text": [
      "[2025-10-19 09:03:51,639] [INFO] [Worker ID: 428864]: Processing video 20400/2491...\n"
     ]
    },
    {
     "name": "stdout",
     "output_type": "stream",
     "text": [
      "2025-10-19 09:04:01,180 - INFO - Epoch 9/20, Batch 80/415, Loss: 0.0113\n",
      "2025-10-19 09:04:35,869 - INFO - Epoch 9/20, Batch 90/415, Loss: 0.0263\n"
     ]
    },
    {
     "name": "stderr",
     "output_type": "stream",
     "text": [
      "[2025-10-19 09:04:40,368] [INFO] [Worker ID: 428797]: Processing video 20500/2491...\n"
     ]
    },
    {
     "name": "stdout",
     "output_type": "stream",
     "text": [
      "2025-10-19 09:05:00,661 - INFO - Epoch 9/20, Batch 100/415, Loss: 0.0107\n"
     ]
    },
    {
     "name": "stderr",
     "output_type": "stream",
     "text": [
      "[2025-10-19 09:05:32,149] [INFO] [Worker ID: 428864]: Processing video 20600/2491...\n"
     ]
    },
    {
     "name": "stdout",
     "output_type": "stream",
     "text": [
      "2025-10-19 09:05:37,293 - INFO - Epoch 9/20, Batch 110/415, Loss: 0.0168\n",
      "2025-10-19 09:06:03,991 - INFO - Epoch 9/20, Batch 120/415, Loss: 0.0052\n"
     ]
    },
    {
     "name": "stderr",
     "output_type": "stream",
     "text": [
      "[2025-10-19 09:06:23,237] [INFO] [Worker ID: 428730]: Processing video 20700/2491...\n"
     ]
    },
    {
     "name": "stdout",
     "output_type": "stream",
     "text": [
      "2025-10-19 09:06:38,560 - INFO - Epoch 9/20, Batch 130/415, Loss: 0.0050\n",
      "2025-10-19 09:07:02,593 - INFO - Epoch 9/20, Batch 140/415, Loss: 0.0223\n"
     ]
    },
    {
     "name": "stderr",
     "output_type": "stream",
     "text": [
      "[2025-10-19 09:07:11,654] [INFO] [Worker ID: 428797]: Processing video 20800/2491...\n"
     ]
    },
    {
     "name": "stdout",
     "output_type": "stream",
     "text": [
      "2025-10-19 09:07:36,981 - INFO - Epoch 9/20, Batch 150/415, Loss: 0.0269\n",
      "2025-10-19 09:07:59,378 - INFO - Epoch 9/20, Batch 160/415, Loss: 0.0009\n"
     ]
    },
    {
     "name": "stderr",
     "output_type": "stream",
     "text": [
      "[2025-10-19 09:08:00,767] [INFO] [Worker ID: 428730]: Processing video 20900/2491...\n"
     ]
    },
    {
     "name": "stdout",
     "output_type": "stream",
     "text": [
      "2025-10-19 09:08:35,464 - INFO - Epoch 9/20, Batch 170/415, Loss: 0.0013\n"
     ]
    },
    {
     "name": "stderr",
     "output_type": "stream",
     "text": [
      "[2025-10-19 09:08:49,994] [INFO] [Worker ID: 428864]: Processing video 21000/2491...\n"
     ]
    },
    {
     "name": "stdout",
     "output_type": "stream",
     "text": [
      "2025-10-19 09:09:03,143 - INFO - Epoch 9/20, Batch 180/415, Loss: 0.0023\n",
      "2025-10-19 09:09:38,852 - INFO - Epoch 9/20, Batch 190/415, Loss: 0.0097\n"
     ]
    },
    {
     "name": "stderr",
     "output_type": "stream",
     "text": [
      "[2025-10-19 09:09:39,307] [INFO] [Worker ID: 428864]: Processing video 21100/2491...\n"
     ]
    },
    {
     "name": "stdout",
     "output_type": "stream",
     "text": [
      "2025-10-19 09:10:02,223 - INFO - Epoch 9/20, Batch 200/415, Loss: 0.0058\n"
     ]
    },
    {
     "name": "stderr",
     "output_type": "stream",
     "text": [
      "[2025-10-19 09:10:29,816] [INFO] [Worker ID: 428660]: Processing video 21200/2491...\n"
     ]
    },
    {
     "name": "stdout",
     "output_type": "stream",
     "text": [
      "2025-10-19 09:10:34,641 - INFO - Epoch 9/20, Batch 210/415, Loss: 0.0047\n",
      "2025-10-19 09:11:01,473 - INFO - Epoch 9/20, Batch 220/415, Loss: 0.0140\n"
     ]
    },
    {
     "name": "stderr",
     "output_type": "stream",
     "text": [
      "[2025-10-19 09:11:15,657] [INFO] [Worker ID: 428730]: Processing video 21300/2491...\n"
     ]
    },
    {
     "name": "stdout",
     "output_type": "stream",
     "text": [
      "2025-10-19 09:11:35,628 - INFO - Epoch 9/20, Batch 230/415, Loss: 0.0148\n",
      "2025-10-19 09:11:55,499 - INFO - Epoch 9/20, Batch 240/415, Loss: 0.0125\n"
     ]
    },
    {
     "name": "stderr",
     "output_type": "stream",
     "text": [
      "[2025-10-19 09:12:03,336] [INFO] [Worker ID: 428864]: Processing video 21400/2491...\n"
     ]
    },
    {
     "name": "stdout",
     "output_type": "stream",
     "text": [
      "2025-10-19 09:12:37,234 - INFO - Epoch 9/20, Batch 250/415, Loss: 0.0023\n"
     ]
    },
    {
     "name": "stderr",
     "output_type": "stream",
     "text": [
      "[2025-10-19 09:12:54,938] [INFO] [Worker ID: 428660]: Processing video 21500/2491...\n"
     ]
    },
    {
     "name": "stdout",
     "output_type": "stream",
     "text": [
      "2025-10-19 09:12:59,555 - INFO - Epoch 9/20, Batch 260/415, Loss: 0.0020\n",
      "2025-10-19 09:13:32,718 - INFO - Epoch 9/20, Batch 270/415, Loss: 0.0025\n"
     ]
    },
    {
     "name": "stderr",
     "output_type": "stream",
     "text": [
      "[2025-10-19 09:13:44,691] [INFO] [Worker ID: 428797]: Processing video 21600/2491...\n"
     ]
    },
    {
     "name": "stdout",
     "output_type": "stream",
     "text": [
      "2025-10-19 09:13:54,309 - INFO - Epoch 9/20, Batch 280/415, Loss: 0.0047\n",
      "2025-10-19 09:14:28,465 - INFO - Epoch 9/20, Batch 290/415, Loss: 0.1107\n"
     ]
    },
    {
     "name": "stderr",
     "output_type": "stream",
     "text": [
      "[2025-10-19 09:14:30,185] [INFO] [Worker ID: 428797]: Processing video 21700/2491...\n"
     ]
    },
    {
     "name": "stdout",
     "output_type": "stream",
     "text": [
      "2025-10-19 09:14:51,866 - INFO - Epoch 9/20, Batch 300/415, Loss: 0.0026\n"
     ]
    },
    {
     "name": "stderr",
     "output_type": "stream",
     "text": [
      "[2025-10-19 09:15:20,092] [INFO] [Worker ID: 428660]: Processing video 21800/2491...\n"
     ]
    },
    {
     "name": "stdout",
     "output_type": "stream",
     "text": [
      "2025-10-19 09:15:27,187 - INFO - Epoch 9/20, Batch 310/415, Loss: 0.0271\n",
      "2025-10-19 09:15:54,287 - INFO - Epoch 9/20, Batch 320/415, Loss: 0.0054\n"
     ]
    },
    {
     "name": "stderr",
     "output_type": "stream",
     "text": [
      "[2025-10-19 09:16:09,214] [INFO] [Worker ID: 428660]: Processing video 21900/2491...\n"
     ]
    },
    {
     "name": "stdout",
     "output_type": "stream",
     "text": [
      "2025-10-19 09:16:27,322 - INFO - Epoch 9/20, Batch 330/415, Loss: 0.0032\n",
      "2025-10-19 09:16:47,309 - INFO - Epoch 9/20, Batch 340/415, Loss: 0.0027\n"
     ]
    },
    {
     "name": "stderr",
     "output_type": "stream",
     "text": [
      "[2025-10-19 09:16:56,232] [INFO] [Worker ID: 428730]: Processing video 22000/2491...\n"
     ]
    },
    {
     "name": "stdout",
     "output_type": "stream",
     "text": [
      "2025-10-19 09:17:19,272 - INFO - Epoch 9/20, Batch 350/415, Loss: 0.0744\n",
      "2025-10-19 09:17:41,934 - INFO - Epoch 9/20, Batch 360/415, Loss: 0.0954\n"
     ]
    },
    {
     "name": "stderr",
     "output_type": "stream",
     "text": [
      "[2025-10-19 09:17:42,064] [INFO] [Worker ID: 428864]: Processing video 22100/2491...\n"
     ]
    },
    {
     "name": "stdout",
     "output_type": "stream",
     "text": [
      "2025-10-19 09:18:18,258 - INFO - Epoch 9/20, Batch 370/415, Loss: 0.0006\n"
     ]
    },
    {
     "name": "stderr",
     "output_type": "stream",
     "text": [
      "[2025-10-19 09:18:33,638] [INFO] [Worker ID: 428864]: Processing video 22200/2491...\n"
     ]
    },
    {
     "name": "stdout",
     "output_type": "stream",
     "text": [
      "2025-10-19 09:18:40,419 - INFO - Epoch 9/20, Batch 380/415, Loss: 0.0028\n",
      "2025-10-19 09:19:21,192 - INFO - Epoch 9/20, Batch 390/415, Loss: 0.0165\n"
     ]
    },
    {
     "name": "stderr",
     "output_type": "stream",
     "text": [
      "[2025-10-19 09:19:24,024] [INFO] [Worker ID: 428660]: Processing video 22300/2491...\n"
     ]
    },
    {
     "name": "stdout",
     "output_type": "stream",
     "text": [
      "2025-10-19 09:19:43,729 - INFO - Epoch 9/20, Batch 400/415, Loss: 0.0064\n"
     ]
    },
    {
     "name": "stderr",
     "output_type": "stream",
     "text": [
      "[2025-10-19 09:20:15,341] [INFO] [Worker ID: 428730]: Processing video 22400/2491...\n"
     ]
    },
    {
     "name": "stdout",
     "output_type": "stream",
     "text": [
      "2025-10-19 09:20:17,476 - INFO - Epoch 9/20, Batch 410/415, Loss: 0.0038\n"
     ]
    },
    {
     "name": "stderr",
     "output_type": "stream",
     "text": [
      "/tmp/ipykernel_14521/1826921583.py:181: FutureWarning: `torch.cuda.amp.autocast(args...)` is deprecated. Please use `torch.amp.autocast('cuda', args...)` instead.\n",
      "  with torch.no_grad(), autocast():\n",
      "[2025-10-19 09:20:52,966] [INFO] [Worker ID: 469827]: Processing video 5000/623...\n",
      "[2025-10-19 09:21:39,774] [INFO] [Worker ID: 469824]: Processing video 5100/623...\n",
      "[2025-10-19 09:22:28,608] [INFO] [Worker ID: 469826]: Processing video 5200/623...\n",
      "[2025-10-19 09:23:15,620] [INFO] [Worker ID: 469825]: Processing video 5300/623...\n",
      "[2025-10-19 09:24:02,951] [INFO] [Worker ID: 469827]: Processing video 5400/623...\n",
      "[2025-10-19 09:24:50,304] [INFO] [Worker ID: 469827]: Processing video 5500/623...\n"
     ]
    },
    {
     "name": "stdout",
     "output_type": "stream",
     "text": [
      "2025-10-19 09:25:24,934 - INFO - Epoch 9: Train Acc: 0.8747, Val Acc: 0.9197, AUC: 0.9375\n",
      "2025-10-19 09:25:45,215 - INFO - Epoch 10/20, Batch 0/415, Loss: 0.0034\n",
      "2025-10-19 09:26:14,497 - INFO - Epoch 10/20, Batch 10/415, Loss: 0.0027\n"
     ]
    },
    {
     "name": "stderr",
     "output_type": "stream",
     "text": [
      "[2025-10-19 09:26:18,199] [INFO] [Worker ID: 480362]: Processing video 22500/2491...\n"
     ]
    },
    {
     "name": "stdout",
     "output_type": "stream",
     "text": [
      "2025-10-19 09:26:56,445 - INFO - Epoch 10/20, Batch 20/415, Loss: 0.0018\n"
     ]
    },
    {
     "name": "stderr",
     "output_type": "stream",
     "text": [
      "[2025-10-19 09:27:12,125] [INFO] [Worker ID: 480362]: Processing video 22600/2491...\n"
     ]
    },
    {
     "name": "stdout",
     "output_type": "stream",
     "text": [
      "2025-10-19 09:27:25,475 - INFO - Epoch 10/20, Batch 30/415, Loss: 0.1101\n",
      "2025-10-19 09:28:02,375 - INFO - Epoch 10/20, Batch 40/415, Loss: 0.0035\n"
     ]
    },
    {
     "name": "stderr",
     "output_type": "stream",
     "text": [
      "[2025-10-19 09:28:05,246] [INFO] [Worker ID: 480432]: Processing video 22700/2491...\n"
     ]
    },
    {
     "name": "stdout",
     "output_type": "stream",
     "text": [
      "2025-10-19 09:28:28,550 - INFO - Epoch 10/20, Batch 50/415, Loss: 0.0021\n"
     ]
    },
    {
     "name": "stderr",
     "output_type": "stream",
     "text": [
      "[2025-10-19 09:28:57,677] [INFO] [Worker ID: 480362]: Processing video 22800/2491...\n"
     ]
    },
    {
     "name": "stdout",
     "output_type": "stream",
     "text": [
      "2025-10-19 09:29:01,827 - INFO - Epoch 10/20, Batch 60/415, Loss: 0.0407\n",
      "2025-10-19 09:29:27,519 - INFO - Epoch 10/20, Batch 70/415, Loss: 0.0023\n"
     ]
    },
    {
     "name": "stderr",
     "output_type": "stream",
     "text": [
      "[2025-10-19 09:29:49,074] [INFO] [Worker ID: 480566]: Processing video 22900/2491...\n"
     ]
    },
    {
     "name": "stdout",
     "output_type": "stream",
     "text": [
      "2025-10-19 09:30:03,321 - INFO - Epoch 10/20, Batch 80/415, Loss: 0.0058\n",
      "2025-10-19 09:30:28,204 - INFO - Epoch 10/20, Batch 90/415, Loss: 0.0031\n"
     ]
    },
    {
     "name": "stderr",
     "output_type": "stream",
     "text": [
      "[2025-10-19 09:30:40,210] [INFO] [Worker ID: 480566]: Processing video 23000/2491...\n"
     ]
    },
    {
     "name": "stdout",
     "output_type": "stream",
     "text": [
      "2025-10-19 09:30:59,844 - INFO - Epoch 10/20, Batch 100/415, Loss: 0.0052\n"
     ]
    },
    {
     "name": "stderr",
     "output_type": "stream",
     "text": [
      "[2025-10-19 09:31:27,691] [INFO] [Worker ID: 480362]: Processing video 23100/2491...\n"
     ]
    },
    {
     "name": "stdout",
     "output_type": "stream",
     "text": [
      "2025-10-19 09:31:30,088 - INFO - Epoch 10/20, Batch 110/415, Loss: 0.0009\n",
      "2025-10-19 09:31:56,538 - INFO - Epoch 10/20, Batch 120/415, Loss: 0.0055\n"
     ]
    },
    {
     "name": "stderr",
     "output_type": "stream",
     "text": [
      "[2025-10-19 09:32:14,981] [INFO] [Worker ID: 480362]: Processing video 23200/2491...\n"
     ]
    },
    {
     "name": "stdout",
     "output_type": "stream",
     "text": [
      "2025-10-19 09:32:21,859 - INFO - Epoch 10/20, Batch 130/415, Loss: 0.0217\n",
      "2025-10-19 09:32:56,971 - INFO - Epoch 10/20, Batch 140/415, Loss: 0.0043\n"
     ]
    },
    {
     "name": "stderr",
     "output_type": "stream",
     "text": [
      "[2025-10-19 09:33:02,570] [INFO] [Worker ID: 480362]: Processing video 23300/2491...\n"
     ]
    },
    {
     "name": "stdout",
     "output_type": "stream",
     "text": [
      "2025-10-19 09:33:21,337 - INFO - Epoch 10/20, Batch 150/415, Loss: 0.0014\n"
     ]
    },
    {
     "name": "stderr",
     "output_type": "stream",
     "text": [
      "[2025-10-19 09:33:56,191] [INFO] [Worker ID: 480566]: Processing video 23400/2491...\n"
     ]
    },
    {
     "name": "stdout",
     "output_type": "stream",
     "text": [
      "2025-10-19 09:33:59,582 - INFO - Epoch 10/20, Batch 160/415, Loss: 0.0015\n",
      "2025-10-19 09:34:22,755 - INFO - Epoch 10/20, Batch 170/415, Loss: 0.0029\n"
     ]
    },
    {
     "name": "stderr",
     "output_type": "stream",
     "text": [
      "[2025-10-19 09:34:45,296] [INFO] [Worker ID: 480362]: Processing video 23500/2491...\n"
     ]
    },
    {
     "name": "stdout",
     "output_type": "stream",
     "text": [
      "2025-10-19 09:34:56,491 - INFO - Epoch 10/20, Batch 180/415, Loss: 0.0178\n",
      "2025-10-19 09:35:24,199 - INFO - Epoch 10/20, Batch 190/415, Loss: 0.0008\n"
     ]
    },
    {
     "name": "stderr",
     "output_type": "stream",
     "text": [
      "[2025-10-19 09:35:33,959] [INFO] [Worker ID: 480362]: Processing video 23600/2491...\n"
     ]
    },
    {
     "name": "stdout",
     "output_type": "stream",
     "text": [
      "2025-10-19 09:36:01,086 - INFO - Epoch 10/20, Batch 200/415, Loss: 0.0014\n",
      "2025-10-19 09:36:26,649 - INFO - Epoch 10/20, Batch 210/415, Loss: 0.0048\n"
     ]
    },
    {
     "name": "stderr",
     "output_type": "stream",
     "text": [
      "[2025-10-19 09:36:27,843] [INFO] [Worker ID: 480566]: Processing video 23700/2491...\n"
     ]
    },
    {
     "name": "stdout",
     "output_type": "stream",
     "text": [
      "2025-10-19 09:37:01,709 - INFO - Epoch 10/20, Batch 220/415, Loss: 0.0022\n"
     ]
    },
    {
     "name": "stderr",
     "output_type": "stream",
     "text": [
      "[2025-10-19 09:37:14,575] [INFO] [Worker ID: 480566]: Processing video 23800/2491...\n"
     ]
    },
    {
     "name": "stdout",
     "output_type": "stream",
     "text": [
      "2025-10-19 09:37:20,314 - INFO - Epoch 10/20, Batch 230/415, Loss: 0.0013\n",
      "2025-10-19 09:37:52,127 - INFO - Epoch 10/20, Batch 240/415, Loss: 0.0014\n"
     ]
    },
    {
     "name": "stderr",
     "output_type": "stream",
     "text": [
      "[2025-10-19 09:38:04,771] [INFO] [Worker ID: 480566]: Processing video 23900/2491...\n"
     ]
    },
    {
     "name": "stdout",
     "output_type": "stream",
     "text": [
      "2025-10-19 09:38:20,281 - INFO - Epoch 10/20, Batch 250/415, Loss: 0.0026\n",
      "2025-10-19 09:38:46,711 - INFO - Epoch 10/20, Batch 260/415, Loss: 0.0025\n"
     ]
    },
    {
     "name": "stderr",
     "output_type": "stream",
     "text": [
      "[2025-10-19 09:38:53,659] [INFO] [Worker ID: 480566]: Processing video 24000/2491...\n"
     ]
    },
    {
     "name": "stdout",
     "output_type": "stream",
     "text": [
      "2025-10-19 09:39:20,718 - INFO - Epoch 10/20, Batch 270/415, Loss: 0.0013\n"
     ]
    },
    {
     "name": "stderr",
     "output_type": "stream",
     "text": [
      "[2025-10-19 09:39:47,882] [INFO] [Worker ID: 480499]: Processing video 24100/2491...\n"
     ]
    },
    {
     "name": "stdout",
     "output_type": "stream",
     "text": [
      "2025-10-19 09:39:57,212 - INFO - Epoch 10/20, Batch 280/415, Loss: 0.0062\n",
      "2025-10-19 09:40:21,697 - INFO - Epoch 10/20, Batch 290/415, Loss: 0.0016\n"
     ]
    },
    {
     "name": "stderr",
     "output_type": "stream",
     "text": [
      "[2025-10-19 09:40:37,499] [INFO] [Worker ID: 480432]: Processing video 24200/2491...\n"
     ]
    },
    {
     "name": "stdout",
     "output_type": "stream",
     "text": [
      "2025-10-19 09:40:53,178 - INFO - Epoch 10/20, Batch 300/415, Loss: 0.0217\n",
      "2025-10-19 09:41:18,608 - INFO - Epoch 10/20, Batch 310/415, Loss: 0.0088\n"
     ]
    },
    {
     "name": "stderr",
     "output_type": "stream",
     "text": [
      "[2025-10-19 09:41:27,183] [INFO] [Worker ID: 480566]: Processing video 24300/2491...\n"
     ]
    },
    {
     "name": "stdout",
     "output_type": "stream",
     "text": [
      "2025-10-19 09:41:53,289 - INFO - Epoch 10/20, Batch 320/415, Loss: 0.0034\n"
     ]
    },
    {
     "name": "stderr",
     "output_type": "stream",
     "text": [
      "[2025-10-19 09:42:17,909] [INFO] [Worker ID: 480566]: Processing video 24400/2491...\n"
     ]
    },
    {
     "name": "stdout",
     "output_type": "stream",
     "text": [
      "2025-10-19 09:42:23,814 - INFO - Epoch 10/20, Batch 330/415, Loss: 0.0040\n",
      "2025-10-19 09:42:49,963 - INFO - Epoch 10/20, Batch 340/415, Loss: 0.0065\n"
     ]
    },
    {
     "name": "stderr",
     "output_type": "stream",
     "text": [
      "[2025-10-19 09:43:02,945] [INFO] [Worker ID: 480432]: Processing video 24500/2491...\n"
     ]
    },
    {
     "name": "stdout",
     "output_type": "stream",
     "text": [
      "2025-10-19 09:43:20,318 - INFO - Epoch 10/20, Batch 350/415, Loss: 0.0034\n",
      "2025-10-19 09:43:48,884 - INFO - Epoch 10/20, Batch 360/415, Loss: 0.0082\n"
     ]
    },
    {
     "name": "stderr",
     "output_type": "stream",
     "text": [
      "[2025-10-19 09:43:50,757] [INFO] [Worker ID: 480566]: Processing video 24600/2491...\n"
     ]
    },
    {
     "name": "stdout",
     "output_type": "stream",
     "text": [
      "2025-10-19 09:44:16,256 - INFO - Epoch 10/20, Batch 370/415, Loss: 0.0076\n"
     ]
    },
    {
     "name": "stderr",
     "output_type": "stream",
     "text": [
      "[2025-10-19 09:44:38,086] [INFO] [Worker ID: 480566]: Processing video 24700/2491...\n"
     ]
    },
    {
     "name": "stdout",
     "output_type": "stream",
     "text": [
      "2025-10-19 09:44:44,595 - INFO - Epoch 10/20, Batch 380/415, Loss: 0.0046\n",
      "2025-10-19 09:45:15,170 - INFO - Epoch 10/20, Batch 390/415, Loss: 0.0082\n"
     ]
    },
    {
     "name": "stderr",
     "output_type": "stream",
     "text": [
      "[2025-10-19 09:45:29,469] [INFO] [Worker ID: 480566]: Processing video 24800/2491...\n"
     ]
    },
    {
     "name": "stdout",
     "output_type": "stream",
     "text": [
      "2025-10-19 09:45:44,659 - INFO - Epoch 10/20, Batch 400/415, Loss: 0.0019\n",
      "2025-10-19 09:46:12,447 - INFO - Epoch 10/20, Batch 410/415, Loss: 0.0026\n"
     ]
    },
    {
     "name": "stderr",
     "output_type": "stream",
     "text": [
      "[2025-10-19 09:46:17,207] [INFO] [Worker ID: 480499]: Processing video 24900/2491...\n",
      "/tmp/ipykernel_14521/1826921583.py:181: FutureWarning: `torch.cuda.amp.autocast(args...)` is deprecated. Please use `torch.amp.autocast('cuda', args...)` instead.\n",
      "  with torch.no_grad(), autocast():\n",
      "[2025-10-19 09:46:39,844] [INFO] [Worker ID: 521534]: Processing video 5600/623...\n",
      "[2025-10-19 09:47:28,802] [INFO] [Worker ID: 521536]: Processing video 5700/623...\n",
      "[2025-10-19 09:48:16,772] [INFO] [Worker ID: 521535]: Processing video 5800/623...\n",
      "[2025-10-19 09:49:04,446] [INFO] [Worker ID: 521535]: Processing video 5900/623...\n",
      "[2025-10-19 09:49:51,045] [INFO] [Worker ID: 521535]: Processing video 6000/623...\n",
      "[2025-10-19 09:50:38,430] [INFO] [Worker ID: 521534]: Processing video 6100/623...\n"
     ]
    },
    {
     "name": "stdout",
     "output_type": "stream",
     "text": [
      "2025-10-19 09:51:20,027 - INFO - Epoch 10: Train Acc: 0.8916, Val Acc: 0.9213, AUC: 0.9419\n",
      "2025-10-19 09:51:49,751 - INFO - Epoch 11/20, Batch 0/415, Loss: 0.0044\n",
      "2025-10-19 09:52:12,199 - INFO - Epoch 11/20, Batch 10/415, Loss: 0.0078\n"
     ]
    },
    {
     "name": "stderr",
     "output_type": "stream",
     "text": [
      "[2025-10-19 09:52:18,177] [INFO] [Worker ID: 532298]: Processing video 25000/2491...\n"
     ]
    },
    {
     "name": "stdout",
     "output_type": "stream",
     "text": [
      "2025-10-19 09:52:45,734 - INFO - Epoch 11/20, Batch 20/415, Loss: 0.0205\n"
     ]
    },
    {
     "name": "stderr",
     "output_type": "stream",
     "text": [
      "[2025-10-19 09:53:09,281] [INFO] [Worker ID: 532224]: Processing video 25100/2491...\n"
     ]
    },
    {
     "name": "stdout",
     "output_type": "stream",
     "text": [
      "2025-10-19 09:53:14,071 - INFO - Epoch 11/20, Batch 30/415, Loss: 0.0036\n",
      "2025-10-19 09:53:47,904 - INFO - Epoch 11/20, Batch 40/415, Loss: 0.0170\n"
     ]
    },
    {
     "name": "stderr",
     "output_type": "stream",
     "text": [
      "[2025-10-19 09:54:01,127] [INFO] [Worker ID: 532092]: Processing video 25200/2491...\n"
     ]
    },
    {
     "name": "stdout",
     "output_type": "stream",
     "text": [
      "2025-10-19 09:54:16,154 - INFO - Epoch 11/20, Batch 50/415, Loss: 0.0038\n",
      "2025-10-19 09:54:41,620 - INFO - Epoch 11/20, Batch 60/415, Loss: 0.0206\n"
     ]
    },
    {
     "name": "stderr",
     "output_type": "stream",
     "text": [
      "[2025-10-19 09:54:49,589] [INFO] [Worker ID: 532298]: Processing video 25300/2491...\n"
     ]
    },
    {
     "name": "stdout",
     "output_type": "stream",
     "text": [
      "2025-10-19 09:55:16,142 - INFO - Epoch 11/20, Batch 70/415, Loss: 0.0043\n"
     ]
    },
    {
     "name": "stderr",
     "output_type": "stream",
     "text": [
      "[2025-10-19 09:55:39,799] [INFO] [Worker ID: 532157]: Processing video 25400/2491...\n"
     ]
    },
    {
     "name": "stdout",
     "output_type": "stream",
     "text": [
      "2025-10-19 09:55:40,416 - INFO - Epoch 11/20, Batch 80/415, Loss: 0.0050\n"
     ]
    }
   ],
   "source": [
    "from sklearn.metrics import roc_curve\n",
    "\n",
    "\n",
    "def evaluate_model(model, val_loader):\n",
    "    \"\"\"Comprehensive model evaluation with multiple metrics including EER\"\"\"\n",
    "    device = torch.device(\"cuda\" if torch.cuda.is_available() else \"cpu\")\n",
    "    model.eval()\n",
    "\n",
    "    all_predictions = []\n",
    "    all_probabilities = []\n",
    "    all_targets = []\n",
    "\n",
    "    with torch.no_grad(), autocast():\n",
    "        for data, targets in val_loader:\n",
    "            data, targets = data.to(device), targets.to(device)\n",
    "            targets = targets.unsqueeze(1)\n",
    "\n",
    "            outputs = model(data)  # Raw logits\n",
    "\n",
    "            probabilities = torch.sigmoid(outputs)\n",
    "            predictions = (probabilities > 0.5).float()\n",
    "\n",
    "            all_predictions.extend(predictions.cpu().numpy())\n",
    "            all_probabilities.extend(probabilities.cpu().numpy())\n",
    "            all_targets.extend(targets.cpu().numpy())\n",
    "\n",
    "    # Calculate comprehensive metrics\n",
    "    accuracy = accuracy_score(all_targets, all_predictions)\n",
    "    auc_score = roc_auc_score(all_targets, all_probabilities)\n",
    "\n",
    "    # Precision-Recall curve\n",
    "    precision, recall, thresholds = precision_recall_curve(\n",
    "        all_targets, all_probabilities\n",
    "    )\n",
    "\n",
    "    # Equal Error Rate (EER) calculation\n",
    "    fpr, tpr, thresh = roc_curve(all_targets, all_probabilities)\n",
    "    fnr = 1 - tpr\n",
    "    eer_threshold = thresh[np.nanargmin(np.absolute(fnr - fpr))]\n",
    "    if np.all(fpr == 0) or np.all(fnr == 0):\n",
    "        eer = 0.5  # Fallback for degenerate cases\n",
    "    else:\n",
    "        eer = fpr[np.nanargmin(np.absolute(fnr - fpr))]\n",
    "\n",
    "    # Plot evaluation metrics\n",
    "    fig, axes = plt.subplots(1, 2, figsize=(12, 5))\n",
    "\n",
    "    # ROC Curve\n",
    "    axes[0].plot(fpr, tpr, label=f\"ROC Curve (AUC = {auc_score:.3f})\")\n",
    "    axes[0].plot([0, 1], [0, 1], \"k--\")\n",
    "    axes[0].set_xlabel(\"False Positive Rate\")\n",
    "    axes[0].set_ylabel(\"True Positive Rate\")\n",
    "    axes[0].set_title(\"ROC Curve\")\n",
    "    axes[0].legend()\n",
    "\n",
    "    # Precision-Recall Curve\n",
    "    axes[1].plot(recall, precision, label=f\"PR Curve\")\n",
    "    axes[1].set_xlabel(\"Recall\")\n",
    "    axes[1].set_ylabel(\"Precision\")\n",
    "    axes[1].set_title(\"Precision-Recall Curve\")\n",
    "    axes[1].legend()\n",
    "\n",
    "    plt.tight_layout()\n",
    "    plt.savefig(\"model_evaluation_metrics.png\", dpi=300, bbox_inches=\"tight\")\n",
    "    plt.show()\n",
    "\n",
    "    print(f\"Model Evaluation Results:\")\n",
    "    print(f\"Accuracy: {accuracy:.4f}\")\n",
    "    print(f\"AUC-ROC: {auc_score:.4f}\")\n",
    "    print(f\"Equal Error Rate (EER): {eer:.4f}\")\n",
    "\n",
    "    return accuracy, auc_score, eer\n",
    "\n",
    "\n",
    "# Main execution code\n",
    "if __name__ == \"__main__\":\n",
    "    # Explicitly tells CUDA to use the 'spawn' start method\n",
    "    multiprocessing.set_start_method(\"spawn\", force=True)\n",
    "\n",
    "    logging.info(\"Initializing deepfake detection model...\")\n",
    "\n",
    "    # Setup data loaders\n",
    "    train_loader, val_loader, pos_weight = setup_training()\n",
    "\n",
    "    # Initialize model\n",
    "    model = DeepfakeDetector(num_frames=15, backbone=\"efficientnet_b4\")\n",
    "\n",
    "    logging.info(\"Starting model training...\")\n",
    "    train_losses, val_losses, train_accs, val_accs = train_model(\n",
    "        model, train_loader, val_loader, pos_weight, num_epochs=20, patience=5\n",
    "    )\n",
    "    # Plot the training and validation loss\n",
    "    plt.figure(figsize=(10, 5))\n",
    "    plt.plot(range(1, len(train_losses) + 1), train_losses, label=\"Training Loss\")\n",
    "    plt.plot(range(1, len(val_losses) + 1), val_losses, label=\"Validation Loss\")\n",
    "    plt.xlabel(\"Epoch\")\n",
    "    plt.ylabel(\"Loss\")\n",
    "    plt.title(\"Training and Validation Loss Over Epochs\")\n",
    "    plt.legend()\n",
    "    plt.grid(True)\n",
    "    plt.savefig(\"loss_curves.png\")\n",
    "    plt.show()\n",
    "\n",
    "    logging.info(\"Evaluating model performance...\")\n",
    "    accuracy, auc_score, eer = evaluate_model(model, val_loader)\n",
    "\n",
    "    # Save final model\n",
    "    torch.save(model.state_dict(), \"models/deepfake_detector_model.pth\")\n",
    "    logging.info(\"Model saved successfully!\")"
   ]
  }
 ],
 "metadata": {
  "kaggle": {
   "accelerator": "gpu",
   "dataSources": [
    {
     "datasetId": 8301318,
     "sourceId": 13105087,
     "sourceType": "datasetVersion"
    },
    {
     "datasetId": 8301820,
     "sourceId": 13105799,
     "sourceType": "datasetVersion"
    },
    {
     "sourceId": 266035024,
     "sourceType": "kernelVersion"
    }
   ],
   "dockerImageVersionId": 31090,
   "isGpuEnabled": true,
   "isInternetEnabled": true,
   "language": "python",
   "sourceType": "notebook"
  },
  "kernelspec": {
   "display_name": "Python 3 (ipykernel)",
   "language": "python",
   "name": "python3"
  },
  "language_info": {
   "codemirror_mode": {
    "name": "ipython",
    "version": 3
   },
   "file_extension": ".py",
   "mimetype": "text/x-python",
   "name": "python",
   "nbconvert_exporter": "python",
   "pygments_lexer": "ipython3",
   "version": "3.11.9"
  }
 },
 "nbformat": 4,
 "nbformat_minor": 4
}
